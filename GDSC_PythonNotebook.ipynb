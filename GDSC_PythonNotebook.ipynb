{
  "nbformat": 4,
  "nbformat_minor": 0,
  "metadata": {
    "colab": {
      "provenance": [],
      "authorship_tag": "ABX9TyN1kU4KF1a6zjkiPANx0EU0",
      "include_colab_link": true
    },
    "kernelspec": {
      "name": "python3",
      "display_name": "Python 3"
    },
    "language_info": {
      "name": "python"
    }
  },
  "cells": [
    {
      "cell_type": "markdown",
      "metadata": {
        "id": "view-in-github",
        "colab_type": "text"
      },
      "source": [
        "<a href=\"https://colab.research.google.com/github/Burhan2409/GDSC_PythonNotebook/blob/main/GDSC_PythonNotebook.ipynb\" target=\"_parent\"><img src=\"https://colab.research.google.com/assets/colab-badge.svg\" alt=\"Open In Colab\"/></a>"
      ]
    },
    {
      "cell_type": "markdown",
      "source": [
        "# Python Programming Language\n",
        "\n",
        "1. Python's a user-friendly, versatile language loved for its simple, readable syntax.\n",
        "2. Powerful yet beginner-friendly, it excels in web development, data science, and AI.\n",
        "3. Its vast libraries let you tackle diverse tasks, from automation to machine learning.\n",
        "4. Interpreted and dynamically typed, it allows for rapid prototyping and quick fixes.\n",
        "5. A thriving community and extensive learning resources ensure your growth journey's smooth."
      ],
      "metadata": {
        "id": "4IhKcdpOaMNF"
      }
    },
    {
      "cell_type": "markdown",
      "source": [
        "### Basic of Python\n",
        "\n",
        "1. Variables\n",
        "2. Print() statement and Formatting\n",
        "2. Data Types\n",
        "3. Operator\n",
        "4. Type Casting & Exception Handling\n",
        "4. Control Flow\n",
        "5. Function\n",
        "6. Data Structures\n"
      ],
      "metadata": {
        "id": "2iDNl7s5av-B"
      }
    },
    {
      "cell_type": "markdown",
      "source": [
        "\n",
        "\n",
        "### Variables in Python\n",
        "\n",
        "\n",
        "<p> In Python, variables are like <b>named boxes</b> that store data values. They act as essential building blocks for managing information within your code.</p>\n",
        "\n",
        "Some rules for declaring a Variable in Python :\n",
        "\n",
        "1. Create variables simply by assigning a value to them using the `=` operator.\n",
        "2. Python is case-sensitive, meaning name and Name are distinct variables.\n",
        "3. Dynamic Typing: `number = 10` creates an integer variable, but `number = \"hello\"` later reassigns it as a string.\n",
        "4. Must start with a letter or underscore (_)."
      ],
      "metadata": {
        "id": "p36GucIhdDdy"
      }
    },
    {
      "cell_type": "code",
      "source": [
        "name = 'Jason' # assigning name with Jason in single qoutes\n",
        "Name = \"Jason\" # assigning Name with Jason in double quotes\n",
        "\n",
        "age = 21 #integer variable assignment\n",
        "weight = 76.50 #float variable assignment\n",
        "\n",
        "FirstName_SurName = 'Jason Doe' #use of underscore in variable\n",
        "\n",
        "_name = 'Rahul'"
      ],
      "metadata": {
        "id": "lQtQDhvTapHa"
      },
      "execution_count": null,
      "outputs": []
    },
    {
      "cell_type": "code",
      "source": [
        "name = 'Jason' # assigning name with Jason in single qoutes\n",
        "Name = \"Jason\" # assigning Name with Jason in double quotes\n",
        "\n",
        "age = 21 #integer variable assignment\n",
        "weight = 76.50 #float variable assignment\n",
        "\n",
        "FirstName_SurName = 'Jason Doe' #use of underscore in variable\n",
        "\n",
        "_name = 'Rahul'"
      ],
      "metadata": {
        "id": "_Du_VDMiJZ-u"
      },
      "execution_count": null,
      "outputs": []
    },
    {
      "cell_type": "code",
      "source": [
        "name = \"Rahul\"\n",
        "\n",
        ".age = 45"
      ],
      "metadata": {
        "colab": {
          "base_uri": "https://localhost:8080/",
          "height": 140
        },
        "id": "wBJaI7-Ff7kC",
        "outputId": "9771b970-f2d2-4024-8805-53b2eb69d2ec"
      },
      "execution_count": null,
      "outputs": [
        {
          "output_type": "error",
          "ename": "SyntaxError",
          "evalue": "invalid syntax (<ipython-input-185-0df1b3a59280>, line 3)",
          "traceback": [
            "\u001b[0;36m  File \u001b[0;32m\"<ipython-input-185-0df1b3a59280>\"\u001b[0;36m, line \u001b[0;32m3\u001b[0m\n\u001b[0;31m    .age = 45\u001b[0m\n\u001b[0m    ^\u001b[0m\n\u001b[0;31mSyntaxError\u001b[0m\u001b[0;31m:\u001b[0m invalid syntax\n"
          ]
        }
      ]
    },
    {
      "cell_type": "markdown",
      "source": [
        "### Print() statement and Formatting\n",
        "\n",
        "The `print()` function displays output to the console or terminal.\n",
        "\n",
        "The syntax of print statement : <br>\n",
        "`print(*objects, sep=' ', end='\\n', file=sys.stdout, flush=False)`"
      ],
      "metadata": {
        "id": "gcX_ErtWgbko"
      }
    },
    {
      "cell_type": "code",
      "source": [
        "print(\"Hello World\") # printing Hello World\n",
        "\n",
        "print('My name is Jason.',\"Doe is his Surname\",sep=' ') # sep method is use to sep two text from each other\n",
        "\n",
        "print('Jason Doe is an Engineer.', end=\" \") # end method is use to define how the text or value should end with.\n",
        "print('He is a Brillant kid.')"
      ],
      "metadata": {
        "colab": {
          "base_uri": "https://localhost:8080/"
        },
        "id": "H1KCUSaKgAMI",
        "outputId": "f0a219fc-9ce6-45d8-bf45-02f27181711a"
      },
      "execution_count": null,
      "outputs": [
        {
          "output_type": "stream",
          "name": "stdout",
          "text": [
            "Hello World\n",
            "My name is Jason. Doe is his Surname\n",
            "Jason Doe is an Engineer. He is a Brillant kid.\n"
          ]
        }
      ]
    },
    {
      "cell_type": "code",
      "source": [
        "FirstName = 'Jason'\n",
        "LastName = \"Doe\"\n",
        "age = 25\n",
        "\n",
        "print(\"My name is \"+ FirstName , LastName +\" and my age is \"+ str(age))\n",
        "\n",
        "# # 2. print(f\"My name is {FirstName} {LastName} and my age is {age}\") # f-string method of formatting\n",
        "\n",
        "# print(\"My name is {1} {2} and my age is {3}\".format(FirstName,LastName,age)) # format method of formatting"
      ],
      "metadata": {
        "id": "LVv8e70OiHpO",
        "colab": {
          "base_uri": "https://localhost:8080/"
        },
        "outputId": "aa0ec672-e70e-4a02-b696-5b476429a8b8"
      },
      "execution_count": null,
      "outputs": [
        {
          "output_type": "stream",
          "name": "stdout",
          "text": [
            "My name is Jason Doe and my age is 25\n"
          ]
        }
      ]
    },
    {
      "cell_type": "markdown",
      "source": [
        "### Data Types in Python\n",
        "\n",
        "1. Number\n",
        "2. String\n",
        "3. Boolean\n",
        "\n",
        "### Advanced Data Types\n",
        "1. List\n",
        "2. Tuples\n",
        "3. Set\n",
        "4. Dictonary\n",
        "\n",
        "\n",
        "\n",
        "\n",
        "\n",
        "\n",
        "\n",
        "\n",
        "\n"
      ],
      "metadata": {
        "id": "zvYjhyNxkPz0"
      }
    },
    {
      "cell_type": "markdown",
      "source": [
        "### Number"
      ],
      "metadata": {
        "id": "YwSd8VdsmrJG"
      }
    },
    {
      "cell_type": "code",
      "source": [
        "# Integers\n",
        "age = 30\n",
        "print(\"Integer:\", age)\n",
        "\n",
        "# Floats\n",
        "price = 19.99\n",
        "print(\"Float:\", price)\n",
        "\n",
        "# Complex numbers\n",
        "z = 1 + 2j\n",
        "print(\"Complex number:\", z)"
      ],
      "metadata": {
        "colab": {
          "base_uri": "https://localhost:8080/"
        },
        "id": "aejJ1NxFjTMM",
        "outputId": "3bbb398c-2ed8-4479-b7f7-e719f98c5397"
      },
      "execution_count": null,
      "outputs": [
        {
          "output_type": "stream",
          "name": "stdout",
          "text": [
            "Integer: 30\n",
            "Float: 19.99\n",
            "Complex number: (1+2j)\n"
          ]
        }
      ]
    },
    {
      "cell_type": "markdown",
      "source": [
        "### String"
      ],
      "metadata": {
        "id": "PzE4VsG4m9JP"
      }
    },
    {
      "cell_type": "code",
      "source": [
        "# String with single quotes\n",
        "name = 'Alice'\n",
        "print(\"String with single quotes:\", name)\n",
        "\n",
        "# String with double quotes\n",
        "greeting = \"Hello, world!\"\n",
        "print(\"String with double quotes:\", greeting)\n",
        "\n",
        "# Multiline string with triple quotes\n",
        "multiline_string = \"\"\"This is a multiline string\n",
        "written with triple quotes.\n",
        "\"\"\"\n",
        "print(\"Multiline string:\")\n",
        "print(multiline_string)"
      ],
      "metadata": {
        "colab": {
          "base_uri": "https://localhost:8080/"
        },
        "id": "LyGv1ZX5mUP0",
        "outputId": "02a9e65c-f38b-45ac-8796-6b0b91503641"
      },
      "execution_count": null,
      "outputs": [
        {
          "output_type": "stream",
          "name": "stdout",
          "text": [
            "String with single quotes: Alice\n",
            "String with double quotes: Hello, world!\n",
            "Multiline string:\n",
            "This is a multiline string\n",
            "written with triple quotes.\n",
            "\n"
          ]
        }
      ]
    },
    {
      "cell_type": "markdown",
      "source": [
        "### Common String Methods :\n",
        "\n",
        "1. Concatenation\n",
        "2. Indexing and Slicing\n",
        "3. Iteration\n",
        "4. Membership Checking\n",
        "5. `upper()` and `lower()`\n",
        "6. `strip()` and `split()`\n",
        "7. `join()` , `find()` and `replace()`\n",
        "8. `startswith()` and `endswith()`\n",
        "9. `count()` and `format()`"
      ],
      "metadata": {
        "id": "B6KscQgonwgL"
      }
    },
    {
      "cell_type": "code",
      "source": [
        "# 1 : Concatenation\n",
        "\n",
        "message1 = \"Hello\"\n",
        "message2 = \"world!\"\n",
        "combined_message = message1 + \" \" + message2\n",
        "print(f\"Concatenated message: {combined_message}\")"
      ],
      "metadata": {
        "colab": {
          "base_uri": "https://localhost:8080/"
        },
        "id": "0okJkikNoxX1",
        "outputId": "48cee1cd-e4b2-4f41-89d3-1f5ad2c67d2b"
      },
      "execution_count": null,
      "outputs": [
        {
          "output_type": "stream",
          "name": "stdout",
          "text": [
            "Concatenated message: Hello world!\n"
          ]
        }
      ]
    },
    {
      "cell_type": "code",
      "source": [
        "# 2 : Indexing and Slicing\n",
        "\n",
        "# Indexing:\n",
        "# Think of each character having a unique index number, starting from 0.\n",
        "# Use string[index] to access the character at that position.\n",
        "# Negative indices count backwards from the end (e.g., -1 refers to the last character).\n",
        "\n",
        "# Slicing:\n",
        "# Use string[start:end] to extract a substring.\n",
        "# Both start and end (excluding) define the range of characters you want.\n",
        "# You can omit either start or end to use default values (0 or the string length).\n",
        "# Negative indices can also be used in slicing for backwards navigation.\n",
        "\n",
        "first_letter = message1[0]\n",
        "last_word = message2[-2:]\n",
        "substring = message1[2:5]\n",
        "print(f\"First letter: {first_letter}, Last word: {last_word}, Substring: {substring}\")\n"
      ],
      "metadata": {
        "colab": {
          "base_uri": "https://localhost:8080/"
        },
        "id": "sib4_b9FqdQu",
        "outputId": "2913a669-b538-4d07-e11b-bfdf6bc43c5b"
      },
      "execution_count": null,
      "outputs": [
        {
          "output_type": "stream",
          "name": "stdout",
          "text": [
            "First letter: H, Last word: d!, Substring: llo\n"
          ]
        }
      ]
    },
    {
      "cell_type": "code",
      "source": [
        "# 3 : Iteration\n",
        "\n",
        "for char in message2:\n",
        "    print(char)"
      ],
      "metadata": {
        "colab": {
          "base_uri": "https://localhost:8080/"
        },
        "id": "FyzNGKj6qdMk",
        "outputId": "771ac9e3-89a4-41fd-d418-c92a3c381325"
      },
      "execution_count": null,
      "outputs": [
        {
          "output_type": "stream",
          "name": "stdout",
          "text": [
            "w\n",
            "o\n",
            "r\n",
            "l\n",
            "d\n",
            "!\n"
          ]
        }
      ]
    },
    {
      "cell_type": "code",
      "source": [
        "# 4 : Membership Checking\n",
        "\n",
        "is_present = \"o\" in message1\n",
        "print(f\"Is 'o' present in message1? {is_present}\")"
      ],
      "metadata": {
        "colab": {
          "base_uri": "https://localhost:8080/"
        },
        "id": "v5e9dSHkqdJk",
        "outputId": "ca2550de-f098-45e4-f6f3-3bab92a9b069"
      },
      "execution_count": null,
      "outputs": [
        {
          "output_type": "stream",
          "name": "stdout",
          "text": [
            "Is 'o' present in message1? True\n"
          ]
        }
      ]
    },
    {
      "cell_type": "code",
      "source": [
        "# strip():\n",
        "# Removes leading and trailing whitespace (spaces, tabs, newlines) from a string.\n",
        "# Useful for cleaning user input or data with inconsistent formatting.\n",
        "\n",
        "# split():\n",
        "# Splits a string into a list of smaller strings based on a delimiter (e.g., whitespace, comma).\n",
        "# Useful for parsing text data or separating individual elements.\n",
        "\n",
        "example_text = \"   Jason Doe is a good boy. He studies in a School.    \"\n",
        "\n",
        "upper_message = message1.upper()\n",
        "lower_message = message2.lower()\n",
        "stripped_message = example_text.strip()\n",
        "split_words = example_text.split()\n",
        "print(f\"Uppercase: {upper_message},\\n Lowercase: {lower_message},\\n Stripped: {stripped_message},\\n Split words: {split_words}\")\n",
        "\n"
      ],
      "metadata": {
        "colab": {
          "base_uri": "https://localhost:8080/"
        },
        "id": "Tx1ryJwfqdG8",
        "outputId": "3b9b5b64-9d80-4bb2-d494-df8f68b15acf"
      },
      "execution_count": null,
      "outputs": [
        {
          "output_type": "stream",
          "name": "stdout",
          "text": [
            "Uppercase: HELLO,\n",
            " Lowercase: world!,\n",
            " Stripped: Jason Doe is a good boy. He studies in a School.,\n",
            " Split words: ['Jason', 'Doe', 'is', 'a', 'good', 'boy.', 'He', 'studies', 'in', 'a', 'School.']\n"
          ]
        }
      ]
    },
    {
      "cell_type": "code",
      "source": [
        "joined_message = \" \".join(split_words)\n",
        "index = message1.find(\"l\")\n",
        "\n",
        "print(f\"Joined words: {joined_message}, Index of 'l': {index}\")"
      ],
      "metadata": {
        "colab": {
          "base_uri": "https://localhost:8080/"
        },
        "id": "IoyZvX35qdDC",
        "outputId": "482bf894-c882-42e5-9162-9301507b77f0"
      },
      "execution_count": null,
      "outputs": [
        {
          "output_type": "stream",
          "name": "stdout",
          "text": [
            "Joined words: Jason Doe is a good boy. He studies in a School., Index of 'l': 2\n"
          ]
        }
      ]
    },
    {
      "cell_type": "code",
      "source": [
        "replaced_message = message1.replace(\"l\", \"L\")\n",
        "starts_with = message2.startswith(\"E\")\n",
        "ends_with = message2.endswith(\"!\")\n",
        "print(f\"Replaced message: {replaced_message},\\n Starts with 'w': {starts_with},\\n Ends with '!': {ends_with}\")\n"
      ],
      "metadata": {
        "colab": {
          "base_uri": "https://localhost:8080/"
        },
        "id": "yqLXSLQ0qc1r",
        "outputId": "ac2b37d3-3737-4159-9445-e4fae4212586"
      },
      "execution_count": null,
      "outputs": [
        {
          "output_type": "stream",
          "name": "stdout",
          "text": [
            "Replaced message: HeLLo,\n",
            " Starts with 'w': False,\n",
            " Ends with '!': True\n"
          ]
        }
      ]
    },
    {
      "cell_type": "markdown",
      "source": [
        "### Boolean"
      ],
      "metadata": {
        "id": "pc5x1B3bnB02"
      }
    },
    {
      "cell_type": "code",
      "source": [
        "# True\n",
        "is_active = True\n",
        "print(\"True:\", is_active)\n",
        "\n",
        "# False\n",
        "is_available = False\n",
        "print(\"False:\", is_available)\n",
        "\n",
        "# Checking conditions\n",
        "print(\"Checking if 10 is greater than 5:\", 10 > 5)  # Outputs True"
      ],
      "metadata": {
        "colab": {
          "base_uri": "https://localhost:8080/"
        },
        "id": "79jesaufmf_J",
        "outputId": "764b3876-31c3-438e-df89-abf925691091"
      },
      "execution_count": null,
      "outputs": [
        {
          "output_type": "stream",
          "name": "stdout",
          "text": [
            "True: True\n",
            "False: False\n",
            "Checking if 10 is greater than 5: True\n"
          ]
        }
      ]
    },
    {
      "cell_type": "markdown",
      "source": [
        "### Advanced Data Types\n",
        "\n"
      ],
      "metadata": {
        "id": "rlvWPyJXmu8b"
      }
    },
    {
      "cell_type": "markdown",
      "source": [
        "#### List\n",
        "\n",
        "1. Ordered collections of items, like a shopping list.\n",
        "2. Enclosed in square brackets [].\n",
        "3. Mutable, meaning their contents can be changed after creation.\n",
        "4. Can hold items of different data types.\n",
        "\n",
        "Common List Methods:\n",
        "\n",
        "1. Creating and Accessing:\n",
        "\n",
        "Create lists using square brackets: `my_list = [1, 2, 3, \"apple\"]`\n",
        "Access elements by index: `first_item = my_list[0]`\n",
        "\n",
        "2. Modifying:\n",
        "\n",
        "Change elements: `my_list[1] = \"banana\"`\n",
        "Add elements: `my_list.append(\"orange\")`\n",
        "Insert elements: `my_list.insert(2, \"mango\")`\n",
        "Remove elements: `my_list.remove(\"apple\")`\n",
        "Pop elements: `last_item = my_list.pop()`\n",
        "\n",
        "3. Finding and Counting:\n",
        "\n",
        "Find index of an item: `index = my_list.index(\"mango\")`\n",
        "Count occurrences of an item: `count = my_list.count(\"orange\")`\n",
        "\n",
        "4. Organizing:\n",
        "\n",
        "Sort in ascending order: `my_list.sort()`\n",
        "Reverse the order: `my_list.reverse()`\n",
        "\n",
        "5. Other Useful Methods:\n",
        "\n",
        "Get length: length = `len(my_list)`\n",
        "Check membership: is_present = `\"orange\" in my_list`\n",
        "Create a copy: new_list = `my_list.copy()`\n",
        "Clear all items: `my_list.clear()`"
      ],
      "metadata": {
        "id": "vomIpLl-nUmh"
      }
    },
    {
      "cell_type": "code",
      "source": [
        "# Creating a list\n",
        "fruits = [\"apple\", \"banana\", \"orange\"]\n",
        "\n",
        "# Accessing elements\n",
        "first_fruit = fruits[0]  # \"apple\"\n",
        "last_fruit = fruits[-1]  # \"orange\"\n",
        "\n",
        "# Modifying elements\n",
        "fruits[1] = \"mango\"\n",
        "fruits.append(\"grape\") # -> adding new things from the back after the creation of the list.\n",
        "\n",
        "# Finding and counting\n",
        "index = fruits.index(\"mango\")  # 1\n",
        "count = fruits.count(\"orange\")  # 1\n",
        "\n",
        "# Organizing\n",
        "fruits.sort()  # [\"apple\", \"grape\", \"mango\", \"orange\"]\n",
        "fruits.reverse()  # [\"orange\", \"mango\", \"grape\", \"apple\"]\n",
        "\n",
        "# Other methods\n",
        "length = len(fruits)  # 4\n",
        "is_present = \"banana\" in fruits  # False\n",
        "new_list = fruits.copy()\n",
        "# fruits.clear()\n",
        "\n",
        "# print(fruits.sort())\n",
        "fruits\n",
        "# print(fruits.sort())"
      ],
      "metadata": {
        "colab": {
          "base_uri": "https://localhost:8080/"
        },
        "id": "qKCCah16mnBq",
        "outputId": "6bafb4a2-df83-4bb8-effd-7fd0c58508a4"
      },
      "execution_count": null,
      "outputs": [
        {
          "output_type": "stream",
          "name": "stdout",
          "text": [
            "None\n"
          ]
        }
      ]
    },
    {
      "cell_type": "markdown",
      "source": [
        "#### Set\n",
        "\n",
        "1. Unordered collections of unique elements, like a bag of marbles without duplicates.\n",
        "2. Created using curly braces {} or the set() function.\n",
        "3. Mutable, meaning their contents can be changed after creation.\n",
        "4. Can hold any immutable data type (numbers, strings, tuples).\n",
        "\n",
        "Common Set Methods:\n",
        "\n",
        "1. Creating and Adding:\n",
        "\n",
        "Create empty sets: my_set = set()<br><br>\n",
        "Create sets with elements: fruits = {\"apple\", \"banana\", \"orange\"}<br><br>\n",
        "Add elements: my_set.add(\"new_element\")<br><br>\n",
        "\n",
        "2. Removing:\n",
        "\n",
        "Remove specific elements: fruits.remove(\"banana\") # Raises an error if not found\n",
        "<br><br>Discard elements (no error if not found): fruits.discard(\"mango\")\n",
        "<br><br>Remove and return an arbitrary element: removed_item = my_set.pop()\n",
        "\n",
        "3. Membership and Operations:\n",
        "\n",
        "Check membership:<br> `is_present = \"apple\" in fruits`<br><br>\n",
        "Union (combine sets):<br> `all_fruits = fruits | {\"grape\", \"mango\"}`<br><br>\n",
        "Intersection (common elements): <br> `common_fruits = fruits & {\"apple\", \"mango\"}` <br><br>\n",
        "Difference (elements in one set but not the other): `unique_fruits = fruits - {\"apple\"}`<br><br>\n",
        "Symmetric difference (elements in either set but not both): <br>\n",
        "`diff_fruits = fruits ^ {\"apple\", \"mango\"}`\n",
        "\n",
        "4. Other Useful Methods:\n",
        "\n",
        "Get length: length = `len(my_set)`<br><br>\n",
        "Clear all elements: `my_set.clear()`"
      ],
      "metadata": {
        "id": "RIUZaDh2v5Mi"
      }
    },
    {
      "cell_type": "code",
      "source": [
        "# Creating sets\n",
        "numbers = {1, 2, 2, 3}  # Duplicates are automatically removed\n",
        "letters = set(\"hello\")  # Create a set from a string\n",
        "\n",
        "# Adding elements\n",
        "numbers.add(4)\n",
        "\n",
        "# Removing elements\n",
        "letters.remove(\"l\")\n",
        "letters.discard(\"o\")  # No error if \"o\" is not present\n",
        "\n",
        "# Membership and operations\n",
        "is_even = 2 in numbers\n",
        "all_items = numbers | letters\n",
        "common_items = numbers & letters\n",
        "\n",
        "# Other methods\n",
        "length = len(numbers)\n",
        "# numbers.clear()\n"
      ],
      "metadata": {
        "id": "HsEXBqI9xCVZ"
      },
      "execution_count": null,
      "outputs": []
    },
    {
      "cell_type": "markdown",
      "source": [
        "#### Tuple\n",
        "\n",
        "1. Ordered, immutable sequences of elements, like a fixed recipe.\n",
        "2. Created using parentheses () or without any delimiters.\n",
        "3. Cannot be changed after creation, ensuring data integrity.\n",
        "4. Can hold items of different data types.\n",
        "\n",
        "Common Tuple Methods:\n",
        "\n",
        "1. Creating and Accessing:\n",
        "\n",
        "Create tuples: <br> `my_tuple = (1, 2, \"apple\")` or `my_tuple = 1, 2, \"apple\"`\n",
        "<br>\n",
        "Access elements by index: <br>\n",
        "`first_item = my_tuple[0]`\n",
        "\n",
        "2. Immutability:\n",
        "\n",
        "Tuples cannot be modified directly. Attempting to change an element raises an error.\n",
        "3. Counting and Membership:\n",
        "\n",
        "Count occurrences of an item: <br>\n",
        "`count = my_tuple.count(\"apple\")`\n",
        "<br>\n",
        "Check membership: <br>\n",
        "`is_present = 2 in my_tuple`\n",
        "4. Indexing:\n",
        "\n",
        "Find index of the first occurrence of an item: index = <br>\n",
        "`my_tuple.index(\"apple\")`"
      ],
      "metadata": {
        "id": "xXNRL_C4xRN2"
      }
    },
    {
      "cell_type": "code",
      "source": [
        "# Creating tuples\n",
        "coordinates = (10, 20)\n",
        "shopping_list = \"bread\", \"milk\", \"eggs\"  # Tuple without parentheses\n",
        "\n",
        "# Accessing elements\n",
        "x_coord = coordinates[0]  # 10 # indexing 0th value\n",
        "last_item = shopping_list[-1]  # \"eggs\"\n",
        "\n",
        "# Attempting to modify (raises an error)\n",
        "# coordinates[1] = 30  # TypeError: 'tuple' object does not support item assignment\n",
        "\n",
        "# Counting and membership\n",
        "apple_count = shopping_list.count(\"apple\")  # 1\n",
        "is_banana_present = \"banana\" in shopping_list  # False\n",
        "\n",
        "# Indexing\n",
        "apple_index = shopping_list.index(\"eggs\")  # 2\n",
        "\n",
        "print(x_coord)\n",
        "print(apple_index)\n"
      ],
      "metadata": {
        "colab": {
          "base_uri": "https://localhost:8080/"
        },
        "id": "hVzThIpZM6MM",
        "outputId": "851c120c-ee47-4338-ba12-8270abfd7982"
      },
      "execution_count": null,
      "outputs": [
        {
          "output_type": "stream",
          "name": "stdout",
          "text": [
            "10\n",
            "2\n"
          ]
        }
      ]
    },
    {
      "cell_type": "markdown",
      "source": [
        "#### Dictonary\n",
        "\n",
        "1. Unordered collections of key-value pairs, like a labeled filing cabinet.\n",
        "2. Created using curly braces {}.\n",
        "3. Mutable, meaning you can add, remove, or modify key-value pairs after creation.\n",
        "4. Keys must be unique and immutable (like strings, numbers, or tuples).\n",
        "5. Values can be of any data type.\n",
        "\n",
        "Common Dictionary Methods:\n",
        "\n",
        "1. Creating and Accessing:\n",
        "\n",
        "Create empty dictionaries: `my_dict = {}` <br>\n",
        "\n",
        "Create dictionaries with key-value pairs: <br>\n",
        "`user = {\"name\": \"Alice\", \"age\": 30}`\n",
        "\n",
        "Access values by key: name = <br>\n",
        "`user[\"name\"]`\n",
        "\n",
        "2. Adding and Modifying:\n",
        "\n",
        "Add new key-value pairs:<br>\n",
        "`user[\"email\"] = \"alice@example.com\"`\n",
        "\n",
        "Modify existing values:<br>\n",
        "`user[\"age\"] = 31`\n",
        "\n",
        "3. Removing:\n",
        "\n",
        "Remove specific key-value pairs: <br>\n",
        "`user.pop(\"email\")`\n",
        "\n",
        "Remove and return an arbitrary key-value pair: <br>\n",
        "`removed_item = my_dict.popitem()`\n",
        "\n",
        "Clear all key-value pairs: <br>\n",
        "`my_dict.clear()`\n",
        "\n",
        "4. Membership and Operations:\n",
        "\n",
        "Check if a key exists: <br>\n",
        "`is_present = \"name\" in user`<br>\n",
        "Get all keys: keys =<br>\n",
        "`user.keys()`<br>\n",
        "Get all values: values = <br>\n",
        "`user.values()`<br>\n",
        "Get all key-value pairs as tuples: <br>\n",
        "`items = user.items()`<br>\n",
        "5. Other Useful Methods:\n",
        "\n",
        "Get length (number of key-value pairs):<br>\n",
        "`length = len(my_dict)`<br>\n",
        "Get a value with a default if the key doesn't exist: <br>\n",
        "`age = user.get(\"age\", 25)`<br>"
      ],
      "metadata": {
        "id": "_QLhb4hdRv_Y"
      }
    },
    {
      "cell_type": "code",
      "source": [
        "# Creating dictionaries\n",
        "phonebook = {}\n",
        "fruit_prices = {\"apple\": 1.50, \"banana\": 0.75}\n",
        "\n",
        "# Accessing values\n",
        "price = fruit_prices[\"apple\"]  # 1.50\n",
        "\n",
        "# Adding and modifying\n",
        "phonebook[\"Alice\"] = \"123-4567\"\n",
        "fruit_prices[\"orange\"] = 2.00\n",
        "\n",
        "# Removing\n",
        "phonebook.pop(\"Alice\")\n",
        "\n",
        "# Membership and operations\n",
        "is_apple_priced = \"apple\" in fruit_prices  # True\n",
        "all_keys = fruit_prices.keys()  # Returns a view of keys\n",
        "all_items = fruit_prices.items()  # Returns a view of key-value pairs\n",
        "\n",
        "# Other methods\n",
        "length = len(phonebook)\n",
        "default_age = phonebook.get(\"Bob\", 35)  # Returns 35 if \"Bob\" is not found\n"
      ],
      "metadata": {
        "id": "5NNhIMjfNKBE"
      },
      "execution_count": null,
      "outputs": []
    },
    {
      "cell_type": "markdown",
      "source": [
        "### Operators in Python\n",
        "\n",
        "1. Arithmetic Operator\n",
        "2. Comparision Operator\n",
        "3. Logical Operator\n",
        "4. Assignment Operator\n",
        "5. Membership Operator\n",
        "6. Identity Operator"
      ],
      "metadata": {
        "id": "HTHrVN51b55o"
      }
    },
    {
      "cell_type": "markdown",
      "source": [
        "#### Arithmetic Operator\n",
        "\n",
        "1. Perform basic mathematical calculations.\n",
        "\n",
        "`+` (addition) <br>\n",
        "`-` (subtraction) <br>\n",
        "`*` (multiplication) <br>\n",
        "`/` (division) <br>\n",
        "`//` (floor division) <br>\n",
        "`%` (modulo) <br>\n",
        "`**` (exponentiation)"
      ],
      "metadata": {
        "id": "D_YR5vCrca5C"
      }
    },
    {
      "cell_type": "code",
      "source": [
        "a = 10\n",
        "b = 3\n",
        "sum = a + b  # 13\n",
        "difference = a - b  # 7\n",
        "product = a * b  # 30\n",
        "quotient = a / b  # 3.3333333333333335 (floating-point division)\n",
        "integer_quotient = a // b  # 3 (floor division, discarding remainder)\n",
        "remainder = a % b  # 1\n",
        "power = a ** b  # 1000 (10 raised to the power of 3)\n",
        "\n",
        "print(sum)\n",
        "print(difference)\n",
        "print(product)\n"
      ],
      "metadata": {
        "colab": {
          "base_uri": "https://localhost:8080/"
        },
        "id": "p7Qf2qsUZ31m",
        "outputId": "26427d80-c094-466e-81ad-56d9c7210dbb"
      },
      "execution_count": null,
      "outputs": [
        {
          "output_type": "stream",
          "name": "stdout",
          "text": [
            "13\n",
            "7\n",
            "30\n"
          ]
        }
      ]
    },
    {
      "cell_type": "markdown",
      "source": [
        "#### Comparision Operator\n",
        "\n",
        "1. Compare values and return True or False.\n",
        "\n",
        "2. Different types : <br>\n",
        "`==` (equal to) <br>\n",
        "`!=` (not equal to) <br>\n",
        "`>` (greater than) <br>\n",
        "`<` (less than) <br>\n",
        "`>=` (greater than or equal to) <br>\n",
        "`<=` (less than or equal to)"
      ],
      "metadata": {
        "id": "U-v8KWdwc8YK"
      }
    },
    {
      "cell_type": "code",
      "source": [
        "x = 5\n",
        "y = 7\n",
        "is_equal = x == y  # False\n",
        "is_not_equal = x != y  # True\n",
        "is_greater = x > y  # False\n",
        "is_less = x < y  # True\n",
        "\n",
        "print(is_equal)"
      ],
      "metadata": {
        "colab": {
          "base_uri": "https://localhost:8080/"
        },
        "id": "wUf4BeNbc5fw",
        "outputId": "3dee303e-a3e3-4e10-ca8c-633005ff2719"
      },
      "execution_count": null,
      "outputs": [
        {
          "output_type": "stream",
          "name": "stdout",
          "text": [
            "False\n"
          ]
        }
      ]
    },
    {
      "cell_type": "markdown",
      "source": [
        "#### Logical Operator\n",
        "\n",
        "1. Combine Boolean expressions (True or False values).<br>\n",
        "\n",
        "* `and`, `or`, `not`"
      ],
      "metadata": {
        "id": "NH1qDhK0ddgA"
      }
    },
    {
      "cell_type": "code",
      "source": [
        "is_raining = True #1\n",
        "is_sunny = False #0\n",
        "should_bring_umbrella = is_raining and not is_sunny  # True  #1 & ~0 = True\n"
      ],
      "metadata": {
        "id": "LM_pxinIdYi_"
      },
      "execution_count": null,
      "outputs": []
    },
    {
      "cell_type": "markdown",
      "source": [
        "#### Assignment Operator\n",
        "\n",
        "1. Assign values to variables. <br>\n",
        "* `=`, `+=`, `-=`, `*=`, `/=`, `//=`, `%=`, `**=`"
      ],
      "metadata": {
        "id": "yUsfZZELdtIM"
      }
    },
    {
      "cell_type": "code",
      "source": [
        "num = 10\n",
        "num += 5  # Equivalent to num = num + 5\n",
        "num *= 2  # Equivalent to num = num * 2\n"
      ],
      "metadata": {
        "id": "9JYn3NZxdsEn"
      },
      "execution_count": null,
      "outputs": []
    },
    {
      "cell_type": "markdown",
      "source": [
        "#### Membership Operator\n",
        "\n",
        "1. Check if a value is present in a sequence (like a list or string).\n",
        "* `in`, `not in`"
      ],
      "metadata": {
        "id": "Y9oMt-7seuiJ"
      }
    },
    {
      "cell_type": "code",
      "source": [
        "fruits = [\"apple\", \"banana\", \"orange\"]\n",
        "is_apple_in_list = \"apple\" in fruits  # True\n",
        "is_grape_in_list = \"grape\" not in fruits  # True\n",
        "\n",
        "print(is_grape_in_list)"
      ],
      "metadata": {
        "colab": {
          "base_uri": "https://localhost:8080/"
        },
        "id": "_mipKVxJeuEm",
        "outputId": "8c262a60-0a1a-4221-fd82-82d0acec0d89"
      },
      "execution_count": null,
      "outputs": [
        {
          "output_type": "stream",
          "name": "stdout",
          "text": [
            "True\n"
          ]
        }
      ]
    },
    {
      "cell_type": "markdown",
      "source": [
        "#### Identity Operator\n",
        "\n",
        "1. Check if two variables refer to the same object in memory.\n",
        "* `is`, `is not`"
      ],
      "metadata": {
        "id": "zB93tascqAMC"
      }
    },
    {
      "cell_type": "code",
      "source": [
        "x = [1, 2, 3]\n",
        "y = x  # Both variables refer to the same list\n",
        "z = [1, 2, 3]  # A different list with the same elements\n",
        "is_same_object = x is y  # True\n",
        "is_different_object = x is not z  # True\n"
      ],
      "metadata": {
        "id": "N37VSv0np6at"
      },
      "execution_count": null,
      "outputs": []
    },
    {
      "cell_type": "markdown",
      "source": [
        "### Conditional Statements in Python\n",
        "\n",
        "Conditional statements allow your code to make decisions and execute different blocks of code based on specified conditions.\n",
        "\n",
        "* Indentation is crucial in Python to define code blocks within conditional statements.<br>\n",
        "* Conditions often involve comparison operators (<, >, ==, etc.) and logical operators (and, or, not). <br>\n",
        "* Conditional statements enable you to create more flexible and adaptable programs that respond to different inputs and scenarios."
      ],
      "metadata": {
        "id": "JD4ze7m2qKk9"
      }
    },
    {
      "cell_type": "markdown",
      "source": [
        "#### IF Statement\n",
        "\n",
        "* Executes a code block if a condition is True.\n",
        "\n",
        "    `if condition:` <br>\n",
        "    `Code to execute if condition is True`\n",
        "\n",
        "![image.png](data:image/png;base64,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)"
      ],
      "metadata": {
        "id": "G87L-n5avI2j"
      }
    },
    {
      "cell_type": "code",
      "source": [
        "age = 7\n",
        "if age >= 18:\n",
        "    print(\"You are eligible to vote.\")\n",
        "\n",
        "print(\"No vote for you\")\n",
        "\n"
      ],
      "metadata": {
        "colab": {
          "base_uri": "https://localhost:8080/"
        },
        "id": "QGsSKnQFqKG0",
        "outputId": "2719623c-1e3e-4c67-bcea-a21c22d1fb8c"
      },
      "execution_count": null,
      "outputs": [
        {
          "output_type": "stream",
          "name": "stdout",
          "text": [
            "No vote for you\n"
          ]
        }
      ]
    },
    {
      "cell_type": "markdown",
      "source": [
        "#### If Else Statement\n",
        "\n",
        "* Provides two alternative blocks of code to execute based on whether a condition is True or False.\n",
        "\n",
        "`if condition:`<br>\n",
        "    `# Code to execute if condition is True` <br>\n",
        "`else:`<br>\n",
        "    `# Code to execute if condition is False`\n",
        "\n",
        "![image.png](data:image/png;base64,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)"
      ],
      "metadata": {
        "id": "pQa0CRtRwEZu"
      }
    },
    {
      "cell_type": "code",
      "source": [
        "temperature = 28\n",
        "if temperature >= 30:\n",
        "    print(\"It's a hot day.\")\n",
        "else:\n",
        "    print(\"It's not too hot.\")\n"
      ],
      "metadata": {
        "colab": {
          "base_uri": "https://localhost:8080/",
          "height": 140
        },
        "id": "ei_MwsOwvoIU",
        "outputId": "b12b0389-3911-4a99-c05f-8a0d31ddc669"
      },
      "execution_count": null,
      "outputs": [
        {
          "output_type": "error",
          "ename": "IndentationError",
          "evalue": "expected an indented block after 'if' statement on line 2 (<ipython-input-201-797d1c674589>, line 3)",
          "traceback": [
            "\u001b[0;36m  File \u001b[0;32m\"<ipython-input-201-797d1c674589>\"\u001b[0;36m, line \u001b[0;32m3\u001b[0m\n\u001b[0;31m    print(\"It's a hot day.\")\u001b[0m\n\u001b[0m    ^\u001b[0m\n\u001b[0;31mIndentationError\u001b[0m\u001b[0;31m:\u001b[0m expected an indented block after 'if' statement on line 2\n"
          ]
        }
      ]
    },
    {
      "cell_type": "markdown",
      "source": [
        "#### Elif Statement\n",
        "\n",
        "* Chains multiple conditions together to create multiple branching paths in your code.\n",
        "\n",
        "if condition1:\n",
        "    # Code to execute if condition1 is True\n",
        "elif condition2:\n",
        "    # Code to execute if condition1 is False and condition2 is True\n",
        "elif condition3:\n",
        "    # Code to execute if condition1 and condition2 are False, and condition3 is True\n",
        "else:\n",
        "    # Code to execute if all conditions are False\n",
        "\n",
        "![image.png](data:image/png;base64,iVBORw0KGgoAAAANSUhEUgAAARYAAAEdCAYAAADJikiMAAAAAXNSR0IArs4c6QAAAARnQU1BAACxjwv8YQUAAAAJcEhZcwAADsMAAA7DAcdvqGQAAGioSURBVHhe7Z0HYBRFF8f/lwIBAoTeQu+9916kV1GqFLEgCgr6UQS7IoiIIlWQKk2qgHREeu+915BAIL2Xu/nmP3cbAoYSSEJymd9ls212dnd25+2bNzNvTEKCl4zFYkGBAgWwc+dOFClSxLZVo9GkVBxs85cKZRsnk8lk26LRaFIyyUawaDQa+yFZCBaiNRaNxn5IVhqLFiwajX2gbSwajSbBSTaCxcEh2ZTKNBrNC5JsBAu1FS1cNBr7IFkJFl0U0mjsg5cqWGLbVrTGotHYDy+t5S1P+++//2L9+vVqedasWejduzcyZ86Mhg0bolmzZraQGo0mpfFSBAtPSQ3l3LlzqFKlCsLDw217ADc3N+zfvx8lS5a0bdFoNCmNl1L2MGwppUuXRrdu3dSyAddLlChhW9NoNCmRl94J8fz58yhfvjyio6ORNm1aHD16VAkcbcjVaFIuL91aWrRoUbzyyitq+a233lLaihYqGk3K5qVrLDw9tRbaWvbu3YtKlSqp7Vq4aDQpl5eisVCYcIqKilLCZMCAAciTJw++/fZbHD9+HGazOSacRqNJeby0opCHhwfeffdd9OzZEx9++CHOnj2L1q1b49VXX0W/fv1w9+5dLVg0mhRKkgkWQ0iEhYVhyJAhqFOnDipUqIBTp04pYeLi4qJsLNRYKlasqPZ98803CA4OVscRQ9PRaDTJmyQRLBQGgYGBGD16tBIY6dKlw65duzB48GC4urrGCAvaVTJlyoSPP/5YtWUJCgpCzZo18fPPPyM0NFSF0Wg0yZ9EMd7GjjIiIgLLly/HpEmTUKZMGQwdOhSlSpV6pub7jIfVz+PHj8etW7eULeb111+Hs7Oz2k9BxDDa0KvRJC8STbDQMLtnzx6MGTNGrX/++eeoW7euEijxEQQ8lsbc7du34/vvv4ejo6MqIlWtWvUhAaPRaJIPCS5YKAQuX76ML7/8EkeOHFGCpXPnzra9VuIrCHiJPIZxr1ixAiNHjkS9evUwatQo1Q5Gd17UaJIXL5wjDbnEeUBAAN555x2lmbRt2xanT59WQoVCIfYUX4xjqK106dJF1SBVq1YNtWvXxsCBA1Vxi+ePPdkT9nxvTyM13rM98MIaCw9nzc24ceOwdOlSVX3MauTcuXPHvBDPI0yehBEvq6xnzpyJP/74A/3798cHH3ygjMEJfb6XiXGvFNqsUUuNUCPNlSuXbU2TEoi3YGFwZlzO2SuZRRMaV6lB0DBbvHjxJCua8Bo42Bl7SbPIxSLYoEGD8Nprr6l+R8QehAzv86OPPsLff/+tas1SE7x39iM7efKk0lg1KYPnEix80Fu3blXVwOTTTz9FgwYN4m2YfVF4Lcb5KGDo3+XHH39U1zF8+HDUr18/xdtfjMdDbaxcuXJ477331HpqgQ0lGzdujDNnzmjBkoKIV66jQLl48aJybTBs2DD1km/cuBGNGjVSD/1xQkUIC5ps6oZ80yrDNDoP8kyuAPepVeAj/FXGkXqHmsv/sKg51zmZcTfivpw/yGCxiX0+CpAmTZpg9erVeOONN1RxrHv37rhw4YIy+sZ1fEqA92jcJ+8xNU4p9dmlZp5JsPDB+vn5qcxKgylbyrLGh3M++McJFAMh9//TfBEuvbcH6ZxdsL/3etwccARZTJmkIJFixCIzkBQmUq7Ic8l1OZlllGaTQKWZTZWgkbqVLbYnkyZNGvTo0UO16OWXji182eCONgr9gmo0ScNjBYuRCZkhv/rqK1SvXh358+dXGgszLjPwsyJFjxQ+FEBUZaXEkFGb5L83d32Cums7If/0Krga7IFJ52ej6tKWaP53D7y67R20PtAP3sE+qLyllTWipxD7687ro0GXKjTtErx+tn8xapA0Gk3i8VjBwmLPjBkzlP9ZlnPXrVunBEy2bNmeqqE8DQqVE+Hnsensv/i01ofo0bgLxhyZjOO3TqNqnopY3Ho6Ztb+AZtqzEUO16w48coGeVT8bSW8TtYmfP3116qIxFqkGjVqYN68eaqGRQsYjSZx+E9u5Rd95cqVyvC5adMmTJs2DVOmTFE+aA2N4PkzpKC+IjHhbvA9uDimhWewF4qkcUencm0xvtkXyJs+F1ot74EfjkyBxcQikCxjq2OeXwiwuMbuBNOnT1f3s2zZMtXOhvYhthB+MXhdtBPFXrb+NJrUSoxgYQY7fPiwaoDGmpWxY8eqdim1atX6jzX+eTUWCiRlL5GCpUr2CgiPikDd7NVRLkNJBJgD8a/HXrQq2gSTm4/GnEOLEWGRmV4eczHwCszquPgT+1p5H7S5UHthwzq2Du7atau6b2povL74Cs2w6HBcD/SQS8rkjLsh9+Ab4WeVMRpNKsWBGcnLy0sZZmmMZSc/9vFhEYhf+oTEUf7a1G+FdC5pkd2UCcten4HO297BZ2cnoGXWhiicqRCGHfweb28fir96z4GLgws61G6DDtveRohImN7NvF8nJyd07NhROZmi5tKhQwclaJ7HB4yfJQCVZjeTQjBCrgk0WtYFB/xPSImmJYsmFTNs2DCRLVs2MWbMGOHn5ycsFovMW6kH3i/ve/To0SJXrlziq6++EqGhoWr7s6SFRUSLaVcXisYbuorplxeILpv7C7M61vxg4s8Sbd0uolS8apK/Z2XAgAFCFuNsa6mHO3fuiBIlSgipUdq2aFICSiU5duyYapfCwcJSGywq8b7ZyG/37t24d++e8gFDNw/PUoNEq1GP/G2x4/huDFn9OUbVHIx1HltRZnETjD47FRXnNUOwJQTN1vXE58fGodXmN3Hb7G07WqOxTxzoioDVyEZ7lOe1nyQ2yhwqrL5wExrjvtlTmq2JaeTduXOnGo2RtWEUMCQuIeMgf5mcMuHXnmPQokRjlM9YAosvrUGRLAURGRmBKz7XcdX/JsKjw+FkccIPtUcin2NOdT+0NT0Kz/E0YZbSMO7HHu/tcfA+abujs7LUdN8GDimlmfRenyP4+MB3NuNv4kEfL2wEuGTJEtX3iW1fevXqpV4SWXyxhfovZfOVRA6HbEpWUIjULl0Dr1Vsh51D1qF4lsLY0GEBMqZxRc+V7+Mvr41KpMQlwinEDEFmTzDtnpR+9gY/VGyewaFt1qxZk+o8IMbbOmuBGaEiAvfDfBFsDpGS2AK/qABESW0iWkQjMDoYYZYIpf77yjBh5jAlDMIsYQgXkfAJ90W0JQqBUcHWZRGl4oiUc98wPwREBqrwZhkX97OGxSz3V89aCd9WHyqvwKRa5vpGBMA/kq1pZWj5NQiIDkSAvA6fcD9bnPH/QhjaGuc08NKoSxeZrVq1Ukbt999/H97e3nFnECG1Hp5SnrdpvnpYunsV0gQ6oNXv3XAj1BN99n2MVoUaoW+N7jhw67j1GKW1PAw95rETJYunkZGR6j4edy/3In3x9oHheGV7T/TfMUKmeaiM0azSg9pdXEKY6ZVYmh+xds9g/diDa2Z6UiP2jriPEQfHQD7lZ74G3rvxXIy04GQIqtjbnmV69JhniccIE3tiNxHWJD5pIgcOHFAVBawM2bBhQ0z7KU72zHN0QjSj9LxGyJIjG65cv4KbHxxCv33D0TB7TYRGh+LA9aNoWLYu/rfsc5QoWwYeN2/g0jt7sfjiGozZPwn3/LwxvcN4DN4k9+cuAhEhsKfLapSb0xD58xTA8esnMa/LZBn2V1gcTbh64wq+bTIMBTPmwzdHJmJ3m+Vou6EfPII9cdf/Ht6t2xvDS/ZHwcnVYXE1wS1dZlTJWg7LWk6T1/piRTsmDY/nnD57f/vtN1UNzxa9n332GdKnTx8Tvw98cTvqPso5FWfWwpHQk9jktR1v5u+KvGlywSPKC0vurEP+dLnRNXsrOJgcpYj8r1w/dOiQasRHzYljLbGRYtmyZdVIBhwxMnYnxA5r+qFa/gr4pPx7WOO5BY3z1MXpsPPYeGs7xpUZobpSsNVzbL66MhFtijRFdVM525aEhUKl9Y6+mN5wLAqa8tq2Wqm5rgO8PD2x+53VcEcueW1P15bv3Lmj2iBR2MaGzyQkJMS29jDU+JjxH4UCIS5tkHFRiMd1DPfF1dbpcdsJ9/Fc169fV0UhAwpXjvLJd4iNNNmc40Xez+RMvAXLSv8t+HrLjxhadwCWnFmN+rlqYkj5t1D694ZwTOOIfT3WYLPXHly5dQWj6gxC6zV90ap4Izg5OOO69w2MaTASDRd3RsXi5VAldwV8uGYk/N87D/dJlTH2tS/RIUczuDlnQvYZ5fBl40/wRpHOyGBKi3/vHcCXB8fj3/bLUHZRY5zvuh23Ir3QbO7rOPfuLuSZWBGH+2+GJY1A57n9cPqdf+TV8qEl3IPjy3Lp0iVle2GLXr4YhQsXVvuML5j6mqkvWjTM0Wa5LCfbPDrKuj86OkpOZkTJeXhYuPqK8YXnnPHTkG5gCBge9+abbyq/vwavb+yvNIQ/pRBVIkQ+ycbru+Gi12X0q9Ydw8oNwIADo3Dz8nW8Vr096uethXareiNX1lyY98oEZE+TDQM3jYRvkC8+b/o/NMlRC712f4yI0DB4+9xD8zKNseH4FhQtUBQzG4/DnVBvDPz3MwT4BeC7lp+ibraqSmOyhEbhsuc1/K/ZB/CPCsLAlcNRrkgZrG/3BzLDVV6ZVYBGIgrNVnbDglenoAByq21Pg4KFbkjpiD02zKQU7I/C15kuMx4t4nM7jzHcmT5KXJ1oeQy3Pc5cYNgl44IaLysE2OOeMFzTpk1V0ZrXRw2Yz5px2CNOtvkz4xl4B9lc3JDe4oI3S3dDCbcicDI5IatbVmRycUVW5ywqKzvLr5F8lMifKx8CQoORzdUN+eTX2kE4IDQyDDmcs8LN5Io/Ok6Wxztg05tLsPD8aozfORXjG32BY29uwYJTy1FnRXuMqvoRcrpmU5nHTwSgRJYiSOOYBvlcciPEHC63Wx+uo4zHyUk+qJgSQMIIFb5gdGZFQfLrr7+qDpl8Odj2h8KEQoUTMz9fIENWGy8z53zRjJeU27jOOdf5snNi/6ZHv8L8KnJolLj4tdE3GLn3B+SaUQmdi7aW6fY52pdqjl1pMqFviS6yGBqKdrmaoE7N6qgzpx1e69cWtQpXQ6vyzVDMpRBeX98fDQrWQv0CNdF+di94fHQUu8/uwdfNR6iGf79s+w1b3l6K6lNb4EKFy/jmwM94pWQD1MpRBY3mvgrPD09g/7lDGN36U+Sskh11J7fFlWEH4O6WF8Pqvo9MyCCv8sF3K418K+IL0yxjxozKzvW4DP6sGIIiqeB18zmzGER7Hed8b06cOJGk1/EyiLe47JS/BS7euYpc6XLi4r3L8DTfxarbm1EoS35kdsiIOVeWyVdJ4IT/OZzwPY2d8kVtUKCGfKgyIeU7JuRntWaxKlJ7uQn3dHmx/uJW1ap24YW/0KtMJzQrWA/Lr/6Nycfm4JXCjfBmpe7YcnOHPDMzLJAPOXHg4hGpFe3ElFNzUSKHLE7ZXl7+N17jB1teDGZsGt/atWun5vRYx2ppqrKsUZswYYLq8vD7778rT3aLFi1SXQZWrVqlHDOtX78eW7ZsUf5rtm3bpr5g//zzDzZv3qzK3Kx1Ylges2DBAqUm86Wj0KGmQiMyw7E49Ci50+bA7MbjcabvdlyP9MDbe0Ygf4Y8yJ4+G4qkz6+KW2uub8bYM9PgHxKANA5pkN0lixTMhZFWLl/zuYG1d7Zi7MlpqF+6tkwumV7yOZXNWhwlMxSCq1M65DPlRHonFwizwGW/61jnuR3fnJqIhkVrIzRKCkH5WGvnrIYiTvnldUN+MLIgvXM6lMtSWn5EaHeK/YoxfnmIeiwv/mziS1Jn5sqVK6uPEbvGtGjR4rEfCHsk3oIljykHxrX4AiMPjcU9B380yFwdm+/swNQG32F80y9wNeqG+jLcDPHEoP1f4tPGg9EgR02UyV0CZQuWljEITK0zGjlz5sTwg9+jnvxaOsgHXixTQXy460uEOkZgSp3v0KhgHXy87xsc8z6DMbU/hXum3Hi9YltlN1jfcyF+PjMLR/3PYGPXRVLjcUSfJj2QKU0GqXinQ+d67eVZXsxAxjI3B0/j6Iwc+pWOo9iHir2kOaAa/frSFsLMz7GSaAeg9zwWjVh9zyFjc+TIgSxZsqgvF18qaiV8uY0XPK45BUqBAgWUq0+OvcQuBxyHKa6v7Rqvrbgaegs50mTB0KofwDvyvlLWos1RKvN+f2gSyhQqibHlhithQ6HOKTwqUu3PlDYjBhTphWV1J+GjKm/DURZXKf+VBijPRQ1RLcqNwmRBFufMeLdkd6ysOx2fVH8fWZ2s2ikvy3ppdH5h/QDwGh6FtieG4zks6kqf7fm8yHN8WfCaWStEw21sTYvPMK5naXfIm4wXUt1XrUitLUrN6sdtD9bMYvG11eL7Pb8KYbZuN8Jbj4+W2zhZlx/Ex3aoXGZ83MuYrNut57DGbazH/j18fsZhTM/XWpOtPXv37i2yZ88upDYR0+qTccaeJwZSQ1Itf2PD88XV8vbny3OE6bs8wnlyQZH2hwLiathNcTbqijD9kFdU/rO5+P3mErk/r3D4IZ9w/72qaLnxDfHblYXCNDafGHZqjNh374hwHOcunCYVELVWtheRMr0Kz6wpjgScEtu99omas1urZ1Jsem1x8u4ZsdPvoHAYk084y/BVlrUWUZYoUW5uE3FX+Ig7wd7CcbS7CLQEiTZr+gjHH/OJhbdXyefx4BlUmN9UmEbL6xmdR5yKuii3PD0dU3LL28e9J0ePHhXFihUTsvhs22J/cAgNERYWlqCZ5na4l7gUcsO2lvzhPXPy9/cXsiwsihYtKn788Ufh6+ubIOmREMQlWChK/aMDhVfEPREsQmLuwy/KX/hGBSjxfTfcW4RYQkWgOVgEyLBRciu3hVnC1fFB0UHibuR9+Q2IUkI52BIiBUa0iJQhg+Vx1m3Bci3KGl7G4y3PZ7Z9ABhefSjkMUFSqPCcEfLoO5H35P9Itc+A8QWIICV8ouX57F2wPA4KFqnd2rVgcZCZRznCZlUqayVeXEUTsuyfC0XTudvWkz+8bxplOVYRHYTTpvHJJ5/Azc0teausLM44uiJnmmxIL1h+txYvMjtmhJvcThtH9rTZZOEwLTKY0sPVIYMs3Jhk0Smb3OJEdRXpHdMjh1NWeZws9sj40sNFFU0d5Xo6Uxq1LZ081pG2ErmcwZROHp9dFYFYpEln4nmtxbv0pgwsCMmYHZBTxslOp9xnwOvIKNLLOGQ4E0vhyThtExl7Lwo5sE8MDZI0NNJASWMiM5cUOrYg8UVVfNpenCdzLeQWWqzujjRjCyAK1gZFiQ3vy7g3ChTaTVh9THvGnDlzlDGWthI++OT+8JVXvljpTQ991rkxcZ91mcLCgXPbujUsxYctnC2MChvzk/tVHEb81sk4d+yf7UxyYpzW6zB+BjyHdbs1tMZ+UU366XOFPkroCZ7e1uiEmsMtSPXzBQTM0wk1heHtqm/I1yzpYCZi1TAbotEpOH3PcPhXWu/ZXuJFqzQ1mqfBPJXcP1ovivps8CaZoWjBpi8WzumImi1Mn8dHybNSNn0JVMlczqpTJxLGtXNusVjg4+ODfv36qXukYGHVMZvsszaG6WDvD1yjSQr+o4+yQU/v3r1x8+ZNlCpVSlWvfvHFF6oTVWJqL4kNnYLTbsIm1bQp0Ys/BYvWUDQvA3v/iD0kWIyb5cShSpkR2aCLrU7ZZuOnn356SMAkhKBRjdvkVbBdgxD/7TT3vPDaOLElK0dJpA9ftnpkJz96i8uaNatdP1hN8oXvpb2/e0+0oPHm6aOEdoi5c+cquwS7gS9fvvyxHcDig19EAPZ7HIHFbMGO6/sQrWo1Egb2vWFrVl4vhyyZP3++6m/i7u6uij0ajSbxeKYcxuIRiw+LFy9WrQlZNctixL59+5Qh9HnxtwThvOU6RnQYjF0hh6xe+V8Qtpjdvn07OnXqhIkTJ6pm97NmzUKlSpVSvEDhl452otQ22ePX3d41lucau5kPm4PBs/cma1JYRcsm7EbGTepEM67pxo0bqmcwO3lRqLRs2TLmWlL6g6QvGApMalypCfbV8vT0xNmzZ+3GHsZRRGnHPH36tN0KmOcSLAYsDrGIweravn37Kh8l7BuT1LCmZ8iQIcoexGtgT1j2rzFIyQ/PSO/bt2/j/v37ajm1wV7fNLrbSyakN0LmF1YgaMHyGHg4X3r6imXjOlbl8uuaIQO7zFtJ6MQzLplOdOgIiYOQcdhXtsNh50ZtQ9EkZyhY6FuHbcXsVbAkSA7Mly+fqjFiF38mVpMmTZSBl/aXxEg4xksXA2wxS6nPxn1s2EfnS1qoaDQvnxfWWB6FZWI2j2dGZ3Fk5MiRyjk1DcAG8RE2sS+PhlnGTYMsXRCMGDECDRo00G1RNCkK1q6+9dZbdu3wKcE/78zwbLVLZ0asOaKPVnpau3DhgjKwPg/UUGi869OnDwYNGoTBgwervk2NGjXSGopGkwxJlFxJKUwNhQYqFo1Y1ctBwNjgju1LDC0kLmWJ24yJ0EBMR9IUItROaElv3779f5wmaTQpCXv/ICbq3VE4UMBQyzh37pxyQ1CkSBHlfpEteOMSCoawYA9r1jbRJSNtJ9RY6EhaayialE7sD6e9kqi51BAcFAZ58+ZVfY5YJUzv5NRA6KbA0GCMhKbAYS0PNRzW+tBfKKuQ6ebREDoaTUrH3t/jBDfePgnjVLSZsFfx+PHjlSChP1m6bqDQYate+ohl4zv2T9IaisbeOHjwoLI7clA6exUwSSpYDHhKJigFDPvzUJMxBqRnlwE6sI5BprvUU2wrGk3Kh4KFLknYIdZeBctLUQeMxGQ1Mb3QcxhKtiqlS0glVJQ3eWsNEqWehT2f1ZJGk/J5Cd/yJCdZlDPoqY6j2sW0dfG+D8yYKR+AmTIGplMngc2brfs0GjvA3m0sL12wGEUiVh/TnsJ1k5cX8P5AmHbttj6APfuAhYuUoFHai5T4Fk62n0aTkjBMAfZMstBYKFhYLHqoBa2zI0S3rhB+vrYNVB+l0Dl8FOK7b4FJv8IUGKitL5oUhy4KJQFMZAoWFoNi1wCZ3LLC1L0nMH26EikcARGeXhD16sLUvAVM164BQz7WlhdNikRrLImMURSiYImtsSj/2j/+ADFnDnD+nFWAnDwJdOgIUbM6xJjvIXbulBqLFi2alIUuCiUR7ENEnxvUWCgmDDuKKvpM/BVi8hRrkSdHdggpZDguDS5fAeiaIRE9/Gs0mucj2dhYHmgsFmtNkJLoAqKVLPZ0flUto3QpICQYok1rpblg5CjKHo0mRaE1lkTGMGJxzloh64pM8LLlYDp6DHB0os4C0+w5MP08UWoornC8eBmY8AtMe3bDocvrar9Go0levBTBQkFCLYV+cydPnqwcRHl5eSk3lxyR0Je1PblzW4UKf1KgmLJkUcuyvARTyZJyfx4ZE4WKFiyalIfWWBIJ2lOuXr2qej6zGf/x48eVuz4O0cG+QhqNvaKLQokMm/PHFiJM8I8//vhBsUijsUMME4A981IEiyGt8+fPj3feeUctE/Zw7ty5s21No7FPtMaSiDBhWRyi8yZWNXOd7hOowdh7oms09s5LLQqRQoUKoWnTpqhSpYoaDlWjSQ1ojSUBoQoYu3wZFhaGLVu24M6dOwgMDFTe4jgAPXk0rEZjL+iiUCLBqmaOB0RNZejQofj999+xatUq5VGubt262Lt3rxYqGrslNbzbSSJYDO2DUprj8L766qvo0qUL/ve//6kxVlgMotNsjk3Mgc84ZAh94l68eDHmIRhxaDSa5E+SaSws7lA7oZbSvHlzNfBYp06d4OLiYgthHaOX++kPlz5BKXzowu8aezJLKJi0cNGkdIyPrD2T6ILF19dXFXHatWun1mlT4djO2bNnV+txJXCmTJnQs2dPFZbe/V9//XV8+eWXqnWuRqNJ/iSKYKFEpvf9lStXokWLFti/fz8WLlyIcePGwd3dPUaYxCVUYu/jAO9slcum/zdv3lS1Rhyz2d/fX2sumhSL1lieA/qvpfGVjd1oL5kxY4byxF+iRAmVmM+aoIbg4LxgwYKYPXs21q5di7lz56phQTZv3qzGctZoUhpasDwjTChOly9fxmuvvaaGVmXxh8ZYDq9q+LKND0Z4Y8442OaFxaN58+Zh1KhRaNasmRpY2xBCGo0mefDCgoWZOiAgAB988IGyo7Rp00aNm8JiS4zX/QSCQoYCpnbt2ti2bZsy7Pbq1UvZY27dumULZX8wjekMK7VO9vbh4P3Yu8byXAOWGYfQMDtz5kylQXCgdhplCxQokGSJxutgbRPbwSxevFjVMlHA5clDlwpW7OEB0l7FIWcpVFMbbDDJInCZMmVsW1I+W7duxXfffadG/rRXARNvwcLgISEh+OuvvzBx4kRlO6GrA0OgJGVCGZfOc7J9zDfffKMMxex/1K1bN1W7ZA8PjunNhoM7duxQX/DUAp9d9+7dMXbsWFSsWNG2NeXD4jzzjD0LFmbOJyJf5Jh5ZGSkkBlX1K9fXzRu3Fjs2bNHmM1mtT8uLBazuBPqLbyC71inoDvCM8hLWOTvcZhtP4bhOZ8U9lEY/vTp00JqT6Jy5cpCPkARFhb20D2kRKRgUfeTGmnbtq04fvy4bc0+2LRpk2jUqFGKfR+fhSfq1nJ/zJw2DPmQlR2FYy1TnaOt40nquTAJVN/YDoWW1EW+yVVRZHldFF1RH5GIsoV4HBxS1fplVl7jnhFKf6rM1Kboma5fv36QAhBnz55NVV96TfKG+cluNRUbcUoF3rghVLy9vVUtD2tg6OGNXt+4/Cw1PQ5wxM1O+3Gu3w6UzFwUwX0vIqT3BaQRztZzKG/8VuOcdWLmF7gWdhu5p1aS4iea7rStkT0jvCZOderUwYULFzBy5EhVLGJtFYWjcV/G/HmxXv+Dq+M6xWF8r1ejsUceq27cu3dPZUo2cCtWrJgq39PjW4YMGeKdKQ3xQ+/7ZvkrvaQxBh/4ChUXNMdtsze+Ofcrum0ZgG7/DsQvZ2Zh5pXFCAgOQI99g2To59c00qVLp7QsVns3bNgQHTp0wMCBA+Hh4aH2K+HwnAKG2liPTQPxzbGf5RVaMODAKHx86GvtgVfzVPjOpTqNhe4LWMvD6mLW+vz555/4/PPPkZvOrW3awHMnijxsmd8GuDq4KA0me+asWHp6DTzD7iBn+pwYUukdfFT2LbxdpBsyuWTEotq/Sp0n1rCrzwGvNVu2bPjwww9V7ULatGlVDRYNzz4+PrZQz4GUR5/XHYw5x5fAI/wufvt3HkZUeB8+Zn8cuH0Ul0KuG8Fw/P5ZHPQ6hhARpjUazXN/zFISSrDwRiMiIpTdhB0E//jjD1V9O336dFXrQxJEwsr09AnxQ373AqhZsirGtf0S3Sp2xLQqo1E1V3l8sHEk3t81ypb5OMYhLSwJ8xB4/exOwNbAHBWAGhjvdc2aNcovjPGwn/mhy+QolaEYupRujzrLO+DH175AljRuqLuoA6ZfX4Rmi7rievgtfH95CgbuGImJ52bjo21fWCWNJtWTIPkpGeNAo+b58+eVkZNf9QkTJqjqMBpBefOcEkrCcvzlPu6vYe2hDcgSkQlTd8/FitsbMeD8lyibowSmtBuDEzfOSGlnQlR0NPwjApXdIiHh/RQvXlz1P2L3AFZRV6tWDceOHVPdEZ71gatB1eS8f8VeiLgXjCHF3sJfflvh4OSIYnkKo1rpyph6fD7u+9+X25zwVd1PMK3J99aDNaka5id7Fyx0TSCKFCkiFi1apKo1E6MKLEAEi7/9tlkrkWX8JwPPiU/P/ShW3N0gwi3h4naYlxh7ZaoYLac74fdElPwtu7tejDgzVgRbQm2xJDy8FlZHs1q6dOnSokWLFuLixYvxSoM7lvsi54TyItoSJeZ4LBOt1vYSt0I91eQX6SciLZHiXMBl8erW/qLp0i4y7sdXzz8OXd1sX9XNf//9t2jWrFmi5LXkggOdLLHTIBsi0diZGGQU6dE6c0Mpqq2G2HKuJTG61CfolKMF0sAZedLmxLDC/TGi8HvImSYrHIQDOst9o8sMRQZT4lyTvHc1p82FPmD27NmjqtLpooFjHcXfRYO85rwtcdzjNNbe/gcj947FYu+/MfDQ51h6ZS1aFG8I7+B7trCa1I69aywO9IyfK1cutcKbTYwbtsbrAAeTY8w51M+23ZgcYsLZ1uVPVeBKIZDQRs+Y67BNWbJkUV0SaHNJnz49WrZsqTpS0oCtzv+Y4qAr0mFC529UHK6mDFjbdR58Q33RpGg99M/bA99VG4Ys6d3gG+CLFV1mybuwFi050UXno/HKr9hz9Y9haNZOCcF6NMbP/8mz7Q6vLean7jN+95oSiP0cjcmAy3xf7JnHt25LNghEmqJeqNo5PrBrApuQL1++XLnNpItM1oyxz0pcmT0dXNAjfztlc+HeKm7lMLL8IPQp2Fm+PALZTW4YWKI3hpcbgGIZCiq7jEFcjQtp76KdK/4ak4BH6B3s8z2B475nVCPE5JpdOTy3vyUIB31O4JDvcQSaQ2x77Af29Gez/dTqnCzegkV9DfmTmcyisru1YRi/PsaXiF9NTiq0sU1OsG3n8TxWSXIZSs2NffzSqnXrnAzbPhrTLv2htlmPk+dV+63rjN16DOOznes5ML4izPA08LL2iFXvkyZNUo0CWWSMinq41bDUd+RxVk2MRmfOrRPXuP2BRqZCxOx/MMWGNVR04Vm+fHklYGI7tTLu8VG45V6EL0pNq4slZ1ah/5Zh6P3PYBX2VqgnzCJapsiDnxFPuCUcfpEB1jTjNhmPNfWs6RuzLOfWdOVxDGtsi7VPPbvY+62/QHMQQkQoQ6hrJVyuNO8V/HpiNobu/BYdV7wZ8zzjgvG+KMY9JzbGOdi/iy3U6cv5119/VR4AYmswjz53e+O5OiFaXw0pk+QX2cTPj1yXKaVeMWtWUwHVcgy2/QyvDpHHWJetp2emU/FYd0qs24XMkJGWKJlFHeAUkxEdlApNjUCFl3O5pg4xMV6Z0RMK3m90dDR27typas3y5cunnE7RZeaz8KTkZbyx53Rcdfr0aTRo0ECt815ZLDPa4HBkg7hgBl4T9A9+3/sH1jafC4oRszlKtZvJ9VNF+A4/J4tp6VQaUwgQk3DASu9N+PviZsyq/6NtG//LMLZnohLUQIZXSS/vh7V7KohKcj5TFYCrsDCQfCZ8Nvx9c2ESyuQqidfcWsiYrd8xpkmUiJTP01mKJjMyzi6FsH6XrHE88uzYwJE91osUKWLb8vzQv7KjY8K9G0+C3UjYuJTwOWbOnBkjRozARx99pGpdp06divXr16t99sgzCxYGOxN2Ga+ufBM9KnXGn6dX41i3TWi1qQ++rTUUwzd+i6H138esY4vh4OqIgi75sOXcDhzqswH1lnaEsxQN9fPUwC3zHVl4SIvw6AjkdcmJt8p0Q5dN7+G9mn2x7sJWLGk1FXXndcDAev0w/fBcbOi4CL/sn4FS+YqjjXsT1JjTBh806YfFR1dhVM1BKJ+tNCrNaY6Bjd/CvhuH0b1wB3xYvq+8s3grY//h0aThV4dtfOguk4KFY0xTg+HLQXsJMY552pzHGBP91nA7nYmHh4fj3LlzKowBe2nTR/CVK1dsWx6GmkNgVCjyT6+G6u6V8E2DoaibrSomXpuLIYs+Q+/m3TC5+nd4ZXU3tC/dAtP2z8HOV1dhxImxOHLtBD6q8xY65mmJSvNfwbBGAzF332Js6fUnxp+ege1X9qBdyVcwdftcvNeoD1aeWI/v6g9FLfeqaLzwNfSo0hnzjv2J8z124N19n+KM93m0KdkU8/Yvxdaef+K1je8hi2tmjK06HDUyV1LXq+wqJuuHZc2dfzDqn7E4+cZmKZj4e/i5UbCwIWNsp+vPC58VtYakgK4u6IQsNhzlk+4SKCQpWNatW2e3goUv9FNhpRh7HPfdNli03NxbDDs4WuSZWllsC9wvboR4iKyTyoi+O4aIaEu0aLuhrzhiPiuiLJEi98QK4sj9k6L8vCbC1xwg/KMCRJqx+UX/3SPEW/uGitK/NxCnfM6puOZc+FP4yTC+lgBRcGYNMfr4r+J6lIc6+8dbvhDTzy8QP136XfTb+4mqsl19d4t4ZWU3ccr3vMjyUykRKX/zTi0Vb+8aGq8e0c+CfBmFLCsLKVBEuXLlxDfffCOkBiMOHz6sqkLlCyTOnz+vpqtXr4pr166J27dvC09PT+Ht7S1kxhC+vr5CFmuEFE4iKCgoZgoODlbVyZzky6ji5GPhlDVrViG1FSG/fk+sbub1yeKO8LcEiimn5opS8xqKHls+EPcifITD93mFPKMwyzCXw66L3y4vEqX+aCD+9d0vlnttEH22f6Se7feXp4jKy1qK4Qe/F8Xm1BELLq4Q7x8cJX68NkPtLzi9ukr3GZcWix/3TRVD938n6v7VSQw/JMPPriNW+W4SvXcOEau9tqjwzRd1FcctF8Tn534Si/3+llsePBNeK+Oaf3m5KD6/ntjtdUCuR6vtj8LqZqaJFLgvPLFpQVJN9AJgPEc3Nzfx7rvvqvdECjexevVq0bp1a/Xc7JVn/KzL9JFflwipXneu2hZ9qnXBxv5LUD1jOTg7OquiipuLm1KFpQok/8topSRm7Y5ZfZ2AzCZXKcTUIl6r1A5DavbHin5zUCZrCax/cwH2ex1BpbmvIMocrbQcHl9jWgsc9jutjiP+kYHIk4k1WCa4pnFVX3cVoe36jFqkhIRaCp1Z8ct5/fp1VST57LPPUL9+fVStWlX5CalQoQJKliyppsKFCysXmtRo6HCKmoYUEKrWieowtQ9XV9eYiX2vWNxhVT8nfpm5vUePHspfxy+//KJ8/j4Jeevyrk1SD3TGgLK9sLXHEmy5vFPtYzGF6Xc97BZeWdQdudNlR4m8ReUefrlVQUaFCY2IQJXiFdGr2utY0WcOWhdrqp6BFFkqHiY0i0CO/MLKPz7zJqXqo3fVLljRdw6auNVWKa+0Di7IizKOjdkWi2lXFuKXfb9j82uLUTt3NRW3ijgOqNGxWcCLTkzbpJqozRqjTfA5shU77WYsisl8Z7+aig0H3uTTUI9cqq49Kr+KMat/RphvGN5d+Qku+11Hn+1DsLbPAmw8vRW7fQ6r0JsubsXOO4dgdrCgeNZC8qWSL5aMJKOTK4rmK4a9lw/izM1z6Lt6MA76Hcf8CyvwYcW3kcExPU6HX0TXnR/g1fwtUbZQWdwLua9ef/66522L79f9jP33j+LLbWPRvqwst8vLV7cg31ybFUeuPP2engTThPaOffv2qT5TbKU7a9YsZVt5WiZ/lGd9gYxw7JPFrhUcjYAv4rMdb8GSG2tQek5j7PM5ipknF6FAxnzyWKuAP37nFE56nZXCOB2yOGbG6TsXcSXglnrJr92/iUsB19Ezf3vM/mcBgn2C8eFfI7HL54gtbp6fz89WSGHSyufZvWJHzN+1GCEy/IhN3+GczxX5LGzXSkM1n4c8xtUpPXZf2o/boQ9qRwKjgzF4+Uh8UOdNnAu6jO2+B9Q7Yj2XfcDaRbpP5XM0nFQxPTilBsHCm3wqLFpQdaW6eib6shh9daq4JospflL13hV1RCqw0cLT4i2Om8+Jduv7iLG+M8UP134TIZZQdew+8wml9vF4tqpdeO8vMf3OYhFqCZNHRomd0UfEGBnnrag7So2+HHlDfHdpkjgScVqq8NHifPQ1ccti3ecb7S/GXZ8pDodyn1kEWkLEv9GH1DV4me+K0+bL8ozxb91qwOtk69tatWoJd3d3pdLSmZX1+h9MiUVc53lay1sWIZhO56KviNFXpsn0XaOKojz+aNQZMebaNBEg0+lvn63id68/RaA5SPzqNV+EyfRfcu9vsch7rYxBFvdk+v1wbbo4EX5OHXvRfF14WLzUGXbJZ8Rtt2WYqxYPuRwtrphvie8uTxanoy6pazgjz+9tuS/3mcWR6HOyCBYoIi0RYvz1GeJAyIPWsxHy2rZE7RebI3eLzVF75PM/LI+PO11Tastb4144NyaDVatWqfuK637tBRoE/3PjzwOPZzm+3Ya+4qj5rFx//syd1Bj3f/PmTfHGG2+IUqVKiYULF6oMnRx4mmCxZ1KqYHkSK1euVF4OXzTPJWccDB8l9BkbH+SxaorBptmNrj0cRU35H2xIAbDWgb5nWrdurewk//zzj+riQNvHQ/eo0SQAqeGdcti4caOq5qRxkg2y7t+//1+hEQdGedFArqkm+eUzl0Imk+sTy5ChIhwbPbfjr9ubcSX0Jltd2PYkPsZ9cU7DLG0ntKPQsZVUUdV4RTS8Gtdv92VhzUvB3t8rB2ain3/+WY1WyMHYmcn+/vtva41LIjHh/AxMP7UAu28eQK35bVX7zaSE90bDWqtWrbB06VLVNoU1P/SUp9EkNrIIZP8fLPnljoFGylOnTomaNWuKggULKsNldDTbHLy4DSY2NK7SHkODX7O13cRVwfYqiUPs6+b9nTlzRlSpUkWULVv2qaMMJBe0jcW+bCzyIy46depk3zYWm3xRsI8M+zbQu9qcOXPUSIO0O7B5MpHh1fzFkdLaJHAt9DaOXj8Jd+S0bU94+GXgdbPVKu0mdEv56aefqtEaOcqALupoXgZ2XxSyzWPgDbMxET3KsWEPHWi/8cYbSshw1EHyvALG6NZGdt4/gHbLemHmqz/BCc5qW0JgXBvnnOj2gJ36OEpivXr11IBmnTt3VoZZ3qsWLJqkhu9lqhMssXFzc1NDfmzYsAE5c+ZUPXzpyvHu3bsxGTd+sAEbsPX+HvTfOAwz2oxHx7zNY4RNQsHr8vPzU8ZoCkhZnFN2I9Z+sSWsFiaal02qFiwGbA367bffql6ZN27cUAZeFpVYqxIf6DiATf5HrP8Wddyr44L/Fcy+tFTuSZgiFgUK/aawpSy9wrHlLF0fUMDkz88q8JSJ8YV7PmGesrHHDGg8T3vmudwmsPv+J598ogYz4zAaLGIYPXTJ4xJN2PqOnMAlhCFCrsttUlupY6ogj3n+7uw8Ly3ttJuw2MPm+PSBwYHUU/oD5L2xp2y5cuVUkTS1wVo7TvY0djMdh61cuVJ99OxVwMRbsBiweEF7xVtvvYUcOXKoKlv2o3nikKvqnxQudIyktjDjsBj0/LYOXj7tKMx0ly5dUkOrNmnSRLXN4T57eHBMa76IFJipDT4/ViCwE6e9QMHCNlMcYsdeBQsz33NhVEHTFYBMIOVOoFevXsptQGJXoxnnpluC999/XxQvXlxMnTpV3L/PfioJWzWu0SQ0zC9du3a16/f0mWwscWFIWnYNZ80Rm8HTZQDHSKZLvvh2EYgPbIJPR9f0qs8aLNp+3nvvPeWegNjtV0BjF8h890TN3h54obtjBjYmFofoWY3lYTaPZw0Su4zTwMuE5PQi8PiwsDBVJKDLPw4wRn+0HNmQRbDY16LRaF4uz21jiQtGxYzN+cWLFzFgwAAlWMaMGaMGZad2EV8YF20MNMwOGzZM2RmmTZsGjodkCBEtTDQpiUWLFil/t7RL2uu7m6D6WOyMzl7CdFg0Y8YMDBkyRHlco3HV4EnyzNjHuYeHB9q0aaOMs19++aUSMBwSlaokz6OFiiYlYu/vbaIW9Jh41CwOHDigqoE5ymDHjh3VmCvc9yThQhsNG+ex2NOlSxdV9GH7GY1Gk/xJdMHCiT5cKVSowXBoCzapp6DhYE4ULsZEaJj9+uuvlY2GvmNpmH377bdVK2AjPo0mJWNJBb2bk9Q0zeb0LBaxiwDtJmyfMGXKFAQGBqoBnubOnas0lNu3b6swLPpwHB+Nxt6wd8GSoMbbZ8E4HeccP4c9jVk0YoM2jiH9/fffo3LlyjEJrzUUjb1Boy2bZ7BbjL2+30mqsRAmJCfDRcPq1auVOwPaT+jNjkNqaMOsxp7hR9Xe3+0kFyyPwkSmCwN2dNRoUgtasCQyTGDaV9jGJXZim197DebGDSHMHIlYQJQrZ9vzwK8LfeVa+xppNCkHrbEkAUxkChaOHhcbkxQdpnMXIGRZVAaSWx6YghwuXAJ27YbJx0+NAqjRpCS0YEki6Bbgv61yZcLPnwcMHgJTcJDUTqSmIrUTy6b1sPToDixfAdG4MUx+8fMJo9EkB7RgSQLi0liooTjQ21sjWRyaPEm5WTBZooF2HWBauhRi4s9AmzbArN+twTWaFILWWJIIaiw04D4MBxUXEL/+Aiz5E6C/XYtcj4qGcHSyBnFyBAKDrMsaTQpCC5YkIC6NhRYVlfhOzsBX30D4+EI4O8FhzGjgvf4AneQsWgzR/13rARpNCoEai72TbAWLw5AhMBUqJPUWB5g6dIDDypVqGSM+hem9ATAFhwB/rYZDPnfbERpNykAXhZIAo1YoXbp0ti1WTHXrAlmzWW0rbDDXqZNctv06doTpnXdhKl/eGlijSWFowZLIMIEjIiKey1eLRpMS0RpLEsBEpvMmLVg0qQktWJIA9nR2dk640RA1muSM1lgSCSYsvclxTKLp06fD399fjVS4bNky7NmzR+3XaOwZLVgSASYq262MGzdODXtK59sffvih6uVMT3H2nuia1I3WWBIJJmzevHnVYGcG9KpVrFgx9OzZ07ZFo7FPtGBJJJionOggO3aL21GjRikXlLoopLF3tGBJRIoXL44ePXqo5RIlSqB9+/YxQkejsVdSw4fzpQoWCpCPP/5YuaXkwGMcVVGjSQ1ojSWRoNTmmEEczTBz5sxYs2aNqinSxSCNvaNtLIkER0fkQGatWrWCn58fdu3ahTx58qBTp07KmfadO3dU4msho7FHtGBJYNjCdvfu3ahVq5Yag3nt2rWqHQtHTeS4z//++y8uXLig9i9ZskSN1ayFi8be0ILlBTGEAucnT55EnTp10L9/f8yaNUs1iDMGcyec58yZUw2JwDGFKHAqVKiA7du3w2ymb1utwWjsBy1YXhCOHcS2KX379sUnn3yCQ4cOoXbt2nBycoozcTn0R6lSpdSoiTNnzlSaTMuWLbF//35bCI0mZaM1lueECeft7a0GI2NbFQ5ARi2ELWvZboWJ+riENfax71Djxo2VZtOtWzf873//U0Ot0sDLxnREazGalIoWLPGAmdzX1xe//fYbGjZsqIy0q1atUkKBoxw+DxkzZkS/fv1UrRFb67Zp0wY//PCDGoZVCxVNSoTvrRYszwATiobWdevWqUHfaZRlUWbq1KkoUKDACycij8+WLRu+/fZbHD58WGkt9erVw+zZsxEcHKzOr4WMJqWgBctTMDI0M3uNGjUwZswYNbA7tYvEGsydGszvv/+uapBYTCpTpow6nxYsGk3yId6CxRAmnC5evKjanrz55ptKqGzevBnVqlWDo6OjCpsYUplx0sBbqFAh/Pnnn2qaPHmyssccOHBA2V+M67MHjPt4dG7vGM/QmOwJ3o+9aywmeZPxemoMzhazbIK/bds2vPvuu+jTpw9cXV1tIZLOMGVcenh4uLLl/PLLL6r/EY3GHHCepPQHyHvkYPmsTUtt8NnRFzK7ffBjYi/wPaWrkNGjR9u22B/PLFgY7P79+6qdyYIFC9CiRQsMGTJEtZiNzcvIyMYtBAUFqRa97CbAKmr6eHF3d0/RwoX3xvu4cuUKKlWqZNuaOqDxf8WKFbh165ZdeRikYGFe+u6772xb7BAKlschixVqCgwMFLLIIaQWIF5//XVx9erVmH3JCeOavL29hcyMomDBgmLixInC19c3WV7vs8BrHjRokJg6dWqKvYfngfd54cIFkStXLhEVFWXbah9MmDBBfPbZZ7Y1++SJ+qXcj+PHj6Nu3boYP348li5dqqbChQvbQjydSHPUw5MlyrYn4TE0k+zZs6uvwr59+1Rxje1o1q9fr1rwJjSx7ydamGGWU0Ji3BOfRUrWvDQPY+/P8iHBwpfXmG7cuKHajPTq1Qtjx47Fzp07Ubp0aVtIa8I8LXEYz7CTY9Dz30Eo8nstjDg1FuOuz4AF8hyx/hMLl3huOfeK8sb24P1qWcai9j8rxnVxYjFt+fLlShjyHiggjx49GmPgJcY8vvA4M6LxyupuWOa5Qa1XmdcCq65vtN0L/9t+tmVue97zGTwtze0Fe79Pe7+/hwQLb5YC5f3331c9j1njw57HXObwHPFPDIGfK32OAcXeQJGsBfFTpc8wssh7OBF0FivOr8fVsFtqALIIEYHVlzZh9c3NCBXh+O3cAozaNQ7HZLgXhTVU1atXVwZQNtSjsVkW53DixIkXzORSg5DJN7reCHyy7gscCz2DtOnToF2hZrgQfBUrLqzHdbOHDAP4Iwgr5fomjx0QphcTLJqUD987uxcsvElOd+/eVVbq1157TTlcMmp8smTJohLheRLCZHJ4cKyceJ6zIZfRa/UgeOAumi/thkARhBJz6+Ns2CX8e2MPVt3YiHN3L+G+vw+uBtyyxfT8GOfPkCGDEijs1Fi/fn3lb5e1DVevXn1IwMRefhK8N/7q5KiKCgXLovm8bpjZ4kcc8T+NTiv74Z6DLypObYr7EX5oMq8zrkZ7YM3VrTgSdNoWgya1wnfsefJTSsIhNDRUFRWaN2+u2qVwCA42mX/eJvhPQooWTDs2HwXdC8DDcgcZM7hiZ8AhlM5dEge8TqB18VfQ0b0F+pR+HeULlUXnfC2UXpCQUMAMHjxY9V2iFtauXTs1DAn9wjyrUIkNr+6nWp/Dx/c+ymcuhcUX/0KGjK64HHULhfMXgUfUHRTM5o6Dd4+hW8n2qOxqrQbXpF6e5z1LaThUqVJFGTopUNhq1jDMJqREVQlpS0zhINC5UGv8WHoE9r+6Fq0zNcTqVr/jt+Zj8O2hnzF455cwCZ5balLUNtRRCYdxX3TRwEZ97Hrwzz//qBa8f/31l2oTE58Hz5BOjk5qmTFz8LW62arip7KjcKj9alTMUApL2/6Gb+oNw/92fYsPD36pwhqkhpdM81/sXmNh83gaZtmwLFFvVkXtgJE1PsTHaz7HmDPTUH5+M+z2PYx8E6vg97NLUCRTQYoTODg6YMexXfj1zCx1aGLCjo0UKCwisQVvzZo11XJ8MrxVEHLugHfLv4G5J5dinLw/95nVcSTkDKr90Qobbm9DwUz5ZArY9wul0RAT2wsktvQMiArC7fA7KJOxmFo/H3gV1wJvyozmjjKZisMr3BunfM8jrWNaVM1eHs5wwu57h5ST7fpZq6tjkgJqK+yDxKIgi0lswMQuCuRJaRRuicAxvzOona2KWr8UfA1XAm4gT7pcqJC1JG4E38alwOtwcUqL2jmryrtzVIKLjaRIjhw51NyA+2Kfjw3k6KOGRvXUBIvm7NTKlt7035PS4HPk9Gir4R9//BERERH47LPPbFvsD4ekUMkyO2eUQqW4XOK5TCiVqShauTdWQoXkccmJ5nkboGGumnB1TC8FTBo0zV03SYUKoTBhi112aqShlwbeQYMGPeQDJi5cHKTAsAkVUty1MFrma4SKWUvLu3VAIdf8eCVvfdTPWSNGqERFReH69evKkTjXDWIva1I+rInkx4puWYkhbJIi371MVK1Q8obXlzTXyIfNibVidCrFIiL7QLHane1g6OQ7oWATdWpDnMd+yVgbl5Dn0bxctmzZoppr0KfQwYMHlYAx3jN7Jt6dEJMaXt79SD9kTZMZjiZrr+mkwkgaZnR+ediSlz5hOnbsGDOCY0K/IBy0jW1saFjmMmuxPvroo1RdFKJb0sRoNZ3YsAhEDZj3YUCPivxwsQ8bO8vaK8lesLDFas2l7bC6yxzkRU7b1qSFScSJbV46d+6svjps0cvMTgw3EQlB27ZtlcMsCiw6G2dVOLUYjhSZGgULPRGyxXfszJlS4DPkR4k1hbGh7ZAfqGHDhtm22B/PJFhYUyNzFizy47zy5gYE+gWgbbkWEBYLDvofR7vsr2D9/e0on7k4DgecQkRYBCICw9G9XCdliN3gswO5nXPgyu2raFm6KVacWoMCuQqiSY5aMMu4l9xYiwj/ULQo3Rh50+bEicBzOHr1JEoUL4666athk89ONMlWG2lkXP/478P1GzfQqGRdFEnnjhsRXrgbfg9nb15A/tzuaJa9Np+osm0kFEyis2fPYsSIEbh27ZqyxbAnNQ2KtL0Y9heG48sUO0mNdUOz4Tz2xK8aJy4zPvZiZq9eA76ELi4uarylDz74QG1jmpmkwJ1y4Q9cCL2Ksq4l0L94d1muZUsh6znkfxXWwKL2WJdYi8UGfgkJPwCMV1WQyVOZTLxG6zl4/8tvrsN2nwMonC4/Pi79jtxmlhrokw2yhsbCeUp0m8D75lA2fHf4TCggWSFw6tQp9Q4NHz7cFtIOkTf/TJjlb+yZaaLnloFizqU/RbnFTYRvpL8oMruOuGi+LkrMqSvuR/gI15klxYxzC8WQPV+Jtuv7SNljFs5TC4j3dowQv19eLDJOLCbmX14umq7qKn49M1ss8lwtXt38jlh87S/x89nfxWHvE6LErLpi3a1touPat0RAdKCoNbu1uCN8xG8XF4p6a14VS2/+LUrOrS8O3T8h5l9dIUovaChW3FovSsyoK7Z57UmwHsCM5+bNm6p3cYUKFcTkyZOFFCgiPDxchIaGPjSFhISoXuBSKKje1D4+PuLevXtCfrGEp6eniufGjRvi0qVLQmYUcebMGXH69Glx/PhxceTIEXH48GEhi1pCvoiUAGqSmUnUrFlTNGrUSEyZMsW4KvUs3to1THTf9L7Y6rFLfLT7S3E06LTwE/5i3qXlMsR/Mcut+32PiRV3N8jlaNvWhINXxfT6/sRkcTP4tlo34PnGn54utnvsFX23fiy67xkowz79GozezVJDtG1JWTA9ypUrp7wCzJs3T70bKo2+/1788MMPtlD2yTN+BqxfuzHHJyFtlnQ4HHoa4SISJmcHLO40FSXG1cbsdhORNY0bsmXLirdKdcO3NYZh+5ndCDKFwj1PAUxp8D0a56yNEITjQMgJpJHxnPe5Avc0eXHc+ww8/DzRoWBzZMuQFWnSumCz5w58VOMtZHDMID9/8osuL+HzI+Oxpd1idHZvjZalmmDl5fXquhoVqYdX3VuhWMaCuB1x1/bFjj8yPWImjjLAamca3mjnYO9oFkVozOXXhg6IYk+0udBtJsvP7AaRNWtW1cuaLZjZGTJ//vzK/2+xYsVUmyE2yKMzqooVK4KNFKtWraq+bjye8UthonyRsK9W+fLlbVdI5L1JteDyncso6OaO+vlq4Oc6X6JchhKYd2klpu6bjW339iLUHIpVNzdh5vEF2O69D5HyeU05NgeTD8/BAd9jkBkfK65tkPsX4qDPccjMjz8ur8SiS6vUti13dmHmiYX488oaRMt9USIKK6+ut4WXx8t3YuXNjXL/WhluAQ77nsKFiKuYtHMmZp9dgnvR/rbrZeslR3xStr+61uLZCiMkKlQe/ewayPM+z5cNr5tFHjrpYmdePlvjXlLqPT0rz1QrRKWWpJEFm2HF+mNS+a+wp/MqZEZ6nPa/iCI5C+Ba8C0lfxgfhUAkZLnSEbLw4iRfIRZNmCXkkoMTfi73GZbXm4rRtYahZtaKuNhjB5wzpEWNea2RN11O7O6+Cq+UbIS2i3vhpN95dW523nN1So+giGAZj4BfaKCM3smqeicgLOIsXrwYTZs2Vb586VeXxRA2pEsKaEthK2i2CO7QoUOc7TdMJjPmdJiItWe3oPy8pljpuUmmtpn13nBwcpSCKQ3O+F3Eikt/o3GlBui4oA88zd7yAcr0dzYhrXM6zLixBFOOz0GRokXQafmb8mgLBqwchrMhl3DD5IkPN3+uRqjssWIAvEK9Mf7Ub5h5bhEKFymMJvNeQ2h0CIZv/g5HZNHXOYcLOi7pK+NNSykCU1pHpLG1Ro5NzTUd8NOB6RhXZRRfBsnT372UDg39/PDERuURexcsUjVTC4aAeZygYWae0XAcai1vh0+OjkaRWbWwO/g4Rv39HS70243Baz7DtbBb8LzjhUH7v0LTlV0wtMUgpBNp1DvEaHNmyIa0kSYM2P8Z6ixrj6EHv8OoE+NQ46/2CJWaTJoMabD59k6U/a0RPKLuQkSa4WxylA/BKqwmNfgWeaZUwGcnf8KSUyvxfo2+cFQPifHT8iADyeUH9oTH8+j9Mh2OHTumnIJPmzZNtWWhgZa+dfkSGFNiM2nSJNV/iQbhuM/Ju3REIae8ONnnH6zpOg9DN32FTtveRcf8zVE4fX7UyVQFVbKVQ4PidfDujk8REBmMwNAg1damdPYSqOxaBhOPzMIe78Nov7Iv7gZ54xak4JEp16vwa2jgXhtFsxVEA5eqSJsrgxI6e68cwrZbe9Hhr74IN0ciLCpChX+taBu0zNMY5ggzCjnmg5uzG9rnbILMpgeuSq3PxoyD7WSatp+JhnM7So0pWm5L/PRMLiTFu5OsoO1g+/btIjo6WpX/4oaey2TJ3hIlpGYiTvldED4RfiIgKkh4hHqp8jvngdFBwn1ZDXHW/6I4H3BJRMrwPO5m2G15rDWOwKhAcdbvorgUeE1EiggRbo4QF4KuiZO+54S/3BctosSNYA95jvPiVgjjNqu4o2SZPFrGdz34pjjle0Hci/RR+wLlNXhH0kOcWXiG3VHXJM9ku+4nw/vldOLECVG/fn1RrVo1ITUFZUN5fFokPbTxPLCxWK/7auRNEWAJlsvR4t87e0X2CWXENeEheqx6X24zi1/PzxI9tw0SAeYgkXdqJXHM/4yYeu4PMfDYF2p/3Q2dxe+XlohAGcc9s68Ik88iww+FxXn/K2LT/V2izd+9eSaRbm5x9cw7rnxTjDv7mwiyhAhPcVc+z2hRdGZdccD/uPCy3Be5JpRX6V56RkNxxOvEQ8/AahViWkeLkz7nRTZ5rZHmp9tN7NWD3HfffSfGjx9vW7NPHNheYtSoUUrtZgMe+dLaRE5spLSVEtfB5IRCGfKhnFtx1a4ko1MG5EuXS5WW86XLDVfHDHBycFQta0tkKmzTNhyQ3yUPD5dxOMhjMqJU5qIomrGgKiY5m5xR3LUAymcpiUxOrqp4UyBDXpR1K4l86XPLM5tk8SgXnOSxbMdSIEN+lM1SHNmds6gilqs8Jrv8SvI8uV1yyTgyqGMeRd5rzNyYWNvA1rW9e/dWDeJYrcsiEG0cyfsLY8H00wtRbU5L9Nk8BO9v+hRjO32BTHDFjrv78cXhn2RaOePAtcPotXYgAsOCMe/SMri5ZMKqg+vwwd7PMLXWt/h2xwT03zwM9RZ3RLgIV/esnGsZaWT7UV0c0vA9zNg3D/3/GYZqM1oixBwmU/mBbqhCCguyuGXGyH1jsc/7iG0PpDYagfpLO6LPtk/Qa/1AfFBPapqqRsg4OvVh7xqM6isUEhKCP/74Q/VuphtHuhVg+To+N2/4ggtECDILV2UTob+SuGDVpPWlkiJAzrjkIAVDYsKMojKOnHt5eUFqAMr5E8vA9DuTGG4iEoqH+wrJlOa9yKXzkdfgGXIXBTPmQxHn/CrsseCzSOPojFLpimJ/4DEUdM2P6KhIZXwt6lIIB4KOI4v8KJRKWxR3zPdwIeAyKmUpBzdTRlwRHsiPXDCbzMo5VR6RHdfhCXe5jV0RPKPv41LwVVTLUgEZhIssPt1BTlM2uccBHkJeB/JJIRKCQ/6nUdmtrIqTMM3PRVzBnRBvuLvmRrG0sngpH/rTqryN6uaU2lfocbDKmRUCdEZvrzzUjsXf3x8TJkxQxku+xGwlyJqNZxEwFCxWISHDckHyuLYkFCw77x5QPX+zOWbBq+7NkcnR+hImFrzNwMBANUojHyzdVH799deqBaSRBMn1K/JoJ0SKcOoWTGEF053JrtZpz6AuZ91LTYLb1R2qQ5QOYgvBZT4jpW9wp1rmfys8zlg3ttpOZqAOkaHkXG2VC0qAq+Os4WKu1zhOvSjWcE/CngULaxDZotpeeSjns0McMxubru/ZswflypVTQsbwURJLBv0HJUTkF4gvi6r9eTjqh+DrtMv3EHoW6YTjPmfQanMf645EgNfMDn90hVC7dm01PAj7b8yaNStGqKhrTqZCJS6YutY0tv3ktVvXmLbUH6zbuWZ9DtZ149lYNUnuZ0gjFH/WuTU2aywP1o2fXLallzU+zh8czW2E2w2sR8c6Lla41MiT8pG9EGfu5zjJHGGQDpDmz5+vako4ymFCMqrUIOQSWdEoVy2Em6w9PxMDjjLQrFkz1cqR/lZ4T2xTkhoeriZ5YnzM7JmHBEvMF0VOrO5kAy6OMEj/EezdywzKjEoDLxPnRTInVeOaf7dHr+Uf4PtqQ1Xx6IEp8PnhNfH62PS+Z8+eapRG2lAoUDgMqzHwlfFg7f0Ba5IfqU6wxAX7qXDUQ7br6NGjB/r27avK+iz/PjeyfM3i9v62a7C02wy0n9sbweZQ7rDuf074wNjp6/PPP1c9g9mqlQKF180yrRYimuRCqhYsvHkjAZgxWTXLJuYsKrGXL1ukenp6qv2GBsPpWWCTcgqSUq7FYY40IzoqSgmc+BD7XD4+Pvjtt9/UWEhsjk87CnuP0jtbSn6Ise8xPulrD9jrvaaGZxhvtwlGcFbZfvnll8r28sUXX6Br166qCu1ZMnGkiEDVFe3QvEgD7Li2FwXTuWNp62lwEPEz6vFa6MJgx44dqoqcfXDYLscYWC0lC5TYsFaITs7Z38Re7ulZYHGWbiTsrVboq6++Uh88o7e6PfJC/lh4KAfsZuMyum9kU/hXXnnlP13c48oModFhMAsLHE0OSOfkouoN4gPPfeTIEbzzzjvKf+iSJUtULVZK7F7/NDj+EZ2e2+O9PQ125mSx294EC9tNDRgwwLbF/nhhR088nNW57LBHzYWevqg1sKeuEXVCfmUZ5+XLl5X3rZs3byqtqUmTJsoWZI9fc95vWFiYEp6pET5TNoOwp2fLdzZ37txasDwrbMHLrv6s1qV7gJEjRyr3APzS8jTxeTkeDc91qsSsoaIvWhqR2RSfXzSNJiXBD3C+fPnQv39/2xb7I0F1a9pYmNlpOKWPkS5duiiva/RGb/CscswQKgxPY+xPP/2E1q1bq+1sis9Wi1qoaDTJk0QptNOhzSeffKJauwYHB6vhW6dOnaqa1MdHa6H6v3r1atUxkA6VWeVNH7Asn8YnHo0mOcGPpb3byxLl7pjpOdHyzc5+rLXhaIMsFrGrQHR0tErcx2kv3E6/oBUqVFBdDNitgM6P6BuFaKGi0SRvkkRs0lBFz/N0nMS2JexYxv5IcQmI8+fPqzYy3bp1U2NKMxxbABs8ThhpNCkFvsP2/nFMVMFiaC6c6G2e4yLT5SLbZXCcHtpgjC4Ct2/fVlby7t27K3+vNNByTBajtif2pNGkZLRgSQQoKNiYjvaS6tWrK9cMFDR0Wk0n1PQxy2FNtWFWY8/Yu2BJ0Orm54EN7Niw7cCBA/F2LqXRpETosZHNMd58803bFvvjpZumqZnQi7mbG91LaqGisX90USgJYAIbDeg0mtRAanjXX7pgod8XCpa4nXhrNPYHBYtux5LIaI1Fo7E/tGDRaF4CWmNJZJjA7BKvi0Ka1IK2sSQR9ENLdwtaa9GkBvie61qhJICChZ7gNJrUgr0XhV56AzlqKmzqz3F+6Pxa81/YIfPGjRt2/5V7FLZvohMve2Po0KHKrQi7r9grL12w0LbCvkHjxo1TXuc0D8PHwy4P7CGemsZDogZLD4EvNBpEMoWCpWrVqqqjrb2SLAQLHTjRIVTDhg1T3Vf5afDx0KkVXU7Q41hqSR92SuU4UPYoWNgBl/3k2GfOXkkWBb306dOrYVy1UPkvRpoYtWapRWOxZ/gM7f1dTxaCxdXVVTmM1jwZvoxa+GpSAslCsNBXrhYsmtSE1lgSGSYwBQuLQhpNakAXhZII2lhS67g5mtSJFixJgC4KaVIbWrAkARQsWmPRpBZ0USiJYFFIayya1IQWLEkAq5u18dYKv2ZPa6tigVlOFhmO/zlnB84n9w43whtTfBCxz6X+P/546/Vzv25v87jnqDWWJIAJrGuFHnD//v3HvpAG3Pv+phEYsH0k3tkxDJu8dsltT35RTTLEpmvbsermRtuW+HHI9xS6/zMQow78+MQzfX50PE4EnHvq9aQGnvYc7ZmXLliY+NRYUruNxXgJ33nnHTU8LUcvYAfNuHCQvzWXt+CDqn0wotpA9F45UGZjahVWbYEajTG3yGip0UCYcNnnOs76X5ExMNNT94it+TzIBAxv3SLjsW7AkG1f4N1yPTG6xlC1DnlMzLn4U+tmbLm9C57h3nL5wTbrMuPkpPQftRwfjPRJSbBj7eXLl+N0CaI1liSAYw2ldo2FLxpfPtqaOD516dKl8fbbb8PDw+PxXez5cpqoG3C/g4qj2cbuyDq+DAYcHGXdJjPw2wdHwO2nUhi+93t5Dgv6nxiFTYG75aEmjDz1I367uZidxlSUZJnHemSbWBoFZ9bGXeGNtQE7cPD6MXTZ9B7umQKkjHKQokFerzxf2y1vIstPJfHh4a9gkdt5TcwyxwLPINfMysj6S1ksvL5abnHA+Asz5LWVQvVVbWCxULA8WVgYaRKblCJgeJ3r169XwwT36tULd+7cibl2zrXbhCTgyJEj+PHHH9UYzc/Ci14yjzfiMOYcT5r9cThFRUWprwy3EUObYo9bhuc+Tlw3jjH8yRhheCzDGHFxG5cJ5xQg3GbEwW08Zu7cuTEd75ixOIhb2rRp1Vg0H3zwgdpODSHflCooVbQELnhdRvUClbCy6e9oubEnWuRtjF5lOuHtLcPQtVQ7OKVJgzknl2DuKz/j98MLgXQm9CzeCS1Wv4Hz3behyIK6ONJ1A7I4Z1aCxtvki9pz22J7txW44n8NnZe8jSsfHUCd+e0w4/UJqJu+shJX1Dm+PDMRPvfu45t6Q1F3ZSccf30LGv/dGZ9X/xjrr29DHrcc6FekG8KjwxGRJgrd/nwPm7suwm8XFyJNhBOGV36fd6nu6VHYCZFD6/bt21elA6GnQaYF041O2PlBIsyk3E4Y1tgee5lwNE7C7fQBxDnj4jLj4DrPwbgJ59xHuD+uZR4TO15jmcfyw7B582a1nj17dtXpcPjw4fj555+VO4i2bduqffbISxcsPP3du3fRo0cP1K5d+z8ZjpmNmS525mVGfzQMMy+XOXEftxEjUxv7DfgSxJ4TY9n4mhhzvmyELwvDcDuXjTm3cU6MF9bYxxct9rIRxoiT+4z93Pbnn38q9dkgW7Zsauzr999/X03EECyb+yxGwXT5UW9RB/zWZTw6/NYLG99YgopZS2P+meXYHXIY5ggLOhVtgXZ5X8GUw3Pg7xyE4eXfQ8FpNTCq9cfYeHor1rSdI2+eWgiw+M5aLDm6EmtazYavCELOsWVwd8gpNF3RBSt7zkVRk7u6BotM03Zb+iDYHIZKBcojOjQKX1UbgnZr++LLGkPgniY3Pj/4E7x8vfBx4/fhIJP2f5u/RseqUluJtqBK1nJ4M//rKq64oGChzxL2ejcEsiGoCZ+pscznGns7wz26TPhOcBvhO8Tj+Kx4bOz3xXhPODeOf3SZ4Xks4zOOJcYyn+nZs2fh5+en1g3q1aunnimLvG3atLFttT+ShWAhP/30EwIDA1XVMx8Yv0DMaJyYEfmg6PiH4WOHYYbkfk5c5heK+xiWxM7onLhMODcmYux7dDL2GfPY24zlR8Ma67H387pjzw1ibyft27dXA+jnyJEDr7/+OkaOHImxY8eiVKlSMYKFNop8kytLwbIE7i650ezPrvix09cY9ff36FOpC/qV7IpX172NV0u3hV+4H455n8bsRj/hmz0TkDaD1H4qfYifLs7E6E0/Y2Kr79C7aGdZrJHXIUy4Jm6j7R9vYGf3lbgQeA2tFnaD56ATqLuwPVa+EUuwyN/wY2Ph4+eD35r8gL9vbUVT97p4ZW1PfFFdCpYMuZHTJTsi5K/EL3Ww78ON6Lb4HRztsxk3Q24jyBKIWpmrqbjigoKFX/ULFy78J80ex9PCPW6/kfaEy8a6sWysGwKHPBrGWI4dhv5WNmzYoM6ZJ08e9O7dW/nW4fNs0aKFchdit8jESDbIh2JbejwM82i4ZzkupSCFiZAvpLhx40bMfQ0aNEhMmTJFLZNo+auxuK0oPKOWKPpbbfHerhHCLCzCzxIgys9rKvLNrSI6rXtHHm+Woc2i+qJWIt+MKqLmqnbig4OjVNhIS6RI92tRESSCrZFKGNoi/3+892uRf3Y1UWhmLbHX94iKp/WaXuKGxdMaUMI4oixRos6f7UW+OVVFrUVthVmGG3BopCiysK74/tRkUXROHVFwQS0x7tIMFX7Irq9EvllVRLGZdcTJsAu2mOLGw8NDFC9e3LaW8uCza9WqlZDaphg8eLAICAhQ2zjxea5fv94W0j5JFjYWYlzGs3yZ7BkW76ilUfNhmjA9+JV7oLHwC8l04pxpJecqyahxsDjDdQFHbpR/1jBSv5BFHQd5IPdJvQojz/6IiIBQTKj9pQymIohBxWE7h1qQ4RkHi0tGWGpNhsHXqu2oRYn1Gog1LL/gcltMAOte7pEFQLUlLlK6oyc+u1WrVinNhM0pjG18nlKwqGJQy5Yt1XZ7JNmYppngqV2oEMMmQ+JODyOdjCIXK5/5s9l/5LojM6ycPwjDLdawEYhG13/fx937Xvi82hDm8/8gQ8p41H91rBEHtxgoEUNBo87PMMZkvQZOMcdxW8yP1+Ko5vYM7/nVV1+NESqE2wxiL9sjyUawaJIGF6TBn42nYFaD8XBzzkgpotEkOFqwpDKseohVc+D/2FqIJunQGotGo0lQaGsxirv2ihYsGk0SY1RU2DNasGg0LwFdFNJoNAmOFiwajSZBMdqz2DNasGg0SUB0dDTu3bunJvbkDwgIUL53OLdHm0uyaXmriRs+Hg6xWqJECdVb1t6/dAaenp6q1aq9DLEaHByMypUrK8HCjrZGR9QGDRpgxYoVat2e0IIlmcPHM3DgQMyfPz+mE2ZqgPfp5ub2UE/vlIrxzNg1Y/LkyWrZYO/evapXv72hBUsyh4+HXzl7VZkfBzUzfsULFSpk25LyoVdAai0+Pj5qnU6gDh48GONLxp7QgiUFwEeUWopAsbG3+7ZYLBg8eDAmTZqkhOaOHTvsUlshWrBoNEkEs9r58+dRs2ZNFC9eHPv377c724qBFiwaTRLC7DZkyBDllrJp06Z2q4lqwaJJFRhuJZNDRqYrTNYIJTehQlHAazKu60WuTwsWTaqgU6dOuHbtmso8miezb98+VQOpBYtG8xToge+rr75CkSJFbFsez6WQa1jv+S/oVqJD4RYo4JSHOUXukRnt0dzyUN6TO63u/BIHRm2cX51GwA/ByIQMoBuux547rs2PyfX03Mf2Q/Qr/SJowaJJFVCwLF26VFXxPo2cU8tjRP1BiDBHYu+Nw1jTfjYWXv0LrdybIFtaN1soKxytIMIUhTXXNqFLoTbyK584jdkDEYLDnifQOG9tKSesksIizOi8+l1832gESroVVYLwcdD5+bUID3iH3UfNzBXhYHrYg58hBtggMX/+/C+ssegm/RrNI4Q6hKNnyU4YXul9KVTmwCvKG8PWf4P11/5BkDkEXuHe2OVxQE3hlnAcCziNURu/x2GfE+r4a8G3sOvWARy9d0oqBgIhljAc9zmD3bcP4ti90zhy/xR2exxEkCVEhha4FiLD3zyAYz6nlSJxP9oPx/3OyvgP4uCdYzBzhMm7uzB+9xRcCLqqzsF4KWA+q/ch8rvmxdWQm/AzB6jtB+8dR5g5AnfD76vr2HP7EIItoZh3aTkmHZ+DK8E3VRyxedSu8iJChWjBokk1PGtmaVa0Adx/qYLRpycjTITD3yFE+Qo+GX4R0Q7ReGPbR7jtfB9jT0zGjKuLcDXiFkKl8DgVeUkNOFttdgv4uYXgre3/w8Jbf+Fc+FXUW9YJPpmC0GppDyy/txFr/f/FGzs/VPFW/kOGzxSC3us+woHw41jmuQ7tV/bB3Qy+eGvzJ1jutxGngy/gnhQ4HuKuEh78s8jb6bbiPVzxvYEfT0zD5nu7lBBqs+AN3A7wQOeVb+GC83Vs9d+rhM2tcE94ht3FzUgv250+TEIJFaIFi0bzCCte+Q3XBx6ER5AnCk+viVKOheHmlBF98nVCZpMrFjSbiMM3j+G47xmcvn8JLXPWR440WdE3b2fcgpfSRD7dMhqegXew9MJamVMtaFGsMdq7NkbpPCWkNtQR/fJ3hq8IxIq7GxEdFYkRW7+Dt8UX848sVZpI/WK10NmtObrU6ASvSx5q7KeyGYujSaZaLLcoc4p14AOG5gLHpuI6ZY4aQwGlC5TChM3TUDRjfjTOVRsNc9dEjdyV0DibjCOR0YJFo7FhHazeAi/LfeRNnxvTao+GJQOHLuFe6gkWBIpQ1PqjLV4r3AYf1n1XZm5WY9uytgzoItKgZP7i2NZpKY7224z5zX6R2x2UEDBGNZD/YrSC9E4uqFGgCv7tvAzH+2zG2Doj1Xblj9g20gHHyIaMg9fAo4zhVtR+FVptlTcg70Bt4D8TptUbjT/aTca+W0fR8d931HmtQW0SKBHRgkWjicECPxGAyjObYfDOr/DRzi+RBRmVwHB1dcXkU/Nw2v88AsODsPHKv1h/YiuO3TqDWyFe8Db7YcLxGchpyorwoAiM3TsJ/VYPwR+nl9vi/i/M462yNsRNXw/8uH8q+q75CKvvbY0z47vCBXvvH8Wc81KjUdLj4TAF07lj0s5ZGLVjDAIiA+UWge7bBuGvKxsQHRmNPOlyInf6HNh0ehvmXXj8NSUUulZIkypgrdCyZctQvnx525bHEyxC8I/vfjg5OKJllnpSAJgQgGD8470XjbLXQog5FEf9zqJtzsbYcG87GstttyLu4ErQTbTN0RiRiMYmn50olMEd5dMWR5gpHN7CDwWRB9eEJ3KbsimN5Ba8UdSUF2EiElt8dqFgpgKomKaEOlcIQpFP5FSD9DtIbSW7yQ3/Bh5Ceoc0qJmhorpO6lDFZtTBqlfnoGz2EvgnYB+yurghfZp0KOzAoXAFdvgdRFrHNGicsabSfP7124+MadKjenpr7dij9pTYtUIvghYsmlRBfASLyhKyrGHNGFKsCGM0RzmX2oKyashlag7MrMZ+VZhi8YQH8niG5YrKYtbCgYpVblNhCItGcr/1OBarHoRTeon8x/MwHp5FZtiYba9sfwMnTp/EhQ/2wM2USZV0bKeWYXgOFYOcCA/i9fPPKEJZiS1cEkqw6KKQRvMIzGgPxm5kpjZGc3SMGeHROvrjw/s5p3Bh1lUx2OJ5sJ/b5Lqyl9gmmdGt8XH+SDgVv/V8DGtdto4iyX1/1ZsJz4HHkNUhs+1c6mzW41VYLlvjUcvqON6DVZCwawGnxEALFo0mAaHQWH97O26H3bVt+S9UJCwwY+GZ5QiNDovRKeKLq3MGOJuer3c0BQ17VnNI38RACxaNJgFhEeSboz/jVMAFKTAoMuR/Fl+sS+o/J7Mslrz19//gF+4v17lFFqNUuAdhH/ys9VVcsh6fMFg1ocRBCxaNJoFh1t/teQALTq3AvvtHpbCxIEpEYeWl9fjjzApcCbquwljztUmJjM23dmGB1GB23N2ntJl/7uyBl9R6PEK9cD7wigqzwXt7AoqVxEULFo0mQbEaXT2C7sApd1q0WdJLChUz3tk9HJt9diM6C9Bh5ZsqjNWoC4w//Ru+PjABhYsVQadFb+JSwHXMP7kMCy+vxtQLf+CdPcOxLXg/lp5eSwuKOia5owWLRpOA0HhKLaRbyfbolr0NWhZohP3iFDYd34o/Ti3DR1s/wwXfq1KmWGuU2Ilx1Zl1+KzOR6ibtgom9BmDGWcWoGf117DX8xD+vbcH5y6exc/HZuDNUl20xqLRpG6k4JD/b1u8kcMhCxwsDvirwxzc6nUYt4ccs+6VQsVBzjO7ZEJQZIgKf/b6eWR2c0OzLLVxwvssXPyc0bRUI2zYvRlFs6Ycx+JasGg0CYgqCJkEZp5agLd2DEVwRDBKicKY8Pq3GLb5W3z4zyhVPFJ6jYMJE67MxoDKfTB867d4e+dQTN4/BwOKvKFql9i3p07RGni7Wg+UKFwCeVyyqzOkBHQDOU2qID4N5F4EGl49xT1c9L+GdM4uqO5aAY62fj7nI67hbsR91MhUAS6mtLgYfh3Ojo4o7JwfnlF3cT7oKupkrQIXpKVsgo8pEM7CEemRDv4IRDaTW0xRK7HQLW81mniQVIIlpaNb3mo0mmSLFiwaTQLgI+i9jY3cLFjv/S++PjQB18JvqW2PY8aFRfCJ9LOtPZlo+aN7SsZ/MeQavjj0I/YFHlPryREtWDSaBGD68Xm4J/wRJQXAqO1jUT13RWR0eLJD6mEHv8ed8Pty6enWiBMRF7H2ymaYpaBqt7IPGrrXQS6nrHJP8rRkaMGi0SQApbMWRxpTGow6Pg4iUkA4m5DNOYvM9qxYtv5mnFuI0XsmYrv3frVuq0PCnQgfTDg6A9/vm4i9fkfVvg1e21XY+ZeWq/XcabMhj1surLy9Ef7+/rgQeAWF07mrtjDJES1YNJoE4I+DSxEgglAwRwHkdMkK90x5cTroIg74HMWp0Ev46fJMrL/6DxpWqIteawZKUWGRQsUqFL7aOQ5Xo26hbplaWH/5H6n5+KH/hqFoUqkhZp1YjK339+Cq5RaWXFyD7K7ZkM7JBYWyFZBCxUHVHiVHtGDRaBIIVgW3cm+EIhkKoEK6EjgZdh5HQs7Cx+yLaUfmYte9Q+i6fgDCIyPhiXu2o4DmlZpi8eFVWHx2NQaV74uVtzbgfqgfXl/3Ds4HX8FOj/0yFP3BCJR3K4Wszm5ola2hEipaY9Fo7BhqH/R7YvVNyw0O6JmrIwYWeAMNM1ZHzkw5MKnB17jWdQ8uDdiLvCKHavPC4lCnHK/g5nsH0bVIGxSbUgfpMqRDo4K1caXLblzuuwdfVhwsQ8nMKoVITF8hLsvJ2q4l+aEFi0aTqDDjO2B+/Z8xdOt3aLOqD2oubKMGOcuRITve2/4pPj0yDo2WvYafjs1E0XxF0DVra1z380DLlW+g2pyW2BV8xBpVCkI3kNOkChK7gZy38EUWUyZVSRMkf1lMWf6jS9wx38ONEE+UzlQUriI9AhGMO1H3UcK5EC5F3kRwZDAqZywtQzogUkSqsYRyuuSAu1MuRMhfGCKRCa6yEOWD3KYcD7SXBOTSpUvIly+fHmJVo3kWKFh69eqlMk1iYG2vYmK/QuVnxZrlH874Rk0Qw1jdQ1oDsoezMsLKf1Z/tA9nSRYrlKlXbmYIHqrmiVDg8Pb2xgcffIAMGTLYtjwfWrBoUgVDhw7FrVu3ZKZOPq/76dOnlXtICr3kcl2028ydOxcuLi62Lc+HFiyaVEFyes15LczA06dPh5+fHz799FPbnuTFi7iu1MZbTaqAmSS5TA4O1myXPXt2+Pr6xhkmOUwvghYsGs1LgBk3V65cCAzkqIX2hxYsGs1LIlOmTAgKCrKt2RdasGg0LwkaSENDQ21r9oUWLBrNS8LJyQkREREwm9kC177QgkWjSWJYK8SJXtrCw8MRHR2drGqtEgJd3azRJDGLFi3CunXrVI3Q3r17VTsWai0TJkxAgwYNbKFSNlqwaDRJzOHDh1G/fn2lrRhUrFgRR44cgaMjB5ZP+eiikEaTxFSpUgW9e/e2rVmrnnv06BHTvsUe0BqLRvMSYJ+cokWLIjg4GFmyZMG5c+dUuxZ7QWssGs1LIEeOHPjss8+UtkLthev2840H/g/3ApZdFQOteQAAAABJRU5ErkJggg==)"
      ],
      "metadata": {
        "id": "VaGZT8eqwxKa"
      }
    },
    {
      "cell_type": "code",
      "source": [
        "# grade = int(input(\"Enter grade\"))\n",
        "# if grade >= 90:\n",
        "#     print(\"Excellent!\")\n",
        "# elif grade >= 80:\n",
        "#     print(\"Very good!\")\n",
        "# elif grade >= 70:\n",
        "#     print(\"Good!\")\n",
        "# else:\n",
        "#     print(\"Needs improvement.\")\n",
        "\n",
        "age = 20\n",
        "print(age)\n",
        "\n"
      ],
      "metadata": {
        "id": "byGrmvjjwqOt",
        "colab": {
          "base_uri": "https://localhost:8080/"
        },
        "outputId": "4161720d-1168-4909-a03b-67aceaf42ceb"
      },
      "execution_count": null,
      "outputs": [
        {
          "output_type": "stream",
          "name": "stdout",
          "text": [
            "Enter grade50\n",
            "Needs improvement.\n",
            "20\n"
          ]
        }
      ]
    },
    {
      "cell_type": "markdown",
      "source": [
        "### Loops in Python\n",
        "\n",
        "* Loops are constructs that allow you to repeat a block of code multiple times, often based on a specific condition.\n",
        "* Indentation is crucial in Python to define the code block within each loop.\n",
        "* Use break to exit a loop prematurely and continue to skip to the next iteration.\n",
        "* Loops are essential for automating repetitive tasks, processing data iteratively, and creating game loops or simulations.\n",
        "* The range() function is often used to generate a sequence of numbers for iterating in a for loop.\n",
        "* You can create nested loops (loops within loops) to handle more complex scenarios.\n",
        "\n",
        "\n",
        "Types of Loops:\n",
        "\n",
        "1. For Loop\n",
        "2. While Loop"
      ],
      "metadata": {
        "id": "XBzA3i6byqw4"
      }
    },
    {
      "cell_type": "markdown",
      "source": [
        "#### For Loop\n",
        "\n",
        "* Iterates over a sequence of items (like a list, string, or tuple).\n",
        "* Executes the code block once for each item in the sequence.\n",
        "\n",
        "`for item in sequence:`\n",
        "    # Code to execute for each item"
      ],
      "metadata": {
        "id": "roq2VybPzdWO"
      }
    },
    {
      "cell_type": "code",
      "source": [
        "fruits = [\"apple\", \"banana\", \"orange\"]\n",
        "for fruit in fruits:\n",
        "    print(\"I like\", fruit)\n"
      ],
      "metadata": {
        "colab": {
          "base_uri": "https://localhost:8080/"
        },
        "id": "sLclIeDCxFu4",
        "outputId": "83b0f3bc-bc66-4668-c5b2-6f8f081efc94"
      },
      "execution_count": null,
      "outputs": [
        {
          "output_type": "stream",
          "name": "stdout",
          "text": [
            "I like apple\n",
            "I like banana\n",
            "I like orange\n"
          ]
        }
      ]
    },
    {
      "cell_type": "markdown",
      "source": [
        "### While Loop\n",
        "\n",
        "* Continues to execute a code block as long as a specified condition remains True.\n",
        "\n",
        "`while condition:`\n",
        "    # Code to execute while the condition is True\n"
      ],
      "metadata": {
        "id": "nH5zH0IJ0GK2"
      }
    },
    {
      "cell_type": "code",
      "source": [
        "count = 0\n",
        "while count < 5:\n",
        "    print(\"Counting:\", count)\n",
        "    count += 1  # Increment count to eventually exit the loop\n"
      ],
      "metadata": {
        "colab": {
          "base_uri": "https://localhost:8080/"
        },
        "id": "-pCKdr30yHxC",
        "outputId": "beee81dd-eb44-4e8a-e2e4-d8408027c816"
      },
      "execution_count": null,
      "outputs": [
        {
          "output_type": "stream",
          "name": "stdout",
          "text": [
            "Counting: 0\n",
            "Counting: 1\n",
            "Counting: 2\n",
            "Counting: 3\n",
            "Counting: 4\n"
          ]
        }
      ]
    },
    {
      "cell_type": "markdown",
      "source": [
        "### Functions in Python\n",
        "\n",
        "Functions are reusable blocks of code that perform specific tasks. They help organize your code, make it more modular, and reduce repetition.\n",
        "\n",
        "Defining a Function:\n",
        "\n",
        "    def function_name(parameters):\n",
        "    Code to be executed\n",
        "    return output (optional)\n",
        "\n",
        "Elements of a Function:\n",
        "\n",
        "* `def` keyword: Signals the start of a function definition.\n",
        "* `function_name`: A descriptive name you choose for the function.\n",
        "* `parameters`: Inputs the function accepts (optional).\n",
        "* `:` : Marks the end of the function header.\n",
        "* Code block: Indented lines of code that the function executes.\n",
        "* `return statement`: Optionally returns a value from the function (can be any data type).\n",
        "\n",
        "Calling a Function:\n",
        "\n",
        "    result = function_name(arguments)\n",
        "\n",
        "* Replace function_name with the actual function name.\n",
        "* Provide values for arguments (if any) as input to the function.\n",
        "* The function's output, if any, is assigned to the variable result.\n",
        "\n",
        "Parameters and Arguments:\n",
        "\n",
        "* Parameters: Variables defined in the function's header, acting as placeholders for input values.\n",
        "* Arguments: Actual values passed to the function when it's called."
      ],
      "metadata": {
        "id": "jC43K-cb1AyL"
      }
    },
    {
      "cell_type": "code",
      "source": [
        "def greet(name):\n",
        "    \"\"\"Greets a person by name.\"\"\"\n",
        "    print(\"Hello, \" + name + \"!\")\n",
        "\n",
        "greet(\"Jason\")  # Output: Hello, Alice!\n"
      ],
      "metadata": {
        "colab": {
          "base_uri": "https://localhost:8080/"
        },
        "id": "ELsJlzny0QCi",
        "outputId": "117ff336-0b84-40f6-cc74-39663e3f4f6f"
      },
      "execution_count": null,
      "outputs": [
        {
          "output_type": "stream",
          "name": "stdout",
          "text": [
            "Hello, Jason!\n"
          ]
        }
      ]
    },
    {
      "cell_type": "code",
      "source": [
        "def calculate_area(length, width=10):  # Default parameter for width\n",
        "    area = length * width\n",
        "    return area\n",
        "\n",
        "rectangle_area = calculate_area(5)  # Uses default width\n",
        "square_area = calculate_area(5, 5)  # Overrides default width\n",
        "\n",
        "\n"
      ],
      "metadata": {
        "id": "FmLIx5ac63LC"
      },
      "execution_count": null,
      "outputs": []
    },
    {
      "cell_type": "markdown",
      "source": [
        "### Exception Handling in Python\n",
        "\n",
        "* Exception Handling is a mechanism for managing errors that occur during program execution, preventing abrupt termination and ensuring graceful recovery.\n",
        "\n",
        "Key Concepts:\n",
        "\n",
        "* Exceptions: Errors or unexpected events that disrupt the normal flow of code.\n",
        "* Try Block: A block of code where you anticipate potential exceptions.\n",
        "* Except Block: A block of code that handles raised exceptions, preventing program crashes.\n",
        "* Raise Statement: Used to raise an exception manually.\n",
        "\n",
        "Common Exception Handling Statements:\n",
        "\n",
        "`try...except`: Handles specific types of exceptions.<br>\n",
        "`try...except...else`: Executes code if no exception occurs. <br>\n",
        "`try...except...finally`: Always executes the finally block, regardless of exceptions."
      ],
      "metadata": {
        "id": "JUe3-tX1e7eZ"
      }
    },
    {
      "cell_type": "code",
      "source": [
        "try:\n",
        "    result = 10 / 0  # This will raise a ZeroDivisionError\n",
        "except ZeroDivisionError:\n",
        "    print(\"Cannot divide by zero!\")\n",
        "\n",
        "print(\"Program continues running...\")\n"
      ],
      "metadata": {
        "colab": {
          "base_uri": "https://localhost:8080/"
        },
        "id": "YX_93SDy7I-o",
        "outputId": "141dac42-45db-44a7-ca77-1dc9e3bf1bac"
      },
      "execution_count": null,
      "outputs": [
        {
          "output_type": "stream",
          "name": "stdout",
          "text": [
            "Cannot divide by zero!\n",
            "Program continues running...\n"
          ]
        }
      ]
    },
    {
      "cell_type": "code",
      "source": [
        "try:\n",
        "    num = int(input(\"Enter a number: \"))\n",
        "except ValueError:\n",
        "    print(\"Invalid input. Please enter a number.\")\n",
        "else:\n",
        "    print(\"You entered:\", num)\n",
        "finally:\n",
        "    print(\"This code always executes.\")\n"
      ],
      "metadata": {
        "colab": {
          "base_uri": "https://localhost:8080/"
        },
        "id": "gIEpVfHM7ZSl",
        "outputId": "adf3b872-fc85-4981-edca-40da3d67f100"
      },
      "execution_count": null,
      "outputs": [
        {
          "output_type": "stream",
          "name": "stdout",
          "text": [
            "Enter a number: 10\n",
            "You entered: 10\n",
            "This code always executes.\n"
          ]
        }
      ]
    },
    {
      "cell_type": "code",
      "source": [
        "age = 17\n",
        "if age < 18:\n",
        "    raise ValueError(\"You must be 18 or older to access this content.\")\n"
      ],
      "metadata": {
        "colab": {
          "base_uri": "https://localhost:8080/",
          "height": 210
        },
        "id": "jagytPVnfvzD",
        "outputId": "14b751f8-7a34-4ae4-f64f-f4d1f7846541"
      },
      "execution_count": null,
      "outputs": [
        {
          "output_type": "error",
          "ename": "ValueError",
          "evalue": "You must be 18 or older to access this content.",
          "traceback": [
            "\u001b[0;31m---------------------------------------------------------------------------\u001b[0m",
            "\u001b[0;31mValueError\u001b[0m                                Traceback (most recent call last)",
            "\u001b[0;32m<ipython-input-137-682dfaf6fb50>\u001b[0m in \u001b[0;36m<cell line: 2>\u001b[0;34m()\u001b[0m\n\u001b[1;32m      1\u001b[0m \u001b[0mage\u001b[0m \u001b[0;34m=\u001b[0m \u001b[0;36m17\u001b[0m\u001b[0;34m\u001b[0m\u001b[0;34m\u001b[0m\u001b[0m\n\u001b[1;32m      2\u001b[0m \u001b[0;32mif\u001b[0m \u001b[0mage\u001b[0m \u001b[0;34m<\u001b[0m \u001b[0;36m18\u001b[0m\u001b[0;34m:\u001b[0m\u001b[0;34m\u001b[0m\u001b[0;34m\u001b[0m\u001b[0m\n\u001b[0;32m----> 3\u001b[0;31m     \u001b[0;32mraise\u001b[0m \u001b[0mValueError\u001b[0m\u001b[0;34m(\u001b[0m\u001b[0;34m\"You must be 18 or older to access this content.\"\u001b[0m\u001b[0;34m)\u001b[0m\u001b[0;34m\u001b[0m\u001b[0;34m\u001b[0m\u001b[0m\n\u001b[0m",
            "\u001b[0;31mValueError\u001b[0m: You must be 18 or older to access this content."
          ]
        }
      ]
    },
    {
      "cell_type": "markdown",
      "source": [
        "### Some Advanced Functions in Python\n",
        "\n",
        "1. List Comprehension\n",
        "2. Zip()\n",
        "3. Lambda()\n"
      ],
      "metadata": {
        "id": "m10NZcnTim3G"
      }
    },
    {
      "cell_type": "markdown",
      "source": [
        "#### List Comprehension\n",
        "\n",
        "* Creates lists concisely using an expression within square brackets.<br>\n",
        "\n",
        "Syntax:\n",
        "    #[expression for item in iterable if condition]"
      ],
      "metadata": {
        "id": "xIhriJGJi2no"
      }
    },
    {
      "cell_type": "code",
      "source": [
        "# Create a list of squares\n",
        "squares = [x**2 for x in range(10)]  # [0, 1, 4, 9, 16, 25, 36, 49, 64, 81]\n",
        "\n",
        "# Create a list of even numbers from a list\n",
        "even_numbers = [num for num in range(0,100) if num % 2 == 0]\n",
        "\n",
        "print(even_numbers)"
      ],
      "metadata": {
        "id": "7jNJPYl3f7A0",
        "colab": {
          "base_uri": "https://localhost:8080/"
        },
        "outputId": "b6016bfe-7580-4dc4-839c-b68dedba503b"
      },
      "execution_count": null,
      "outputs": [
        {
          "output_type": "stream",
          "name": "stdout",
          "text": [
            "[0, 2, 4, 6, 8, 10, 12, 14, 16, 18, 20, 22, 24, 26, 28, 30, 32, 34, 36, 38, 40, 42, 44, 46, 48, 50, 52, 54, 56, 58, 60, 62, 64, 66, 68, 70, 72, 74, 76, 78, 80, 82, 84, 86, 88, 90, 92, 94, 96, 98]\n"
          ]
        }
      ]
    },
    {
      "cell_type": "markdown",
      "source": [
        "#### Zip()\n",
        "\n",
        "* Combines elements from multiple iterables into pairs."
      ],
      "metadata": {
        "id": "h4XAQzlhknU9"
      }
    },
    {
      "cell_type": "code",
      "source": [
        "names = [\"Alice\", \"Bob\", \"Charlie\"]\n",
        "ages = [25, 30, 35]\n",
        "paired_data = zip(names, ages)  # Output: <zip object at ...>\n",
        "print(list(paired_data))  # Output: [('Alice', 25), ('Bob', 30), ('Charlie', 35)]\n"
      ],
      "metadata": {
        "colab": {
          "base_uri": "https://localhost:8080/"
        },
        "id": "GpxJex_6keEO",
        "outputId": "5aeebb6c-b5f0-41f5-9755-b1bc45a98736"
      },
      "execution_count": null,
      "outputs": [
        {
          "output_type": "stream",
          "name": "stdout",
          "text": [
            "[('Alice', 25), ('Bob', 30), ('Charlie', 35)]\n"
          ]
        }
      ]
    },
    {
      "cell_type": "markdown",
      "source": [
        "#### Lambda\n",
        "\n",
        "* Creates small, anonymous functions (useful for concise operations)."
      ],
      "metadata": {
        "id": "R8zDtPWBk6gu"
      }
    },
    {
      "cell_type": "code",
      "source": [
        "add = lambda x, y: x + y\n",
        "result = add(5, 3)  # Output: 8\n"
      ],
      "metadata": {
        "id": "v3HWlVW3kx6A"
      },
      "execution_count": null,
      "outputs": []
    },
    {
      "cell_type": "markdown",
      "source": [
        "# Numpy in Python\n",
        "\n",
        "* NumPy (Numerical Python) is a powerful library for numerical computing and data analysis in Python. <br>\n",
        "\n",
        "It offers:\n",
        "\n",
        "1. ndarray: A fast and efficient multidimensional array object for storing and manipulating numerical data.\n",
        "2. Mathematical functions: A vast collection of mathematical operations for linear algebra, Fourier transforms, random number generation, and more.\n",
        "3. Broadcasting: A mechanism for performing operations on arrays of different shapes without explicit loops.\n",
        "4. Integration with other libraries: Serves as the foundation for many Python libraries in science, engineering, and data science, such as pandas, SciPy, Matplotlib.\n",
        "\n",
        "Some Functions of Numpy which are frequently used:\n",
        "\n",
        "1. `np.array()`: Creates ndarrays from lists, tuples, or other iterables.\n",
        "2. `ndarray.shape`: Returns a tuple representing the array's dimensions.\n",
        "3. `ndarray.reshape()`: Reshapes an array to a new shape without changing data.\n",
        "4. `np.dot()`: Performs matrix multiplication and dot product of vectors.\n",
        "5. `np.random.rand()`: Generates random numbers from a uniform distribution."
      ],
      "metadata": {
        "id": "m5Uu21OSlOXD"
      }
    },
    {
      "cell_type": "code",
      "source": [
        "import numpy as np # we are giving numpy a second name such as np for the ease of use\n",
        "\n",
        "# Create a 2D array\n",
        "arr = np.array([[1, 2, 3], [4, 5, 6]])\n",
        "\n",
        "# Print array dimensions\n",
        "print(arr.shape)  # Output: (2, 3)\n",
        "\n",
        "# Reshape the array\n",
        "arr_reshaped = arr.reshape(3, 2)\n",
        "print(arr_reshaped)  # Output: [[1 2]\n",
        "                      #          [3 4]\n",
        "                      #          [5 6]]\n",
        "\n",
        "# Perform matrix multiplication\n",
        "result = np.dot(arr, arr_reshaped)\n",
        "print(result)  # Output: [[22 28]\n",
        "                #          [49 64]]\n",
        "\n",
        "# Generate random numbers\n",
        "random_numbers = np.random.rand(5)\n",
        "print(random_numbers)  # Output: (5 random values between 0 and 1)\n",
        "\n",
        "mean = np.mean(arr)\n",
        "std = np.std(arr)\n",
        "variance = np.var(arr)\n",
        "print(mean, std, variance)\n"
      ],
      "metadata": {
        "colab": {
          "base_uri": "https://localhost:8080/"
        },
        "id": "W6sKp009mezC",
        "outputId": "c70e81d2-de2b-4ae8-fbaf-012182c5d8b5"
      },
      "execution_count": null,
      "outputs": [
        {
          "output_type": "stream",
          "name": "stdout",
          "text": [
            "(2, 3)\n",
            "[[1 2]\n",
            " [3 4]\n",
            " [5 6]]\n",
            "[[22 28]\n",
            " [49 64]]\n",
            "[0.00944171 0.19291447 0.38857252 0.02399242 0.51316877]\n",
            "3.5 1.707825127659933 2.9166666666666665\n"
          ]
        }
      ]
    },
    {
      "cell_type": "markdown",
      "source": [
        "# Pandas in Python\n",
        "\n",
        "Pandas (Python Data Analysis Library) is a powerful library for data manipulation and analysis, built on top of NumPy. It offers:\n",
        "\n",
        "* DataFrames: Two-dimensional, size-mutable data structures with labeled rows and columns, similar to spreadsheets.\n",
        "* Series: One-dimensional labeled arrays capable of holding any data type.\n",
        "* High-performance operations: Efficiently handles large datasets with optimized algorithms.\n",
        "* Flexible data loading and cleaning: Reads data from various sources (CSV, Excel, SQL, etc.) and handles missing data, duplicates, and data types.\n",
        "* Data alignment and merging: Seamlessly aligns and merges datasets based on common keys.\n",
        "* Data grouping and aggregation: Groups data based on criteria and performs aggregate operations (sum, mean, count, etc.).\n",
        "* Time series functionality: Built-in support for time series data manipulation and analysis.\n",
        "* Integration with visualization libraries: Works seamlessly with libraries like Matplotlib and Seaborn for data visualization.\n",
        "\n",
        "Important methods of Pandas:\n",
        "\n",
        "`pd.read_csv(), pd.read_excel(), pd.read_sql()`: Load data from various sources.\n",
        "`DataFrame.head(), DataFrame.tail()`: View the first or last few rows.<br>\n",
        "`DataFrame.shape`: Get dimensions of a DataFrame (number of rows and columns). <br>\n",
        "`DataFrame.info()`: Display summary information about data types and non-null values.\n",
        "`DataFrame.describe()`: Generate descriptive statistics for numerical columns.\n",
        "`DataFrame.index, DataFrame.columns`: Access the index and column labels.\n",
        "`DataFrame.loc[], DataFrame.iloc[]`: Select data by label or position.\n",
        "`DataFrame.sort_values()`: Sort DataFrame by one or more columns.\n",
        "`DataFrame.groupby()`: Group data based on criteria and apply aggregate functions.\n",
        "`DataFrame.apply()`: Apply a function along rows or columns.<br>\n",
        "`DataFrame.isnull(), DataFrame.notnull()`: Check for missing values.\n",
        "`DataFrame.fillna()`: Fill missing values with specified values.<br>\n",
        "`DataFrame.dropna()`: Drop rows or columns with missing values.<br>\n",
        "`DataFrame.merge()`: Join DataFrames based on common keys.<br>\n",
        "`DataFrame.concat()`: Concatenate DataFrames along rows or columns.\n",
        "`DataFrame.pivot_table()`: Create pivot tables for data summarization."
      ],
      "metadata": {
        "id": "LJ5nG222pOl-"
      }
    },
    {
      "cell_type": "code",
      "source": [
        "import pandas as pd\n",
        "\n",
        "data = pd.read_csv('/content/Iris.csv') # Importing the Dataset"
      ],
      "metadata": {
        "id": "pKbTssaTqo5_"
      },
      "execution_count": null,
      "outputs": []
    },
    {
      "cell_type": "code",
      "source": [
        "data.head() # head in pandas will show you the first 5 rows of your dataset"
      ],
      "metadata": {
        "colab": {
          "base_uri": "https://localhost:8080/",
          "height": 206
        },
        "id": "OXcI5ghzsFgC",
        "outputId": "e277b45d-cb24-475b-cbc2-a3e5348c2380"
      },
      "execution_count": null,
      "outputs": [
        {
          "output_type": "execute_result",
          "data": {
            "text/plain": [
              "   Id  SepalLengthCm  SepalWidthCm  PetalLengthCm  PetalWidthCm      Species\n",
              "0   1            5.1           3.5            1.4           0.2  Iris-setosa\n",
              "1   2            4.9           3.0            1.4           0.2  Iris-setosa\n",
              "2   3            4.7           3.2            1.3           0.2  Iris-setosa\n",
              "3   4            4.6           3.1            1.5           0.2  Iris-setosa\n",
              "4   5            5.0           3.6            1.4           0.2  Iris-setosa"
            ],
            "text/html": [
              "\n",
              "  <div id=\"df-792a6516-58f9-48c9-a271-7a51c4079aec\" class=\"colab-df-container\">\n",
              "    <div>\n",
              "<style scoped>\n",
              "    .dataframe tbody tr th:only-of-type {\n",
              "        vertical-align: middle;\n",
              "    }\n",
              "\n",
              "    .dataframe tbody tr th {\n",
              "        vertical-align: top;\n",
              "    }\n",
              "\n",
              "    .dataframe thead th {\n",
              "        text-align: right;\n",
              "    }\n",
              "</style>\n",
              "<table border=\"1\" class=\"dataframe\">\n",
              "  <thead>\n",
              "    <tr style=\"text-align: right;\">\n",
              "      <th></th>\n",
              "      <th>Id</th>\n",
              "      <th>SepalLengthCm</th>\n",
              "      <th>SepalWidthCm</th>\n",
              "      <th>PetalLengthCm</th>\n",
              "      <th>PetalWidthCm</th>\n",
              "      <th>Species</th>\n",
              "    </tr>\n",
              "  </thead>\n",
              "  <tbody>\n",
              "    <tr>\n",
              "      <th>0</th>\n",
              "      <td>1</td>\n",
              "      <td>5.1</td>\n",
              "      <td>3.5</td>\n",
              "      <td>1.4</td>\n",
              "      <td>0.2</td>\n",
              "      <td>Iris-setosa</td>\n",
              "    </tr>\n",
              "    <tr>\n",
              "      <th>1</th>\n",
              "      <td>2</td>\n",
              "      <td>4.9</td>\n",
              "      <td>3.0</td>\n",
              "      <td>1.4</td>\n",
              "      <td>0.2</td>\n",
              "      <td>Iris-setosa</td>\n",
              "    </tr>\n",
              "    <tr>\n",
              "      <th>2</th>\n",
              "      <td>3</td>\n",
              "      <td>4.7</td>\n",
              "      <td>3.2</td>\n",
              "      <td>1.3</td>\n",
              "      <td>0.2</td>\n",
              "      <td>Iris-setosa</td>\n",
              "    </tr>\n",
              "    <tr>\n",
              "      <th>3</th>\n",
              "      <td>4</td>\n",
              "      <td>4.6</td>\n",
              "      <td>3.1</td>\n",
              "      <td>1.5</td>\n",
              "      <td>0.2</td>\n",
              "      <td>Iris-setosa</td>\n",
              "    </tr>\n",
              "    <tr>\n",
              "      <th>4</th>\n",
              "      <td>5</td>\n",
              "      <td>5.0</td>\n",
              "      <td>3.6</td>\n",
              "      <td>1.4</td>\n",
              "      <td>0.2</td>\n",
              "      <td>Iris-setosa</td>\n",
              "    </tr>\n",
              "  </tbody>\n",
              "</table>\n",
              "</div>\n",
              "    <div class=\"colab-df-buttons\">\n",
              "\n",
              "  <div class=\"colab-df-container\">\n",
              "    <button class=\"colab-df-convert\" onclick=\"convertToInteractive('df-792a6516-58f9-48c9-a271-7a51c4079aec')\"\n",
              "            title=\"Convert this dataframe to an interactive table.\"\n",
              "            style=\"display:none;\">\n",
              "\n",
              "  <svg xmlns=\"http://www.w3.org/2000/svg\" height=\"24px\" viewBox=\"0 -960 960 960\">\n",
              "    <path d=\"M120-120v-720h720v720H120Zm60-500h600v-160H180v160Zm220 220h160v-160H400v160Zm0 220h160v-160H400v160ZM180-400h160v-160H180v160Zm440 0h160v-160H620v160ZM180-180h160v-160H180v160Zm440 0h160v-160H620v160Z\"/>\n",
              "  </svg>\n",
              "    </button>\n",
              "\n",
              "  <style>\n",
              "    .colab-df-container {\n",
              "      display:flex;\n",
              "      gap: 12px;\n",
              "    }\n",
              "\n",
              "    .colab-df-convert {\n",
              "      background-color: #E8F0FE;\n",
              "      border: none;\n",
              "      border-radius: 50%;\n",
              "      cursor: pointer;\n",
              "      display: none;\n",
              "      fill: #1967D2;\n",
              "      height: 32px;\n",
              "      padding: 0 0 0 0;\n",
              "      width: 32px;\n",
              "    }\n",
              "\n",
              "    .colab-df-convert:hover {\n",
              "      background-color: #E2EBFA;\n",
              "      box-shadow: 0px 1px 2px rgba(60, 64, 67, 0.3), 0px 1px 3px 1px rgba(60, 64, 67, 0.15);\n",
              "      fill: #174EA6;\n",
              "    }\n",
              "\n",
              "    .colab-df-buttons div {\n",
              "      margin-bottom: 4px;\n",
              "    }\n",
              "\n",
              "    [theme=dark] .colab-df-convert {\n",
              "      background-color: #3B4455;\n",
              "      fill: #D2E3FC;\n",
              "    }\n",
              "\n",
              "    [theme=dark] .colab-df-convert:hover {\n",
              "      background-color: #434B5C;\n",
              "      box-shadow: 0px 1px 3px 1px rgba(0, 0, 0, 0.15);\n",
              "      filter: drop-shadow(0px 1px 2px rgba(0, 0, 0, 0.3));\n",
              "      fill: #FFFFFF;\n",
              "    }\n",
              "  </style>\n",
              "\n",
              "    <script>\n",
              "      const buttonEl =\n",
              "        document.querySelector('#df-792a6516-58f9-48c9-a271-7a51c4079aec button.colab-df-convert');\n",
              "      buttonEl.style.display =\n",
              "        google.colab.kernel.accessAllowed ? 'block' : 'none';\n",
              "\n",
              "      async function convertToInteractive(key) {\n",
              "        const element = document.querySelector('#df-792a6516-58f9-48c9-a271-7a51c4079aec');\n",
              "        const dataTable =\n",
              "          await google.colab.kernel.invokeFunction('convertToInteractive',\n",
              "                                                    [key], {});\n",
              "        if (!dataTable) return;\n",
              "\n",
              "        const docLinkHtml = 'Like what you see? Visit the ' +\n",
              "          '<a target=\"_blank\" href=https://colab.research.google.com/notebooks/data_table.ipynb>data table notebook</a>'\n",
              "          + ' to learn more about interactive tables.';\n",
              "        element.innerHTML = '';\n",
              "        dataTable['output_type'] = 'display_data';\n",
              "        await google.colab.output.renderOutput(dataTable, element);\n",
              "        const docLink = document.createElement('div');\n",
              "        docLink.innerHTML = docLinkHtml;\n",
              "        element.appendChild(docLink);\n",
              "      }\n",
              "    </script>\n",
              "  </div>\n",
              "\n",
              "\n",
              "<div id=\"df-b69cef66-95f6-4edf-a739-4eae4e1deb36\">\n",
              "  <button class=\"colab-df-quickchart\" onclick=\"quickchart('df-b69cef66-95f6-4edf-a739-4eae4e1deb36')\"\n",
              "            title=\"Suggest charts\"\n",
              "            style=\"display:none;\">\n",
              "\n",
              "<svg xmlns=\"http://www.w3.org/2000/svg\" height=\"24px\"viewBox=\"0 0 24 24\"\n",
              "     width=\"24px\">\n",
              "    <g>\n",
              "        <path d=\"M19 3H5c-1.1 0-2 .9-2 2v14c0 1.1.9 2 2 2h14c1.1 0 2-.9 2-2V5c0-1.1-.9-2-2-2zM9 17H7v-7h2v7zm4 0h-2V7h2v10zm4 0h-2v-4h2v4z\"/>\n",
              "    </g>\n",
              "</svg>\n",
              "  </button>\n",
              "\n",
              "<style>\n",
              "  .colab-df-quickchart {\n",
              "      --bg-color: #E8F0FE;\n",
              "      --fill-color: #1967D2;\n",
              "      --hover-bg-color: #E2EBFA;\n",
              "      --hover-fill-color: #174EA6;\n",
              "      --disabled-fill-color: #AAA;\n",
              "      --disabled-bg-color: #DDD;\n",
              "  }\n",
              "\n",
              "  [theme=dark] .colab-df-quickchart {\n",
              "      --bg-color: #3B4455;\n",
              "      --fill-color: #D2E3FC;\n",
              "      --hover-bg-color: #434B5C;\n",
              "      --hover-fill-color: #FFFFFF;\n",
              "      --disabled-bg-color: #3B4455;\n",
              "      --disabled-fill-color: #666;\n",
              "  }\n",
              "\n",
              "  .colab-df-quickchart {\n",
              "    background-color: var(--bg-color);\n",
              "    border: none;\n",
              "    border-radius: 50%;\n",
              "    cursor: pointer;\n",
              "    display: none;\n",
              "    fill: var(--fill-color);\n",
              "    height: 32px;\n",
              "    padding: 0;\n",
              "    width: 32px;\n",
              "  }\n",
              "\n",
              "  .colab-df-quickchart:hover {\n",
              "    background-color: var(--hover-bg-color);\n",
              "    box-shadow: 0 1px 2px rgba(60, 64, 67, 0.3), 0 1px 3px 1px rgba(60, 64, 67, 0.15);\n",
              "    fill: var(--button-hover-fill-color);\n",
              "  }\n",
              "\n",
              "  .colab-df-quickchart-complete:disabled,\n",
              "  .colab-df-quickchart-complete:disabled:hover {\n",
              "    background-color: var(--disabled-bg-color);\n",
              "    fill: var(--disabled-fill-color);\n",
              "    box-shadow: none;\n",
              "  }\n",
              "\n",
              "  .colab-df-spinner {\n",
              "    border: 2px solid var(--fill-color);\n",
              "    border-color: transparent;\n",
              "    border-bottom-color: var(--fill-color);\n",
              "    animation:\n",
              "      spin 1s steps(1) infinite;\n",
              "  }\n",
              "\n",
              "  @keyframes spin {\n",
              "    0% {\n",
              "      border-color: transparent;\n",
              "      border-bottom-color: var(--fill-color);\n",
              "      border-left-color: var(--fill-color);\n",
              "    }\n",
              "    20% {\n",
              "      border-color: transparent;\n",
              "      border-left-color: var(--fill-color);\n",
              "      border-top-color: var(--fill-color);\n",
              "    }\n",
              "    30% {\n",
              "      border-color: transparent;\n",
              "      border-left-color: var(--fill-color);\n",
              "      border-top-color: var(--fill-color);\n",
              "      border-right-color: var(--fill-color);\n",
              "    }\n",
              "    40% {\n",
              "      border-color: transparent;\n",
              "      border-right-color: var(--fill-color);\n",
              "      border-top-color: var(--fill-color);\n",
              "    }\n",
              "    60% {\n",
              "      border-color: transparent;\n",
              "      border-right-color: var(--fill-color);\n",
              "    }\n",
              "    80% {\n",
              "      border-color: transparent;\n",
              "      border-right-color: var(--fill-color);\n",
              "      border-bottom-color: var(--fill-color);\n",
              "    }\n",
              "    90% {\n",
              "      border-color: transparent;\n",
              "      border-bottom-color: var(--fill-color);\n",
              "    }\n",
              "  }\n",
              "</style>\n",
              "\n",
              "  <script>\n",
              "    async function quickchart(key) {\n",
              "      const quickchartButtonEl =\n",
              "        document.querySelector('#' + key + ' button');\n",
              "      quickchartButtonEl.disabled = true;  // To prevent multiple clicks.\n",
              "      quickchartButtonEl.classList.add('colab-df-spinner');\n",
              "      try {\n",
              "        const charts = await google.colab.kernel.invokeFunction(\n",
              "            'suggestCharts', [key], {});\n",
              "      } catch (error) {\n",
              "        console.error('Error during call to suggestCharts:', error);\n",
              "      }\n",
              "      quickchartButtonEl.classList.remove('colab-df-spinner');\n",
              "      quickchartButtonEl.classList.add('colab-df-quickchart-complete');\n",
              "    }\n",
              "    (() => {\n",
              "      let quickchartButtonEl =\n",
              "        document.querySelector('#df-b69cef66-95f6-4edf-a739-4eae4e1deb36 button');\n",
              "      quickchartButtonEl.style.display =\n",
              "        google.colab.kernel.accessAllowed ? 'block' : 'none';\n",
              "    })();\n",
              "  </script>\n",
              "</div>\n",
              "\n",
              "    </div>\n",
              "  </div>\n"
            ]
          },
          "metadata": {},
          "execution_count": 211
        }
      ]
    },
    {
      "cell_type": "code",
      "source": [
        "data.tail() # show you the last 5 rows of the dataset"
      ],
      "metadata": {
        "colab": {
          "base_uri": "https://localhost:8080/",
          "height": 206
        },
        "id": "VKyZBYbBsJxA",
        "outputId": "f32c7c3c-438d-4099-81d1-cffe81fc98df"
      },
      "execution_count": null,
      "outputs": [
        {
          "output_type": "execute_result",
          "data": {
            "text/plain": [
              "      Id  SepalLengthCm  SepalWidthCm  PetalLengthCm  PetalWidthCm  \\\n",
              "145  146            6.7           3.0            5.2           2.3   \n",
              "146  147            6.3           2.5            5.0           1.9   \n",
              "147  148            6.5           3.0            5.2           2.0   \n",
              "148  149            6.2           3.4            5.4           2.3   \n",
              "149  150            5.9           3.0            5.1           1.8   \n",
              "\n",
              "            Species  \n",
              "145  Iris-virginica  \n",
              "146  Iris-virginica  \n",
              "147  Iris-virginica  \n",
              "148  Iris-virginica  \n",
              "149  Iris-virginica  "
            ],
            "text/html": [
              "\n",
              "  <div id=\"df-e686f6b0-5ef1-4197-9c8b-4f3a4aa7ac17\" class=\"colab-df-container\">\n",
              "    <div>\n",
              "<style scoped>\n",
              "    .dataframe tbody tr th:only-of-type {\n",
              "        vertical-align: middle;\n",
              "    }\n",
              "\n",
              "    .dataframe tbody tr th {\n",
              "        vertical-align: top;\n",
              "    }\n",
              "\n",
              "    .dataframe thead th {\n",
              "        text-align: right;\n",
              "    }\n",
              "</style>\n",
              "<table border=\"1\" class=\"dataframe\">\n",
              "  <thead>\n",
              "    <tr style=\"text-align: right;\">\n",
              "      <th></th>\n",
              "      <th>Id</th>\n",
              "      <th>SepalLengthCm</th>\n",
              "      <th>SepalWidthCm</th>\n",
              "      <th>PetalLengthCm</th>\n",
              "      <th>PetalWidthCm</th>\n",
              "      <th>Species</th>\n",
              "    </tr>\n",
              "  </thead>\n",
              "  <tbody>\n",
              "    <tr>\n",
              "      <th>145</th>\n",
              "      <td>146</td>\n",
              "      <td>6.7</td>\n",
              "      <td>3.0</td>\n",
              "      <td>5.2</td>\n",
              "      <td>2.3</td>\n",
              "      <td>Iris-virginica</td>\n",
              "    </tr>\n",
              "    <tr>\n",
              "      <th>146</th>\n",
              "      <td>147</td>\n",
              "      <td>6.3</td>\n",
              "      <td>2.5</td>\n",
              "      <td>5.0</td>\n",
              "      <td>1.9</td>\n",
              "      <td>Iris-virginica</td>\n",
              "    </tr>\n",
              "    <tr>\n",
              "      <th>147</th>\n",
              "      <td>148</td>\n",
              "      <td>6.5</td>\n",
              "      <td>3.0</td>\n",
              "      <td>5.2</td>\n",
              "      <td>2.0</td>\n",
              "      <td>Iris-virginica</td>\n",
              "    </tr>\n",
              "    <tr>\n",
              "      <th>148</th>\n",
              "      <td>149</td>\n",
              "      <td>6.2</td>\n",
              "      <td>3.4</td>\n",
              "      <td>5.4</td>\n",
              "      <td>2.3</td>\n",
              "      <td>Iris-virginica</td>\n",
              "    </tr>\n",
              "    <tr>\n",
              "      <th>149</th>\n",
              "      <td>150</td>\n",
              "      <td>5.9</td>\n",
              "      <td>3.0</td>\n",
              "      <td>5.1</td>\n",
              "      <td>1.8</td>\n",
              "      <td>Iris-virginica</td>\n",
              "    </tr>\n",
              "  </tbody>\n",
              "</table>\n",
              "</div>\n",
              "    <div class=\"colab-df-buttons\">\n",
              "\n",
              "  <div class=\"colab-df-container\">\n",
              "    <button class=\"colab-df-convert\" onclick=\"convertToInteractive('df-e686f6b0-5ef1-4197-9c8b-4f3a4aa7ac17')\"\n",
              "            title=\"Convert this dataframe to an interactive table.\"\n",
              "            style=\"display:none;\">\n",
              "\n",
              "  <svg xmlns=\"http://www.w3.org/2000/svg\" height=\"24px\" viewBox=\"0 -960 960 960\">\n",
              "    <path d=\"M120-120v-720h720v720H120Zm60-500h600v-160H180v160Zm220 220h160v-160H400v160Zm0 220h160v-160H400v160ZM180-400h160v-160H180v160Zm440 0h160v-160H620v160ZM180-180h160v-160H180v160Zm440 0h160v-160H620v160Z\"/>\n",
              "  </svg>\n",
              "    </button>\n",
              "\n",
              "  <style>\n",
              "    .colab-df-container {\n",
              "      display:flex;\n",
              "      gap: 12px;\n",
              "    }\n",
              "\n",
              "    .colab-df-convert {\n",
              "      background-color: #E8F0FE;\n",
              "      border: none;\n",
              "      border-radius: 50%;\n",
              "      cursor: pointer;\n",
              "      display: none;\n",
              "      fill: #1967D2;\n",
              "      height: 32px;\n",
              "      padding: 0 0 0 0;\n",
              "      width: 32px;\n",
              "    }\n",
              "\n",
              "    .colab-df-convert:hover {\n",
              "      background-color: #E2EBFA;\n",
              "      box-shadow: 0px 1px 2px rgba(60, 64, 67, 0.3), 0px 1px 3px 1px rgba(60, 64, 67, 0.15);\n",
              "      fill: #174EA6;\n",
              "    }\n",
              "\n",
              "    .colab-df-buttons div {\n",
              "      margin-bottom: 4px;\n",
              "    }\n",
              "\n",
              "    [theme=dark] .colab-df-convert {\n",
              "      background-color: #3B4455;\n",
              "      fill: #D2E3FC;\n",
              "    }\n",
              "\n",
              "    [theme=dark] .colab-df-convert:hover {\n",
              "      background-color: #434B5C;\n",
              "      box-shadow: 0px 1px 3px 1px rgba(0, 0, 0, 0.15);\n",
              "      filter: drop-shadow(0px 1px 2px rgba(0, 0, 0, 0.3));\n",
              "      fill: #FFFFFF;\n",
              "    }\n",
              "  </style>\n",
              "\n",
              "    <script>\n",
              "      const buttonEl =\n",
              "        document.querySelector('#df-e686f6b0-5ef1-4197-9c8b-4f3a4aa7ac17 button.colab-df-convert');\n",
              "      buttonEl.style.display =\n",
              "        google.colab.kernel.accessAllowed ? 'block' : 'none';\n",
              "\n",
              "      async function convertToInteractive(key) {\n",
              "        const element = document.querySelector('#df-e686f6b0-5ef1-4197-9c8b-4f3a4aa7ac17');\n",
              "        const dataTable =\n",
              "          await google.colab.kernel.invokeFunction('convertToInteractive',\n",
              "                                                    [key], {});\n",
              "        if (!dataTable) return;\n",
              "\n",
              "        const docLinkHtml = 'Like what you see? Visit the ' +\n",
              "          '<a target=\"_blank\" href=https://colab.research.google.com/notebooks/data_table.ipynb>data table notebook</a>'\n",
              "          + ' to learn more about interactive tables.';\n",
              "        element.innerHTML = '';\n",
              "        dataTable['output_type'] = 'display_data';\n",
              "        await google.colab.output.renderOutput(dataTable, element);\n",
              "        const docLink = document.createElement('div');\n",
              "        docLink.innerHTML = docLinkHtml;\n",
              "        element.appendChild(docLink);\n",
              "      }\n",
              "    </script>\n",
              "  </div>\n",
              "\n",
              "\n",
              "<div id=\"df-42193b7c-dd3d-430c-a620-6eebd50ff90f\">\n",
              "  <button class=\"colab-df-quickchart\" onclick=\"quickchart('df-42193b7c-dd3d-430c-a620-6eebd50ff90f')\"\n",
              "            title=\"Suggest charts\"\n",
              "            style=\"display:none;\">\n",
              "\n",
              "<svg xmlns=\"http://www.w3.org/2000/svg\" height=\"24px\"viewBox=\"0 0 24 24\"\n",
              "     width=\"24px\">\n",
              "    <g>\n",
              "        <path d=\"M19 3H5c-1.1 0-2 .9-2 2v14c0 1.1.9 2 2 2h14c1.1 0 2-.9 2-2V5c0-1.1-.9-2-2-2zM9 17H7v-7h2v7zm4 0h-2V7h2v10zm4 0h-2v-4h2v4z\"/>\n",
              "    </g>\n",
              "</svg>\n",
              "  </button>\n",
              "\n",
              "<style>\n",
              "  .colab-df-quickchart {\n",
              "      --bg-color: #E8F0FE;\n",
              "      --fill-color: #1967D2;\n",
              "      --hover-bg-color: #E2EBFA;\n",
              "      --hover-fill-color: #174EA6;\n",
              "      --disabled-fill-color: #AAA;\n",
              "      --disabled-bg-color: #DDD;\n",
              "  }\n",
              "\n",
              "  [theme=dark] .colab-df-quickchart {\n",
              "      --bg-color: #3B4455;\n",
              "      --fill-color: #D2E3FC;\n",
              "      --hover-bg-color: #434B5C;\n",
              "      --hover-fill-color: #FFFFFF;\n",
              "      --disabled-bg-color: #3B4455;\n",
              "      --disabled-fill-color: #666;\n",
              "  }\n",
              "\n",
              "  .colab-df-quickchart {\n",
              "    background-color: var(--bg-color);\n",
              "    border: none;\n",
              "    border-radius: 50%;\n",
              "    cursor: pointer;\n",
              "    display: none;\n",
              "    fill: var(--fill-color);\n",
              "    height: 32px;\n",
              "    padding: 0;\n",
              "    width: 32px;\n",
              "  }\n",
              "\n",
              "  .colab-df-quickchart:hover {\n",
              "    background-color: var(--hover-bg-color);\n",
              "    box-shadow: 0 1px 2px rgba(60, 64, 67, 0.3), 0 1px 3px 1px rgba(60, 64, 67, 0.15);\n",
              "    fill: var(--button-hover-fill-color);\n",
              "  }\n",
              "\n",
              "  .colab-df-quickchart-complete:disabled,\n",
              "  .colab-df-quickchart-complete:disabled:hover {\n",
              "    background-color: var(--disabled-bg-color);\n",
              "    fill: var(--disabled-fill-color);\n",
              "    box-shadow: none;\n",
              "  }\n",
              "\n",
              "  .colab-df-spinner {\n",
              "    border: 2px solid var(--fill-color);\n",
              "    border-color: transparent;\n",
              "    border-bottom-color: var(--fill-color);\n",
              "    animation:\n",
              "      spin 1s steps(1) infinite;\n",
              "  }\n",
              "\n",
              "  @keyframes spin {\n",
              "    0% {\n",
              "      border-color: transparent;\n",
              "      border-bottom-color: var(--fill-color);\n",
              "      border-left-color: var(--fill-color);\n",
              "    }\n",
              "    20% {\n",
              "      border-color: transparent;\n",
              "      border-left-color: var(--fill-color);\n",
              "      border-top-color: var(--fill-color);\n",
              "    }\n",
              "    30% {\n",
              "      border-color: transparent;\n",
              "      border-left-color: var(--fill-color);\n",
              "      border-top-color: var(--fill-color);\n",
              "      border-right-color: var(--fill-color);\n",
              "    }\n",
              "    40% {\n",
              "      border-color: transparent;\n",
              "      border-right-color: var(--fill-color);\n",
              "      border-top-color: var(--fill-color);\n",
              "    }\n",
              "    60% {\n",
              "      border-color: transparent;\n",
              "      border-right-color: var(--fill-color);\n",
              "    }\n",
              "    80% {\n",
              "      border-color: transparent;\n",
              "      border-right-color: var(--fill-color);\n",
              "      border-bottom-color: var(--fill-color);\n",
              "    }\n",
              "    90% {\n",
              "      border-color: transparent;\n",
              "      border-bottom-color: var(--fill-color);\n",
              "    }\n",
              "  }\n",
              "</style>\n",
              "\n",
              "  <script>\n",
              "    async function quickchart(key) {\n",
              "      const quickchartButtonEl =\n",
              "        document.querySelector('#' + key + ' button');\n",
              "      quickchartButtonEl.disabled = true;  // To prevent multiple clicks.\n",
              "      quickchartButtonEl.classList.add('colab-df-spinner');\n",
              "      try {\n",
              "        const charts = await google.colab.kernel.invokeFunction(\n",
              "            'suggestCharts', [key], {});\n",
              "      } catch (error) {\n",
              "        console.error('Error during call to suggestCharts:', error);\n",
              "      }\n",
              "      quickchartButtonEl.classList.remove('colab-df-spinner');\n",
              "      quickchartButtonEl.classList.add('colab-df-quickchart-complete');\n",
              "    }\n",
              "    (() => {\n",
              "      let quickchartButtonEl =\n",
              "        document.querySelector('#df-42193b7c-dd3d-430c-a620-6eebd50ff90f button');\n",
              "      quickchartButtonEl.style.display =\n",
              "        google.colab.kernel.accessAllowed ? 'block' : 'none';\n",
              "    })();\n",
              "  </script>\n",
              "</div>\n",
              "\n",
              "    </div>\n",
              "  </div>\n"
            ]
          },
          "metadata": {},
          "execution_count": 153
        }
      ]
    },
    {
      "cell_type": "code",
      "source": [
        "data.info() #"
      ],
      "metadata": {
        "colab": {
          "base_uri": "https://localhost:8080/"
        },
        "id": "TVgFgI9WsK-E",
        "outputId": "2d8c26a5-2610-458b-fa65-19f1b9a3ccde"
      },
      "execution_count": null,
      "outputs": [
        {
          "output_type": "stream",
          "name": "stdout",
          "text": [
            "<class 'pandas.core.frame.DataFrame'>\n",
            "RangeIndex: 150 entries, 0 to 149\n",
            "Data columns (total 6 columns):\n",
            " #   Column         Non-Null Count  Dtype  \n",
            "---  ------         --------------  -----  \n",
            " 0   Id             150 non-null    int64  \n",
            " 1   SepalLengthCm  150 non-null    float64\n",
            " 2   SepalWidthCm   150 non-null    float64\n",
            " 3   PetalLengthCm  150 non-null    float64\n",
            " 4   PetalWidthCm   150 non-null    float64\n",
            " 5   Species        150 non-null    object \n",
            "dtypes: float64(4), int64(1), object(1)\n",
            "memory usage: 7.2+ KB\n"
          ]
        }
      ]
    },
    {
      "cell_type": "code",
      "source": [
        "data.shape # (rows,cols)"
      ],
      "metadata": {
        "colab": {
          "base_uri": "https://localhost:8080/"
        },
        "id": "fv2BO0_fsMsW",
        "outputId": "44725293-7f9d-4cad-b281-9bb509fe84af"
      },
      "execution_count": null,
      "outputs": [
        {
          "output_type": "execute_result",
          "data": {
            "text/plain": [
              "(150, 6)"
            ]
          },
          "metadata": {},
          "execution_count": 155
        }
      ]
    },
    {
      "cell_type": "code",
      "source": [
        "data.size # total size of your dataset"
      ],
      "metadata": {
        "colab": {
          "base_uri": "https://localhost:8080/"
        },
        "id": "tUg8JCG8sNgn",
        "outputId": "0f1f110a-652c-48d5-bbc7-e250af4c64fc"
      },
      "execution_count": null,
      "outputs": [
        {
          "output_type": "execute_result",
          "data": {
            "text/plain": [
              "900"
            ]
          },
          "metadata": {},
          "execution_count": 212
        }
      ]
    },
    {
      "cell_type": "code",
      "source": [
        "data.index"
      ],
      "metadata": {
        "colab": {
          "base_uri": "https://localhost:8080/"
        },
        "id": "j2igN-hTti44",
        "outputId": "3edb49e4-0f4f-4f7d-b3d6-f45ba3c463fa"
      },
      "execution_count": null,
      "outputs": [
        {
          "output_type": "execute_result",
          "data": {
            "text/plain": [
              "RangeIndex(start=0, stop=150, step=1)"
            ]
          },
          "metadata": {},
          "execution_count": 157
        }
      ]
    },
    {
      "cell_type": "code",
      "source": [
        "data.columns"
      ],
      "metadata": {
        "colab": {
          "base_uri": "https://localhost:8080/"
        },
        "id": "lkN1usjatlPC",
        "outputId": "07dc2748-cb68-4a85-dab3-aa5b124bd813"
      },
      "execution_count": null,
      "outputs": [
        {
          "output_type": "execute_result",
          "data": {
            "text/plain": [
              "Index(['Id', 'SepalLengthCm', 'SepalWidthCm', 'PetalLengthCm', 'PetalWidthCm',\n",
              "       'Species'],\n",
              "      dtype='object')"
            ]
          },
          "metadata": {},
          "execution_count": 158
        }
      ]
    },
    {
      "cell_type": "code",
      "source": [
        "data.describe()"
      ],
      "metadata": {
        "colab": {
          "base_uri": "https://localhost:8080/",
          "height": 300
        },
        "id": "wwJOD0QvtqYq",
        "outputId": "be9eb087-d8bd-45f5-df53-b92964ca7589"
      },
      "execution_count": null,
      "outputs": [
        {
          "output_type": "execute_result",
          "data": {
            "text/plain": [
              "               Id  SepalLengthCm  SepalWidthCm  PetalLengthCm  PetalWidthCm\n",
              "count  150.000000     150.000000    150.000000     150.000000    150.000000\n",
              "mean    75.500000       5.843333      3.054000       3.758667      1.198667\n",
              "std     43.445368       0.828066      0.433594       1.764420      0.763161\n",
              "min      1.000000       4.300000      2.000000       1.000000      0.100000\n",
              "25%     38.250000       5.100000      2.800000       1.600000      0.300000\n",
              "50%     75.500000       5.800000      3.000000       4.350000      1.300000\n",
              "75%    112.750000       6.400000      3.300000       5.100000      1.800000\n",
              "max    150.000000       7.900000      4.400000       6.900000      2.500000"
            ],
            "text/html": [
              "\n",
              "  <div id=\"df-602cd3ce-b294-4a81-a632-68d9ffe7acdf\" class=\"colab-df-container\">\n",
              "    <div>\n",
              "<style scoped>\n",
              "    .dataframe tbody tr th:only-of-type {\n",
              "        vertical-align: middle;\n",
              "    }\n",
              "\n",
              "    .dataframe tbody tr th {\n",
              "        vertical-align: top;\n",
              "    }\n",
              "\n",
              "    .dataframe thead th {\n",
              "        text-align: right;\n",
              "    }\n",
              "</style>\n",
              "<table border=\"1\" class=\"dataframe\">\n",
              "  <thead>\n",
              "    <tr style=\"text-align: right;\">\n",
              "      <th></th>\n",
              "      <th>Id</th>\n",
              "      <th>SepalLengthCm</th>\n",
              "      <th>SepalWidthCm</th>\n",
              "      <th>PetalLengthCm</th>\n",
              "      <th>PetalWidthCm</th>\n",
              "    </tr>\n",
              "  </thead>\n",
              "  <tbody>\n",
              "    <tr>\n",
              "      <th>count</th>\n",
              "      <td>150.000000</td>\n",
              "      <td>150.000000</td>\n",
              "      <td>150.000000</td>\n",
              "      <td>150.000000</td>\n",
              "      <td>150.000000</td>\n",
              "    </tr>\n",
              "    <tr>\n",
              "      <th>mean</th>\n",
              "      <td>75.500000</td>\n",
              "      <td>5.843333</td>\n",
              "      <td>3.054000</td>\n",
              "      <td>3.758667</td>\n",
              "      <td>1.198667</td>\n",
              "    </tr>\n",
              "    <tr>\n",
              "      <th>std</th>\n",
              "      <td>43.445368</td>\n",
              "      <td>0.828066</td>\n",
              "      <td>0.433594</td>\n",
              "      <td>1.764420</td>\n",
              "      <td>0.763161</td>\n",
              "    </tr>\n",
              "    <tr>\n",
              "      <th>min</th>\n",
              "      <td>1.000000</td>\n",
              "      <td>4.300000</td>\n",
              "      <td>2.000000</td>\n",
              "      <td>1.000000</td>\n",
              "      <td>0.100000</td>\n",
              "    </tr>\n",
              "    <tr>\n",
              "      <th>25%</th>\n",
              "      <td>38.250000</td>\n",
              "      <td>5.100000</td>\n",
              "      <td>2.800000</td>\n",
              "      <td>1.600000</td>\n",
              "      <td>0.300000</td>\n",
              "    </tr>\n",
              "    <tr>\n",
              "      <th>50%</th>\n",
              "      <td>75.500000</td>\n",
              "      <td>5.800000</td>\n",
              "      <td>3.000000</td>\n",
              "      <td>4.350000</td>\n",
              "      <td>1.300000</td>\n",
              "    </tr>\n",
              "    <tr>\n",
              "      <th>75%</th>\n",
              "      <td>112.750000</td>\n",
              "      <td>6.400000</td>\n",
              "      <td>3.300000</td>\n",
              "      <td>5.100000</td>\n",
              "      <td>1.800000</td>\n",
              "    </tr>\n",
              "    <tr>\n",
              "      <th>max</th>\n",
              "      <td>150.000000</td>\n",
              "      <td>7.900000</td>\n",
              "      <td>4.400000</td>\n",
              "      <td>6.900000</td>\n",
              "      <td>2.500000</td>\n",
              "    </tr>\n",
              "  </tbody>\n",
              "</table>\n",
              "</div>\n",
              "    <div class=\"colab-df-buttons\">\n",
              "\n",
              "  <div class=\"colab-df-container\">\n",
              "    <button class=\"colab-df-convert\" onclick=\"convertToInteractive('df-602cd3ce-b294-4a81-a632-68d9ffe7acdf')\"\n",
              "            title=\"Convert this dataframe to an interactive table.\"\n",
              "            style=\"display:none;\">\n",
              "\n",
              "  <svg xmlns=\"http://www.w3.org/2000/svg\" height=\"24px\" viewBox=\"0 -960 960 960\">\n",
              "    <path d=\"M120-120v-720h720v720H120Zm60-500h600v-160H180v160Zm220 220h160v-160H400v160Zm0 220h160v-160H400v160ZM180-400h160v-160H180v160Zm440 0h160v-160H620v160ZM180-180h160v-160H180v160Zm440 0h160v-160H620v160Z\"/>\n",
              "  </svg>\n",
              "    </button>\n",
              "\n",
              "  <style>\n",
              "    .colab-df-container {\n",
              "      display:flex;\n",
              "      gap: 12px;\n",
              "    }\n",
              "\n",
              "    .colab-df-convert {\n",
              "      background-color: #E8F0FE;\n",
              "      border: none;\n",
              "      border-radius: 50%;\n",
              "      cursor: pointer;\n",
              "      display: none;\n",
              "      fill: #1967D2;\n",
              "      height: 32px;\n",
              "      padding: 0 0 0 0;\n",
              "      width: 32px;\n",
              "    }\n",
              "\n",
              "    .colab-df-convert:hover {\n",
              "      background-color: #E2EBFA;\n",
              "      box-shadow: 0px 1px 2px rgba(60, 64, 67, 0.3), 0px 1px 3px 1px rgba(60, 64, 67, 0.15);\n",
              "      fill: #174EA6;\n",
              "    }\n",
              "\n",
              "    .colab-df-buttons div {\n",
              "      margin-bottom: 4px;\n",
              "    }\n",
              "\n",
              "    [theme=dark] .colab-df-convert {\n",
              "      background-color: #3B4455;\n",
              "      fill: #D2E3FC;\n",
              "    }\n",
              "\n",
              "    [theme=dark] .colab-df-convert:hover {\n",
              "      background-color: #434B5C;\n",
              "      box-shadow: 0px 1px 3px 1px rgba(0, 0, 0, 0.15);\n",
              "      filter: drop-shadow(0px 1px 2px rgba(0, 0, 0, 0.3));\n",
              "      fill: #FFFFFF;\n",
              "    }\n",
              "  </style>\n",
              "\n",
              "    <script>\n",
              "      const buttonEl =\n",
              "        document.querySelector('#df-602cd3ce-b294-4a81-a632-68d9ffe7acdf button.colab-df-convert');\n",
              "      buttonEl.style.display =\n",
              "        google.colab.kernel.accessAllowed ? 'block' : 'none';\n",
              "\n",
              "      async function convertToInteractive(key) {\n",
              "        const element = document.querySelector('#df-602cd3ce-b294-4a81-a632-68d9ffe7acdf');\n",
              "        const dataTable =\n",
              "          await google.colab.kernel.invokeFunction('convertToInteractive',\n",
              "                                                    [key], {});\n",
              "        if (!dataTable) return;\n",
              "\n",
              "        const docLinkHtml = 'Like what you see? Visit the ' +\n",
              "          '<a target=\"_blank\" href=https://colab.research.google.com/notebooks/data_table.ipynb>data table notebook</a>'\n",
              "          + ' to learn more about interactive tables.';\n",
              "        element.innerHTML = '';\n",
              "        dataTable['output_type'] = 'display_data';\n",
              "        await google.colab.output.renderOutput(dataTable, element);\n",
              "        const docLink = document.createElement('div');\n",
              "        docLink.innerHTML = docLinkHtml;\n",
              "        element.appendChild(docLink);\n",
              "      }\n",
              "    </script>\n",
              "  </div>\n",
              "\n",
              "\n",
              "<div id=\"df-e7d37a20-8959-4074-a32a-5d7ce3c66932\">\n",
              "  <button class=\"colab-df-quickchart\" onclick=\"quickchart('df-e7d37a20-8959-4074-a32a-5d7ce3c66932')\"\n",
              "            title=\"Suggest charts\"\n",
              "            style=\"display:none;\">\n",
              "\n",
              "<svg xmlns=\"http://www.w3.org/2000/svg\" height=\"24px\"viewBox=\"0 0 24 24\"\n",
              "     width=\"24px\">\n",
              "    <g>\n",
              "        <path d=\"M19 3H5c-1.1 0-2 .9-2 2v14c0 1.1.9 2 2 2h14c1.1 0 2-.9 2-2V5c0-1.1-.9-2-2-2zM9 17H7v-7h2v7zm4 0h-2V7h2v10zm4 0h-2v-4h2v4z\"/>\n",
              "    </g>\n",
              "</svg>\n",
              "  </button>\n",
              "\n",
              "<style>\n",
              "  .colab-df-quickchart {\n",
              "      --bg-color: #E8F0FE;\n",
              "      --fill-color: #1967D2;\n",
              "      --hover-bg-color: #E2EBFA;\n",
              "      --hover-fill-color: #174EA6;\n",
              "      --disabled-fill-color: #AAA;\n",
              "      --disabled-bg-color: #DDD;\n",
              "  }\n",
              "\n",
              "  [theme=dark] .colab-df-quickchart {\n",
              "      --bg-color: #3B4455;\n",
              "      --fill-color: #D2E3FC;\n",
              "      --hover-bg-color: #434B5C;\n",
              "      --hover-fill-color: #FFFFFF;\n",
              "      --disabled-bg-color: #3B4455;\n",
              "      --disabled-fill-color: #666;\n",
              "  }\n",
              "\n",
              "  .colab-df-quickchart {\n",
              "    background-color: var(--bg-color);\n",
              "    border: none;\n",
              "    border-radius: 50%;\n",
              "    cursor: pointer;\n",
              "    display: none;\n",
              "    fill: var(--fill-color);\n",
              "    height: 32px;\n",
              "    padding: 0;\n",
              "    width: 32px;\n",
              "  }\n",
              "\n",
              "  .colab-df-quickchart:hover {\n",
              "    background-color: var(--hover-bg-color);\n",
              "    box-shadow: 0 1px 2px rgba(60, 64, 67, 0.3), 0 1px 3px 1px rgba(60, 64, 67, 0.15);\n",
              "    fill: var(--button-hover-fill-color);\n",
              "  }\n",
              "\n",
              "  .colab-df-quickchart-complete:disabled,\n",
              "  .colab-df-quickchart-complete:disabled:hover {\n",
              "    background-color: var(--disabled-bg-color);\n",
              "    fill: var(--disabled-fill-color);\n",
              "    box-shadow: none;\n",
              "  }\n",
              "\n",
              "  .colab-df-spinner {\n",
              "    border: 2px solid var(--fill-color);\n",
              "    border-color: transparent;\n",
              "    border-bottom-color: var(--fill-color);\n",
              "    animation:\n",
              "      spin 1s steps(1) infinite;\n",
              "  }\n",
              "\n",
              "  @keyframes spin {\n",
              "    0% {\n",
              "      border-color: transparent;\n",
              "      border-bottom-color: var(--fill-color);\n",
              "      border-left-color: var(--fill-color);\n",
              "    }\n",
              "    20% {\n",
              "      border-color: transparent;\n",
              "      border-left-color: var(--fill-color);\n",
              "      border-top-color: var(--fill-color);\n",
              "    }\n",
              "    30% {\n",
              "      border-color: transparent;\n",
              "      border-left-color: var(--fill-color);\n",
              "      border-top-color: var(--fill-color);\n",
              "      border-right-color: var(--fill-color);\n",
              "    }\n",
              "    40% {\n",
              "      border-color: transparent;\n",
              "      border-right-color: var(--fill-color);\n",
              "      border-top-color: var(--fill-color);\n",
              "    }\n",
              "    60% {\n",
              "      border-color: transparent;\n",
              "      border-right-color: var(--fill-color);\n",
              "    }\n",
              "    80% {\n",
              "      border-color: transparent;\n",
              "      border-right-color: var(--fill-color);\n",
              "      border-bottom-color: var(--fill-color);\n",
              "    }\n",
              "    90% {\n",
              "      border-color: transparent;\n",
              "      border-bottom-color: var(--fill-color);\n",
              "    }\n",
              "  }\n",
              "</style>\n",
              "\n",
              "  <script>\n",
              "    async function quickchart(key) {\n",
              "      const quickchartButtonEl =\n",
              "        document.querySelector('#' + key + ' button');\n",
              "      quickchartButtonEl.disabled = true;  // To prevent multiple clicks.\n",
              "      quickchartButtonEl.classList.add('colab-df-spinner');\n",
              "      try {\n",
              "        const charts = await google.colab.kernel.invokeFunction(\n",
              "            'suggestCharts', [key], {});\n",
              "      } catch (error) {\n",
              "        console.error('Error during call to suggestCharts:', error);\n",
              "      }\n",
              "      quickchartButtonEl.classList.remove('colab-df-spinner');\n",
              "      quickchartButtonEl.classList.add('colab-df-quickchart-complete');\n",
              "    }\n",
              "    (() => {\n",
              "      let quickchartButtonEl =\n",
              "        document.querySelector('#df-e7d37a20-8959-4074-a32a-5d7ce3c66932 button');\n",
              "      quickchartButtonEl.style.display =\n",
              "        google.colab.kernel.accessAllowed ? 'block' : 'none';\n",
              "    })();\n",
              "  </script>\n",
              "</div>\n",
              "\n",
              "    </div>\n",
              "  </div>\n"
            ]
          },
          "metadata": {},
          "execution_count": 159
        }
      ]
    },
    {
      "cell_type": "code",
      "source": [
        "data.mean()"
      ],
      "metadata": {
        "colab": {
          "base_uri": "https://localhost:8080/"
        },
        "id": "_RDvHOUvtsrL",
        "outputId": "d82fef6a-0528-47d8-ecdd-98b3eab67305"
      },
      "execution_count": null,
      "outputs": [
        {
          "output_type": "stream",
          "name": "stderr",
          "text": [
            "<ipython-input-213-abc01cf6c622>:1: FutureWarning: The default value of numeric_only in DataFrame.mean is deprecated. In a future version, it will default to False. In addition, specifying 'numeric_only=None' is deprecated. Select only valid columns or specify the value of numeric_only to silence this warning.\n",
            "  data.mean()\n"
          ]
        },
        {
          "output_type": "execute_result",
          "data": {
            "text/plain": [
              "Id               75.500000\n",
              "SepalLengthCm     5.843333\n",
              "SepalWidthCm      3.054000\n",
              "PetalLengthCm     3.758667\n",
              "PetalWidthCm      1.198667\n",
              "dtype: float64"
            ]
          },
          "metadata": {},
          "execution_count": 213
        }
      ]
    },
    {
      "cell_type": "code",
      "source": [
        "data.median()"
      ],
      "metadata": {
        "colab": {
          "base_uri": "https://localhost:8080/"
        },
        "id": "8gokeF_BuAnA",
        "outputId": "00ec6015-f233-4810-9cfa-4dde1fedb0a5"
      },
      "execution_count": null,
      "outputs": [
        {
          "output_type": "stream",
          "name": "stderr",
          "text": [
            "<ipython-input-214-135339ac59ce>:1: FutureWarning: The default value of numeric_only in DataFrame.median is deprecated. In a future version, it will default to False. In addition, specifying 'numeric_only=None' is deprecated. Select only valid columns or specify the value of numeric_only to silence this warning.\n",
            "  data.median()\n"
          ]
        },
        {
          "output_type": "execute_result",
          "data": {
            "text/plain": [
              "Id               75.50\n",
              "SepalLengthCm     5.80\n",
              "SepalWidthCm      3.00\n",
              "PetalLengthCm     4.35\n",
              "PetalWidthCm      1.30\n",
              "dtype: float64"
            ]
          },
          "metadata": {},
          "execution_count": 214
        }
      ]
    },
    {
      "cell_type": "code",
      "source": [
        "data.mode()"
      ],
      "metadata": {
        "colab": {
          "base_uri": "https://localhost:8080/",
          "height": 424
        },
        "id": "3lC447wMuErj",
        "outputId": "05c834c9-3b9d-40ed-e74a-ed9903e49e1e"
      },
      "execution_count": null,
      "outputs": [
        {
          "output_type": "execute_result",
          "data": {
            "text/plain": [
              "      Id  SepalLengthCm  SepalWidthCm  PetalLengthCm  PetalWidthCm  \\\n",
              "0      1            5.0           3.0            1.5           0.2   \n",
              "1      2            NaN           NaN            NaN           NaN   \n",
              "2      3            NaN           NaN            NaN           NaN   \n",
              "3      4            NaN           NaN            NaN           NaN   \n",
              "4      5            NaN           NaN            NaN           NaN   \n",
              "..   ...            ...           ...            ...           ...   \n",
              "145  146            NaN           NaN            NaN           NaN   \n",
              "146  147            NaN           NaN            NaN           NaN   \n",
              "147  148            NaN           NaN            NaN           NaN   \n",
              "148  149            NaN           NaN            NaN           NaN   \n",
              "149  150            NaN           NaN            NaN           NaN   \n",
              "\n",
              "             Species  \n",
              "0        Iris-setosa  \n",
              "1    Iris-versicolor  \n",
              "2     Iris-virginica  \n",
              "3                NaN  \n",
              "4                NaN  \n",
              "..               ...  \n",
              "145              NaN  \n",
              "146              NaN  \n",
              "147              NaN  \n",
              "148              NaN  \n",
              "149              NaN  \n",
              "\n",
              "[150 rows x 6 columns]"
            ],
            "text/html": [
              "\n",
              "  <div id=\"df-ff1e3bbe-7a47-4c75-a1f2-9e5716165559\" class=\"colab-df-container\">\n",
              "    <div>\n",
              "<style scoped>\n",
              "    .dataframe tbody tr th:only-of-type {\n",
              "        vertical-align: middle;\n",
              "    }\n",
              "\n",
              "    .dataframe tbody tr th {\n",
              "        vertical-align: top;\n",
              "    }\n",
              "\n",
              "    .dataframe thead th {\n",
              "        text-align: right;\n",
              "    }\n",
              "</style>\n",
              "<table border=\"1\" class=\"dataframe\">\n",
              "  <thead>\n",
              "    <tr style=\"text-align: right;\">\n",
              "      <th></th>\n",
              "      <th>Id</th>\n",
              "      <th>SepalLengthCm</th>\n",
              "      <th>SepalWidthCm</th>\n",
              "      <th>PetalLengthCm</th>\n",
              "      <th>PetalWidthCm</th>\n",
              "      <th>Species</th>\n",
              "    </tr>\n",
              "  </thead>\n",
              "  <tbody>\n",
              "    <tr>\n",
              "      <th>0</th>\n",
              "      <td>1</td>\n",
              "      <td>5.0</td>\n",
              "      <td>3.0</td>\n",
              "      <td>1.5</td>\n",
              "      <td>0.2</td>\n",
              "      <td>Iris-setosa</td>\n",
              "    </tr>\n",
              "    <tr>\n",
              "      <th>1</th>\n",
              "      <td>2</td>\n",
              "      <td>NaN</td>\n",
              "      <td>NaN</td>\n",
              "      <td>NaN</td>\n",
              "      <td>NaN</td>\n",
              "      <td>Iris-versicolor</td>\n",
              "    </tr>\n",
              "    <tr>\n",
              "      <th>2</th>\n",
              "      <td>3</td>\n",
              "      <td>NaN</td>\n",
              "      <td>NaN</td>\n",
              "      <td>NaN</td>\n",
              "      <td>NaN</td>\n",
              "      <td>Iris-virginica</td>\n",
              "    </tr>\n",
              "    <tr>\n",
              "      <th>3</th>\n",
              "      <td>4</td>\n",
              "      <td>NaN</td>\n",
              "      <td>NaN</td>\n",
              "      <td>NaN</td>\n",
              "      <td>NaN</td>\n",
              "      <td>NaN</td>\n",
              "    </tr>\n",
              "    <tr>\n",
              "      <th>4</th>\n",
              "      <td>5</td>\n",
              "      <td>NaN</td>\n",
              "      <td>NaN</td>\n",
              "      <td>NaN</td>\n",
              "      <td>NaN</td>\n",
              "      <td>NaN</td>\n",
              "    </tr>\n",
              "    <tr>\n",
              "      <th>...</th>\n",
              "      <td>...</td>\n",
              "      <td>...</td>\n",
              "      <td>...</td>\n",
              "      <td>...</td>\n",
              "      <td>...</td>\n",
              "      <td>...</td>\n",
              "    </tr>\n",
              "    <tr>\n",
              "      <th>145</th>\n",
              "      <td>146</td>\n",
              "      <td>NaN</td>\n",
              "      <td>NaN</td>\n",
              "      <td>NaN</td>\n",
              "      <td>NaN</td>\n",
              "      <td>NaN</td>\n",
              "    </tr>\n",
              "    <tr>\n",
              "      <th>146</th>\n",
              "      <td>147</td>\n",
              "      <td>NaN</td>\n",
              "      <td>NaN</td>\n",
              "      <td>NaN</td>\n",
              "      <td>NaN</td>\n",
              "      <td>NaN</td>\n",
              "    </tr>\n",
              "    <tr>\n",
              "      <th>147</th>\n",
              "      <td>148</td>\n",
              "      <td>NaN</td>\n",
              "      <td>NaN</td>\n",
              "      <td>NaN</td>\n",
              "      <td>NaN</td>\n",
              "      <td>NaN</td>\n",
              "    </tr>\n",
              "    <tr>\n",
              "      <th>148</th>\n",
              "      <td>149</td>\n",
              "      <td>NaN</td>\n",
              "      <td>NaN</td>\n",
              "      <td>NaN</td>\n",
              "      <td>NaN</td>\n",
              "      <td>NaN</td>\n",
              "    </tr>\n",
              "    <tr>\n",
              "      <th>149</th>\n",
              "      <td>150</td>\n",
              "      <td>NaN</td>\n",
              "      <td>NaN</td>\n",
              "      <td>NaN</td>\n",
              "      <td>NaN</td>\n",
              "      <td>NaN</td>\n",
              "    </tr>\n",
              "  </tbody>\n",
              "</table>\n",
              "<p>150 rows × 6 columns</p>\n",
              "</div>\n",
              "    <div class=\"colab-df-buttons\">\n",
              "\n",
              "  <div class=\"colab-df-container\">\n",
              "    <button class=\"colab-df-convert\" onclick=\"convertToInteractive('df-ff1e3bbe-7a47-4c75-a1f2-9e5716165559')\"\n",
              "            title=\"Convert this dataframe to an interactive table.\"\n",
              "            style=\"display:none;\">\n",
              "\n",
              "  <svg xmlns=\"http://www.w3.org/2000/svg\" height=\"24px\" viewBox=\"0 -960 960 960\">\n",
              "    <path d=\"M120-120v-720h720v720H120Zm60-500h600v-160H180v160Zm220 220h160v-160H400v160Zm0 220h160v-160H400v160ZM180-400h160v-160H180v160Zm440 0h160v-160H620v160ZM180-180h160v-160H180v160Zm440 0h160v-160H620v160Z\"/>\n",
              "  </svg>\n",
              "    </button>\n",
              "\n",
              "  <style>\n",
              "    .colab-df-container {\n",
              "      display:flex;\n",
              "      gap: 12px;\n",
              "    }\n",
              "\n",
              "    .colab-df-convert {\n",
              "      background-color: #E8F0FE;\n",
              "      border: none;\n",
              "      border-radius: 50%;\n",
              "      cursor: pointer;\n",
              "      display: none;\n",
              "      fill: #1967D2;\n",
              "      height: 32px;\n",
              "      padding: 0 0 0 0;\n",
              "      width: 32px;\n",
              "    }\n",
              "\n",
              "    .colab-df-convert:hover {\n",
              "      background-color: #E2EBFA;\n",
              "      box-shadow: 0px 1px 2px rgba(60, 64, 67, 0.3), 0px 1px 3px 1px rgba(60, 64, 67, 0.15);\n",
              "      fill: #174EA6;\n",
              "    }\n",
              "\n",
              "    .colab-df-buttons div {\n",
              "      margin-bottom: 4px;\n",
              "    }\n",
              "\n",
              "    [theme=dark] .colab-df-convert {\n",
              "      background-color: #3B4455;\n",
              "      fill: #D2E3FC;\n",
              "    }\n",
              "\n",
              "    [theme=dark] .colab-df-convert:hover {\n",
              "      background-color: #434B5C;\n",
              "      box-shadow: 0px 1px 3px 1px rgba(0, 0, 0, 0.15);\n",
              "      filter: drop-shadow(0px 1px 2px rgba(0, 0, 0, 0.3));\n",
              "      fill: #FFFFFF;\n",
              "    }\n",
              "  </style>\n",
              "\n",
              "    <script>\n",
              "      const buttonEl =\n",
              "        document.querySelector('#df-ff1e3bbe-7a47-4c75-a1f2-9e5716165559 button.colab-df-convert');\n",
              "      buttonEl.style.display =\n",
              "        google.colab.kernel.accessAllowed ? 'block' : 'none';\n",
              "\n",
              "      async function convertToInteractive(key) {\n",
              "        const element = document.querySelector('#df-ff1e3bbe-7a47-4c75-a1f2-9e5716165559');\n",
              "        const dataTable =\n",
              "          await google.colab.kernel.invokeFunction('convertToInteractive',\n",
              "                                                    [key], {});\n",
              "        if (!dataTable) return;\n",
              "\n",
              "        const docLinkHtml = 'Like what you see? Visit the ' +\n",
              "          '<a target=\"_blank\" href=https://colab.research.google.com/notebooks/data_table.ipynb>data table notebook</a>'\n",
              "          + ' to learn more about interactive tables.';\n",
              "        element.innerHTML = '';\n",
              "        dataTable['output_type'] = 'display_data';\n",
              "        await google.colab.output.renderOutput(dataTable, element);\n",
              "        const docLink = document.createElement('div');\n",
              "        docLink.innerHTML = docLinkHtml;\n",
              "        element.appendChild(docLink);\n",
              "      }\n",
              "    </script>\n",
              "  </div>\n",
              "\n",
              "\n",
              "<div id=\"df-f02582b5-7103-4b46-be18-febb0a016054\">\n",
              "  <button class=\"colab-df-quickchart\" onclick=\"quickchart('df-f02582b5-7103-4b46-be18-febb0a016054')\"\n",
              "            title=\"Suggest charts\"\n",
              "            style=\"display:none;\">\n",
              "\n",
              "<svg xmlns=\"http://www.w3.org/2000/svg\" height=\"24px\"viewBox=\"0 0 24 24\"\n",
              "     width=\"24px\">\n",
              "    <g>\n",
              "        <path d=\"M19 3H5c-1.1 0-2 .9-2 2v14c0 1.1.9 2 2 2h14c1.1 0 2-.9 2-2V5c0-1.1-.9-2-2-2zM9 17H7v-7h2v7zm4 0h-2V7h2v10zm4 0h-2v-4h2v4z\"/>\n",
              "    </g>\n",
              "</svg>\n",
              "  </button>\n",
              "\n",
              "<style>\n",
              "  .colab-df-quickchart {\n",
              "      --bg-color: #E8F0FE;\n",
              "      --fill-color: #1967D2;\n",
              "      --hover-bg-color: #E2EBFA;\n",
              "      --hover-fill-color: #174EA6;\n",
              "      --disabled-fill-color: #AAA;\n",
              "      --disabled-bg-color: #DDD;\n",
              "  }\n",
              "\n",
              "  [theme=dark] .colab-df-quickchart {\n",
              "      --bg-color: #3B4455;\n",
              "      --fill-color: #D2E3FC;\n",
              "      --hover-bg-color: #434B5C;\n",
              "      --hover-fill-color: #FFFFFF;\n",
              "      --disabled-bg-color: #3B4455;\n",
              "      --disabled-fill-color: #666;\n",
              "  }\n",
              "\n",
              "  .colab-df-quickchart {\n",
              "    background-color: var(--bg-color);\n",
              "    border: none;\n",
              "    border-radius: 50%;\n",
              "    cursor: pointer;\n",
              "    display: none;\n",
              "    fill: var(--fill-color);\n",
              "    height: 32px;\n",
              "    padding: 0;\n",
              "    width: 32px;\n",
              "  }\n",
              "\n",
              "  .colab-df-quickchart:hover {\n",
              "    background-color: var(--hover-bg-color);\n",
              "    box-shadow: 0 1px 2px rgba(60, 64, 67, 0.3), 0 1px 3px 1px rgba(60, 64, 67, 0.15);\n",
              "    fill: var(--button-hover-fill-color);\n",
              "  }\n",
              "\n",
              "  .colab-df-quickchart-complete:disabled,\n",
              "  .colab-df-quickchart-complete:disabled:hover {\n",
              "    background-color: var(--disabled-bg-color);\n",
              "    fill: var(--disabled-fill-color);\n",
              "    box-shadow: none;\n",
              "  }\n",
              "\n",
              "  .colab-df-spinner {\n",
              "    border: 2px solid var(--fill-color);\n",
              "    border-color: transparent;\n",
              "    border-bottom-color: var(--fill-color);\n",
              "    animation:\n",
              "      spin 1s steps(1) infinite;\n",
              "  }\n",
              "\n",
              "  @keyframes spin {\n",
              "    0% {\n",
              "      border-color: transparent;\n",
              "      border-bottom-color: var(--fill-color);\n",
              "      border-left-color: var(--fill-color);\n",
              "    }\n",
              "    20% {\n",
              "      border-color: transparent;\n",
              "      border-left-color: var(--fill-color);\n",
              "      border-top-color: var(--fill-color);\n",
              "    }\n",
              "    30% {\n",
              "      border-color: transparent;\n",
              "      border-left-color: var(--fill-color);\n",
              "      border-top-color: var(--fill-color);\n",
              "      border-right-color: var(--fill-color);\n",
              "    }\n",
              "    40% {\n",
              "      border-color: transparent;\n",
              "      border-right-color: var(--fill-color);\n",
              "      border-top-color: var(--fill-color);\n",
              "    }\n",
              "    60% {\n",
              "      border-color: transparent;\n",
              "      border-right-color: var(--fill-color);\n",
              "    }\n",
              "    80% {\n",
              "      border-color: transparent;\n",
              "      border-right-color: var(--fill-color);\n",
              "      border-bottom-color: var(--fill-color);\n",
              "    }\n",
              "    90% {\n",
              "      border-color: transparent;\n",
              "      border-bottom-color: var(--fill-color);\n",
              "    }\n",
              "  }\n",
              "</style>\n",
              "\n",
              "  <script>\n",
              "    async function quickchart(key) {\n",
              "      const quickchartButtonEl =\n",
              "        document.querySelector('#' + key + ' button');\n",
              "      quickchartButtonEl.disabled = true;  // To prevent multiple clicks.\n",
              "      quickchartButtonEl.classList.add('colab-df-spinner');\n",
              "      try {\n",
              "        const charts = await google.colab.kernel.invokeFunction(\n",
              "            'suggestCharts', [key], {});\n",
              "      } catch (error) {\n",
              "        console.error('Error during call to suggestCharts:', error);\n",
              "      }\n",
              "      quickchartButtonEl.classList.remove('colab-df-spinner');\n",
              "      quickchartButtonEl.classList.add('colab-df-quickchart-complete');\n",
              "    }\n",
              "    (() => {\n",
              "      let quickchartButtonEl =\n",
              "        document.querySelector('#df-f02582b5-7103-4b46-be18-febb0a016054 button');\n",
              "      quickchartButtonEl.style.display =\n",
              "        google.colab.kernel.accessAllowed ? 'block' : 'none';\n",
              "    })();\n",
              "  </script>\n",
              "</div>\n",
              "\n",
              "    </div>\n",
              "  </div>\n"
            ]
          },
          "metadata": {},
          "execution_count": 162
        }
      ]
    },
    {
      "cell_type": "code",
      "source": [
        "data.isnull().sum()"
      ],
      "metadata": {
        "colab": {
          "base_uri": "https://localhost:8080/"
        },
        "id": "7-iGM37KuLst",
        "outputId": "236e6b64-2686-4b1d-9c0c-b0b7aac6c6f2"
      },
      "execution_count": null,
      "outputs": [
        {
          "output_type": "execute_result",
          "data": {
            "text/plain": [
              "Id               0\n",
              "SepalLengthCm    0\n",
              "SepalWidthCm     0\n",
              "PetalLengthCm    0\n",
              "PetalWidthCm     0\n",
              "Species          0\n",
              "dtype: int64"
            ]
          },
          "metadata": {},
          "execution_count": 215
        }
      ]
    },
    {
      "cell_type": "code",
      "source": [
        "data.duplicated().sum()"
      ],
      "metadata": {
        "colab": {
          "base_uri": "https://localhost:8080/"
        },
        "id": "fHbhTIPYuHBM",
        "outputId": "a669738f-9da6-435f-c3ae-69991b6f8c64"
      },
      "execution_count": null,
      "outputs": [
        {
          "output_type": "execute_result",
          "data": {
            "text/plain": [
              "0"
            ]
          },
          "metadata": {},
          "execution_count": 164
        }
      ]
    },
    {
      "cell_type": "code",
      "source": [
        "data.loc[ [1,2,149 ] , ['Id' , 'SepalWidthCm']] # loc[row , cols]"
      ],
      "metadata": {
        "colab": {
          "base_uri": "https://localhost:8080/",
          "height": 143
        },
        "id": "B1jn9ZOhsOBi",
        "outputId": "da2d2fff-a84e-45ed-ad6a-fb8a111a5988"
      },
      "execution_count": null,
      "outputs": [
        {
          "output_type": "execute_result",
          "data": {
            "text/plain": [
              "      Id  SepalWidthCm\n",
              "1      2           3.0\n",
              "2      3           3.2\n",
              "149  150           3.0"
            ],
            "text/html": [
              "\n",
              "  <div id=\"df-df536390-47a0-4c4c-9a52-66c286be85c3\" class=\"colab-df-container\">\n",
              "    <div>\n",
              "<style scoped>\n",
              "    .dataframe tbody tr th:only-of-type {\n",
              "        vertical-align: middle;\n",
              "    }\n",
              "\n",
              "    .dataframe tbody tr th {\n",
              "        vertical-align: top;\n",
              "    }\n",
              "\n",
              "    .dataframe thead th {\n",
              "        text-align: right;\n",
              "    }\n",
              "</style>\n",
              "<table border=\"1\" class=\"dataframe\">\n",
              "  <thead>\n",
              "    <tr style=\"text-align: right;\">\n",
              "      <th></th>\n",
              "      <th>Id</th>\n",
              "      <th>SepalWidthCm</th>\n",
              "    </tr>\n",
              "  </thead>\n",
              "  <tbody>\n",
              "    <tr>\n",
              "      <th>1</th>\n",
              "      <td>2</td>\n",
              "      <td>3.0</td>\n",
              "    </tr>\n",
              "    <tr>\n",
              "      <th>2</th>\n",
              "      <td>3</td>\n",
              "      <td>3.2</td>\n",
              "    </tr>\n",
              "    <tr>\n",
              "      <th>149</th>\n",
              "      <td>150</td>\n",
              "      <td>3.0</td>\n",
              "    </tr>\n",
              "  </tbody>\n",
              "</table>\n",
              "</div>\n",
              "    <div class=\"colab-df-buttons\">\n",
              "\n",
              "  <div class=\"colab-df-container\">\n",
              "    <button class=\"colab-df-convert\" onclick=\"convertToInteractive('df-df536390-47a0-4c4c-9a52-66c286be85c3')\"\n",
              "            title=\"Convert this dataframe to an interactive table.\"\n",
              "            style=\"display:none;\">\n",
              "\n",
              "  <svg xmlns=\"http://www.w3.org/2000/svg\" height=\"24px\" viewBox=\"0 -960 960 960\">\n",
              "    <path d=\"M120-120v-720h720v720H120Zm60-500h600v-160H180v160Zm220 220h160v-160H400v160Zm0 220h160v-160H400v160ZM180-400h160v-160H180v160Zm440 0h160v-160H620v160ZM180-180h160v-160H180v160Zm440 0h160v-160H620v160Z\"/>\n",
              "  </svg>\n",
              "    </button>\n",
              "\n",
              "  <style>\n",
              "    .colab-df-container {\n",
              "      display:flex;\n",
              "      gap: 12px;\n",
              "    }\n",
              "\n",
              "    .colab-df-convert {\n",
              "      background-color: #E8F0FE;\n",
              "      border: none;\n",
              "      border-radius: 50%;\n",
              "      cursor: pointer;\n",
              "      display: none;\n",
              "      fill: #1967D2;\n",
              "      height: 32px;\n",
              "      padding: 0 0 0 0;\n",
              "      width: 32px;\n",
              "    }\n",
              "\n",
              "    .colab-df-convert:hover {\n",
              "      background-color: #E2EBFA;\n",
              "      box-shadow: 0px 1px 2px rgba(60, 64, 67, 0.3), 0px 1px 3px 1px rgba(60, 64, 67, 0.15);\n",
              "      fill: #174EA6;\n",
              "    }\n",
              "\n",
              "    .colab-df-buttons div {\n",
              "      margin-bottom: 4px;\n",
              "    }\n",
              "\n",
              "    [theme=dark] .colab-df-convert {\n",
              "      background-color: #3B4455;\n",
              "      fill: #D2E3FC;\n",
              "    }\n",
              "\n",
              "    [theme=dark] .colab-df-convert:hover {\n",
              "      background-color: #434B5C;\n",
              "      box-shadow: 0px 1px 3px 1px rgba(0, 0, 0, 0.15);\n",
              "      filter: drop-shadow(0px 1px 2px rgba(0, 0, 0, 0.3));\n",
              "      fill: #FFFFFF;\n",
              "    }\n",
              "  </style>\n",
              "\n",
              "    <script>\n",
              "      const buttonEl =\n",
              "        document.querySelector('#df-df536390-47a0-4c4c-9a52-66c286be85c3 button.colab-df-convert');\n",
              "      buttonEl.style.display =\n",
              "        google.colab.kernel.accessAllowed ? 'block' : 'none';\n",
              "\n",
              "      async function convertToInteractive(key) {\n",
              "        const element = document.querySelector('#df-df536390-47a0-4c4c-9a52-66c286be85c3');\n",
              "        const dataTable =\n",
              "          await google.colab.kernel.invokeFunction('convertToInteractive',\n",
              "                                                    [key], {});\n",
              "        if (!dataTable) return;\n",
              "\n",
              "        const docLinkHtml = 'Like what you see? Visit the ' +\n",
              "          '<a target=\"_blank\" href=https://colab.research.google.com/notebooks/data_table.ipynb>data table notebook</a>'\n",
              "          + ' to learn more about interactive tables.';\n",
              "        element.innerHTML = '';\n",
              "        dataTable['output_type'] = 'display_data';\n",
              "        await google.colab.output.renderOutput(dataTable, element);\n",
              "        const docLink = document.createElement('div');\n",
              "        docLink.innerHTML = docLinkHtml;\n",
              "        element.appendChild(docLink);\n",
              "      }\n",
              "    </script>\n",
              "  </div>\n",
              "\n",
              "\n",
              "<div id=\"df-5e5428ee-c956-4ab6-812c-bb3d04152725\">\n",
              "  <button class=\"colab-df-quickchart\" onclick=\"quickchart('df-5e5428ee-c956-4ab6-812c-bb3d04152725')\"\n",
              "            title=\"Suggest charts\"\n",
              "            style=\"display:none;\">\n",
              "\n",
              "<svg xmlns=\"http://www.w3.org/2000/svg\" height=\"24px\"viewBox=\"0 0 24 24\"\n",
              "     width=\"24px\">\n",
              "    <g>\n",
              "        <path d=\"M19 3H5c-1.1 0-2 .9-2 2v14c0 1.1.9 2 2 2h14c1.1 0 2-.9 2-2V5c0-1.1-.9-2-2-2zM9 17H7v-7h2v7zm4 0h-2V7h2v10zm4 0h-2v-4h2v4z\"/>\n",
              "    </g>\n",
              "</svg>\n",
              "  </button>\n",
              "\n",
              "<style>\n",
              "  .colab-df-quickchart {\n",
              "      --bg-color: #E8F0FE;\n",
              "      --fill-color: #1967D2;\n",
              "      --hover-bg-color: #E2EBFA;\n",
              "      --hover-fill-color: #174EA6;\n",
              "      --disabled-fill-color: #AAA;\n",
              "      --disabled-bg-color: #DDD;\n",
              "  }\n",
              "\n",
              "  [theme=dark] .colab-df-quickchart {\n",
              "      --bg-color: #3B4455;\n",
              "      --fill-color: #D2E3FC;\n",
              "      --hover-bg-color: #434B5C;\n",
              "      --hover-fill-color: #FFFFFF;\n",
              "      --disabled-bg-color: #3B4455;\n",
              "      --disabled-fill-color: #666;\n",
              "  }\n",
              "\n",
              "  .colab-df-quickchart {\n",
              "    background-color: var(--bg-color);\n",
              "    border: none;\n",
              "    border-radius: 50%;\n",
              "    cursor: pointer;\n",
              "    display: none;\n",
              "    fill: var(--fill-color);\n",
              "    height: 32px;\n",
              "    padding: 0;\n",
              "    width: 32px;\n",
              "  }\n",
              "\n",
              "  .colab-df-quickchart:hover {\n",
              "    background-color: var(--hover-bg-color);\n",
              "    box-shadow: 0 1px 2px rgba(60, 64, 67, 0.3), 0 1px 3px 1px rgba(60, 64, 67, 0.15);\n",
              "    fill: var(--button-hover-fill-color);\n",
              "  }\n",
              "\n",
              "  .colab-df-quickchart-complete:disabled,\n",
              "  .colab-df-quickchart-complete:disabled:hover {\n",
              "    background-color: var(--disabled-bg-color);\n",
              "    fill: var(--disabled-fill-color);\n",
              "    box-shadow: none;\n",
              "  }\n",
              "\n",
              "  .colab-df-spinner {\n",
              "    border: 2px solid var(--fill-color);\n",
              "    border-color: transparent;\n",
              "    border-bottom-color: var(--fill-color);\n",
              "    animation:\n",
              "      spin 1s steps(1) infinite;\n",
              "  }\n",
              "\n",
              "  @keyframes spin {\n",
              "    0% {\n",
              "      border-color: transparent;\n",
              "      border-bottom-color: var(--fill-color);\n",
              "      border-left-color: var(--fill-color);\n",
              "    }\n",
              "    20% {\n",
              "      border-color: transparent;\n",
              "      border-left-color: var(--fill-color);\n",
              "      border-top-color: var(--fill-color);\n",
              "    }\n",
              "    30% {\n",
              "      border-color: transparent;\n",
              "      border-left-color: var(--fill-color);\n",
              "      border-top-color: var(--fill-color);\n",
              "      border-right-color: var(--fill-color);\n",
              "    }\n",
              "    40% {\n",
              "      border-color: transparent;\n",
              "      border-right-color: var(--fill-color);\n",
              "      border-top-color: var(--fill-color);\n",
              "    }\n",
              "    60% {\n",
              "      border-color: transparent;\n",
              "      border-right-color: var(--fill-color);\n",
              "    }\n",
              "    80% {\n",
              "      border-color: transparent;\n",
              "      border-right-color: var(--fill-color);\n",
              "      border-bottom-color: var(--fill-color);\n",
              "    }\n",
              "    90% {\n",
              "      border-color: transparent;\n",
              "      border-bottom-color: var(--fill-color);\n",
              "    }\n",
              "  }\n",
              "</style>\n",
              "\n",
              "  <script>\n",
              "    async function quickchart(key) {\n",
              "      const quickchartButtonEl =\n",
              "        document.querySelector('#' + key + ' button');\n",
              "      quickchartButtonEl.disabled = true;  // To prevent multiple clicks.\n",
              "      quickchartButtonEl.classList.add('colab-df-spinner');\n",
              "      try {\n",
              "        const charts = await google.colab.kernel.invokeFunction(\n",
              "            'suggestCharts', [key], {});\n",
              "      } catch (error) {\n",
              "        console.error('Error during call to suggestCharts:', error);\n",
              "      }\n",
              "      quickchartButtonEl.classList.remove('colab-df-spinner');\n",
              "      quickchartButtonEl.classList.add('colab-df-quickchart-complete');\n",
              "    }\n",
              "    (() => {\n",
              "      let quickchartButtonEl =\n",
              "        document.querySelector('#df-5e5428ee-c956-4ab6-812c-bb3d04152725 button');\n",
              "      quickchartButtonEl.style.display =\n",
              "        google.colab.kernel.accessAllowed ? 'block' : 'none';\n",
              "    })();\n",
              "  </script>\n",
              "</div>\n",
              "\n",
              "    </div>\n",
              "  </div>\n"
            ]
          },
          "metadata": {},
          "execution_count": 217
        }
      ]
    },
    {
      "cell_type": "code",
      "source": [
        "data.iloc[[1,2],[1,4]]"
      ],
      "metadata": {
        "colab": {
          "base_uri": "https://localhost:8080/",
          "height": 112
        },
        "id": "mseTG_2nuvGp",
        "outputId": "f237d1fa-2219-4c53-ec9d-84f3c5b0a51f"
      },
      "execution_count": null,
      "outputs": [
        {
          "output_type": "execute_result",
          "data": {
            "text/plain": [
              "   SepalLengthCm  PetalWidthCm\n",
              "1            4.9           0.2\n",
              "2            4.7           0.2"
            ],
            "text/html": [
              "\n",
              "  <div id=\"df-6e9d1191-d758-4623-a2c3-ac56276a4fd3\" class=\"colab-df-container\">\n",
              "    <div>\n",
              "<style scoped>\n",
              "    .dataframe tbody tr th:only-of-type {\n",
              "        vertical-align: middle;\n",
              "    }\n",
              "\n",
              "    .dataframe tbody tr th {\n",
              "        vertical-align: top;\n",
              "    }\n",
              "\n",
              "    .dataframe thead th {\n",
              "        text-align: right;\n",
              "    }\n",
              "</style>\n",
              "<table border=\"1\" class=\"dataframe\">\n",
              "  <thead>\n",
              "    <tr style=\"text-align: right;\">\n",
              "      <th></th>\n",
              "      <th>SepalLengthCm</th>\n",
              "      <th>PetalWidthCm</th>\n",
              "    </tr>\n",
              "  </thead>\n",
              "  <tbody>\n",
              "    <tr>\n",
              "      <th>1</th>\n",
              "      <td>4.9</td>\n",
              "      <td>0.2</td>\n",
              "    </tr>\n",
              "    <tr>\n",
              "      <th>2</th>\n",
              "      <td>4.7</td>\n",
              "      <td>0.2</td>\n",
              "    </tr>\n",
              "  </tbody>\n",
              "</table>\n",
              "</div>\n",
              "    <div class=\"colab-df-buttons\">\n",
              "\n",
              "  <div class=\"colab-df-container\">\n",
              "    <button class=\"colab-df-convert\" onclick=\"convertToInteractive('df-6e9d1191-d758-4623-a2c3-ac56276a4fd3')\"\n",
              "            title=\"Convert this dataframe to an interactive table.\"\n",
              "            style=\"display:none;\">\n",
              "\n",
              "  <svg xmlns=\"http://www.w3.org/2000/svg\" height=\"24px\" viewBox=\"0 -960 960 960\">\n",
              "    <path d=\"M120-120v-720h720v720H120Zm60-500h600v-160H180v160Zm220 220h160v-160H400v160Zm0 220h160v-160H400v160ZM180-400h160v-160H180v160Zm440 0h160v-160H620v160ZM180-180h160v-160H180v160Zm440 0h160v-160H620v160Z\"/>\n",
              "  </svg>\n",
              "    </button>\n",
              "\n",
              "  <style>\n",
              "    .colab-df-container {\n",
              "      display:flex;\n",
              "      gap: 12px;\n",
              "    }\n",
              "\n",
              "    .colab-df-convert {\n",
              "      background-color: #E8F0FE;\n",
              "      border: none;\n",
              "      border-radius: 50%;\n",
              "      cursor: pointer;\n",
              "      display: none;\n",
              "      fill: #1967D2;\n",
              "      height: 32px;\n",
              "      padding: 0 0 0 0;\n",
              "      width: 32px;\n",
              "    }\n",
              "\n",
              "    .colab-df-convert:hover {\n",
              "      background-color: #E2EBFA;\n",
              "      box-shadow: 0px 1px 2px rgba(60, 64, 67, 0.3), 0px 1px 3px 1px rgba(60, 64, 67, 0.15);\n",
              "      fill: #174EA6;\n",
              "    }\n",
              "\n",
              "    .colab-df-buttons div {\n",
              "      margin-bottom: 4px;\n",
              "    }\n",
              "\n",
              "    [theme=dark] .colab-df-convert {\n",
              "      background-color: #3B4455;\n",
              "      fill: #D2E3FC;\n",
              "    }\n",
              "\n",
              "    [theme=dark] .colab-df-convert:hover {\n",
              "      background-color: #434B5C;\n",
              "      box-shadow: 0px 1px 3px 1px rgba(0, 0, 0, 0.15);\n",
              "      filter: drop-shadow(0px 1px 2px rgba(0, 0, 0, 0.3));\n",
              "      fill: #FFFFFF;\n",
              "    }\n",
              "  </style>\n",
              "\n",
              "    <script>\n",
              "      const buttonEl =\n",
              "        document.querySelector('#df-6e9d1191-d758-4623-a2c3-ac56276a4fd3 button.colab-df-convert');\n",
              "      buttonEl.style.display =\n",
              "        google.colab.kernel.accessAllowed ? 'block' : 'none';\n",
              "\n",
              "      async function convertToInteractive(key) {\n",
              "        const element = document.querySelector('#df-6e9d1191-d758-4623-a2c3-ac56276a4fd3');\n",
              "        const dataTable =\n",
              "          await google.colab.kernel.invokeFunction('convertToInteractive',\n",
              "                                                    [key], {});\n",
              "        if (!dataTable) return;\n",
              "\n",
              "        const docLinkHtml = 'Like what you see? Visit the ' +\n",
              "          '<a target=\"_blank\" href=https://colab.research.google.com/notebooks/data_table.ipynb>data table notebook</a>'\n",
              "          + ' to learn more about interactive tables.';\n",
              "        element.innerHTML = '';\n",
              "        dataTable['output_type'] = 'display_data';\n",
              "        await google.colab.output.renderOutput(dataTable, element);\n",
              "        const docLink = document.createElement('div');\n",
              "        docLink.innerHTML = docLinkHtml;\n",
              "        element.appendChild(docLink);\n",
              "      }\n",
              "    </script>\n",
              "  </div>\n",
              "\n",
              "\n",
              "<div id=\"df-43265c7b-388f-4289-be12-30228eee5ddf\">\n",
              "  <button class=\"colab-df-quickchart\" onclick=\"quickchart('df-43265c7b-388f-4289-be12-30228eee5ddf')\"\n",
              "            title=\"Suggest charts\"\n",
              "            style=\"display:none;\">\n",
              "\n",
              "<svg xmlns=\"http://www.w3.org/2000/svg\" height=\"24px\"viewBox=\"0 0 24 24\"\n",
              "     width=\"24px\">\n",
              "    <g>\n",
              "        <path d=\"M19 3H5c-1.1 0-2 .9-2 2v14c0 1.1.9 2 2 2h14c1.1 0 2-.9 2-2V5c0-1.1-.9-2-2-2zM9 17H7v-7h2v7zm4 0h-2V7h2v10zm4 0h-2v-4h2v4z\"/>\n",
              "    </g>\n",
              "</svg>\n",
              "  </button>\n",
              "\n",
              "<style>\n",
              "  .colab-df-quickchart {\n",
              "      --bg-color: #E8F0FE;\n",
              "      --fill-color: #1967D2;\n",
              "      --hover-bg-color: #E2EBFA;\n",
              "      --hover-fill-color: #174EA6;\n",
              "      --disabled-fill-color: #AAA;\n",
              "      --disabled-bg-color: #DDD;\n",
              "  }\n",
              "\n",
              "  [theme=dark] .colab-df-quickchart {\n",
              "      --bg-color: #3B4455;\n",
              "      --fill-color: #D2E3FC;\n",
              "      --hover-bg-color: #434B5C;\n",
              "      --hover-fill-color: #FFFFFF;\n",
              "      --disabled-bg-color: #3B4455;\n",
              "      --disabled-fill-color: #666;\n",
              "  }\n",
              "\n",
              "  .colab-df-quickchart {\n",
              "    background-color: var(--bg-color);\n",
              "    border: none;\n",
              "    border-radius: 50%;\n",
              "    cursor: pointer;\n",
              "    display: none;\n",
              "    fill: var(--fill-color);\n",
              "    height: 32px;\n",
              "    padding: 0;\n",
              "    width: 32px;\n",
              "  }\n",
              "\n",
              "  .colab-df-quickchart:hover {\n",
              "    background-color: var(--hover-bg-color);\n",
              "    box-shadow: 0 1px 2px rgba(60, 64, 67, 0.3), 0 1px 3px 1px rgba(60, 64, 67, 0.15);\n",
              "    fill: var(--button-hover-fill-color);\n",
              "  }\n",
              "\n",
              "  .colab-df-quickchart-complete:disabled,\n",
              "  .colab-df-quickchart-complete:disabled:hover {\n",
              "    background-color: var(--disabled-bg-color);\n",
              "    fill: var(--disabled-fill-color);\n",
              "    box-shadow: none;\n",
              "  }\n",
              "\n",
              "  .colab-df-spinner {\n",
              "    border: 2px solid var(--fill-color);\n",
              "    border-color: transparent;\n",
              "    border-bottom-color: var(--fill-color);\n",
              "    animation:\n",
              "      spin 1s steps(1) infinite;\n",
              "  }\n",
              "\n",
              "  @keyframes spin {\n",
              "    0% {\n",
              "      border-color: transparent;\n",
              "      border-bottom-color: var(--fill-color);\n",
              "      border-left-color: var(--fill-color);\n",
              "    }\n",
              "    20% {\n",
              "      border-color: transparent;\n",
              "      border-left-color: var(--fill-color);\n",
              "      border-top-color: var(--fill-color);\n",
              "    }\n",
              "    30% {\n",
              "      border-color: transparent;\n",
              "      border-left-color: var(--fill-color);\n",
              "      border-top-color: var(--fill-color);\n",
              "      border-right-color: var(--fill-color);\n",
              "    }\n",
              "    40% {\n",
              "      border-color: transparent;\n",
              "      border-right-color: var(--fill-color);\n",
              "      border-top-color: var(--fill-color);\n",
              "    }\n",
              "    60% {\n",
              "      border-color: transparent;\n",
              "      border-right-color: var(--fill-color);\n",
              "    }\n",
              "    80% {\n",
              "      border-color: transparent;\n",
              "      border-right-color: var(--fill-color);\n",
              "      border-bottom-color: var(--fill-color);\n",
              "    }\n",
              "    90% {\n",
              "      border-color: transparent;\n",
              "      border-bottom-color: var(--fill-color);\n",
              "    }\n",
              "  }\n",
              "</style>\n",
              "\n",
              "  <script>\n",
              "    async function quickchart(key) {\n",
              "      const quickchartButtonEl =\n",
              "        document.querySelector('#' + key + ' button');\n",
              "      quickchartButtonEl.disabled = true;  // To prevent multiple clicks.\n",
              "      quickchartButtonEl.classList.add('colab-df-spinner');\n",
              "      try {\n",
              "        const charts = await google.colab.kernel.invokeFunction(\n",
              "            'suggestCharts', [key], {});\n",
              "      } catch (error) {\n",
              "        console.error('Error during call to suggestCharts:', error);\n",
              "      }\n",
              "      quickchartButtonEl.classList.remove('colab-df-spinner');\n",
              "      quickchartButtonEl.classList.add('colab-df-quickchart-complete');\n",
              "    }\n",
              "    (() => {\n",
              "      let quickchartButtonEl =\n",
              "        document.querySelector('#df-43265c7b-388f-4289-be12-30228eee5ddf button');\n",
              "      quickchartButtonEl.style.display =\n",
              "        google.colab.kernel.accessAllowed ? 'block' : 'none';\n",
              "    })();\n",
              "  </script>\n",
              "</div>\n",
              "\n",
              "    </div>\n",
              "  </div>\n"
            ]
          },
          "metadata": {},
          "execution_count": 166
        }
      ]
    },
    {
      "cell_type": "code",
      "source": [
        "data['Species'].value_counts()"
      ],
      "metadata": {
        "colab": {
          "base_uri": "https://localhost:8080/"
        },
        "id": "RaDRnwPIw8EP",
        "outputId": "464a94fe-4f4c-4455-b40b-c7b9d46bad1d"
      },
      "execution_count": null,
      "outputs": [
        {
          "output_type": "execute_result",
          "data": {
            "text/plain": [
              "Iris-setosa        50\n",
              "Iris-versicolor    50\n",
              "Iris-virginica     50\n",
              "Name: Species, dtype: int64"
            ]
          },
          "metadata": {},
          "execution_count": 167
        }
      ]
    },
    {
      "cell_type": "code",
      "source": [
        "data_species_g = data.groupby('Species')['PetalWidthCm'].mean()\n",
        "data_species_g.head()"
      ],
      "metadata": {
        "colab": {
          "base_uri": "https://localhost:8080/"
        },
        "id": "uKSVrgXpuf0Q",
        "outputId": "839e7e2d-4b0a-471e-964c-17f2a6810e68"
      },
      "execution_count": null,
      "outputs": [
        {
          "output_type": "execute_result",
          "data": {
            "text/plain": [
              "Species\n",
              "Iris-setosa        0.244\n",
              "Iris-versicolor    1.326\n",
              "Iris-virginica     2.026\n",
              "Name: PetalWidthCm, dtype: float64"
            ]
          },
          "metadata": {},
          "execution_count": 218
        }
      ]
    },
    {
      "cell_type": "code",
      "source": [
        "Only_iris_virginica = data[data['Species'] == 'Iris-virginica']\n",
        "Only_iris_virginica.head()\n",
        "\n",
        "# print(data['Species'])"
      ],
      "metadata": {
        "colab": {
          "base_uri": "https://localhost:8080/",
          "height": 206
        },
        "id": "y0GOuN2PvFZf",
        "outputId": "087914e2-395a-4c35-f921-4d61f7d8e67c"
      },
      "execution_count": null,
      "outputs": [
        {
          "output_type": "execute_result",
          "data": {
            "text/plain": [
              "      Id  SepalLengthCm  SepalWidthCm  PetalLengthCm  PetalWidthCm  \\\n",
              "100  101            6.3           3.3            6.0           2.5   \n",
              "101  102            5.8           2.7            5.1           1.9   \n",
              "102  103            7.1           3.0            5.9           2.1   \n",
              "103  104            6.3           2.9            5.6           1.8   \n",
              "104  105            6.5           3.0            5.8           2.2   \n",
              "\n",
              "            Species  \n",
              "100  Iris-virginica  \n",
              "101  Iris-virginica  \n",
              "102  Iris-virginica  \n",
              "103  Iris-virginica  \n",
              "104  Iris-virginica  "
            ],
            "text/html": [
              "\n",
              "  <div id=\"df-840df290-3c4a-4de7-98dc-cf943184780f\" class=\"colab-df-container\">\n",
              "    <div>\n",
              "<style scoped>\n",
              "    .dataframe tbody tr th:only-of-type {\n",
              "        vertical-align: middle;\n",
              "    }\n",
              "\n",
              "    .dataframe tbody tr th {\n",
              "        vertical-align: top;\n",
              "    }\n",
              "\n",
              "    .dataframe thead th {\n",
              "        text-align: right;\n",
              "    }\n",
              "</style>\n",
              "<table border=\"1\" class=\"dataframe\">\n",
              "  <thead>\n",
              "    <tr style=\"text-align: right;\">\n",
              "      <th></th>\n",
              "      <th>Id</th>\n",
              "      <th>SepalLengthCm</th>\n",
              "      <th>SepalWidthCm</th>\n",
              "      <th>PetalLengthCm</th>\n",
              "      <th>PetalWidthCm</th>\n",
              "      <th>Species</th>\n",
              "    </tr>\n",
              "  </thead>\n",
              "  <tbody>\n",
              "    <tr>\n",
              "      <th>100</th>\n",
              "      <td>101</td>\n",
              "      <td>6.3</td>\n",
              "      <td>3.3</td>\n",
              "      <td>6.0</td>\n",
              "      <td>2.5</td>\n",
              "      <td>Iris-virginica</td>\n",
              "    </tr>\n",
              "    <tr>\n",
              "      <th>101</th>\n",
              "      <td>102</td>\n",
              "      <td>5.8</td>\n",
              "      <td>2.7</td>\n",
              "      <td>5.1</td>\n",
              "      <td>1.9</td>\n",
              "      <td>Iris-virginica</td>\n",
              "    </tr>\n",
              "    <tr>\n",
              "      <th>102</th>\n",
              "      <td>103</td>\n",
              "      <td>7.1</td>\n",
              "      <td>3.0</td>\n",
              "      <td>5.9</td>\n",
              "      <td>2.1</td>\n",
              "      <td>Iris-virginica</td>\n",
              "    </tr>\n",
              "    <tr>\n",
              "      <th>103</th>\n",
              "      <td>104</td>\n",
              "      <td>6.3</td>\n",
              "      <td>2.9</td>\n",
              "      <td>5.6</td>\n",
              "      <td>1.8</td>\n",
              "      <td>Iris-virginica</td>\n",
              "    </tr>\n",
              "    <tr>\n",
              "      <th>104</th>\n",
              "      <td>105</td>\n",
              "      <td>6.5</td>\n",
              "      <td>3.0</td>\n",
              "      <td>5.8</td>\n",
              "      <td>2.2</td>\n",
              "      <td>Iris-virginica</td>\n",
              "    </tr>\n",
              "  </tbody>\n",
              "</table>\n",
              "</div>\n",
              "    <div class=\"colab-df-buttons\">\n",
              "\n",
              "  <div class=\"colab-df-container\">\n",
              "    <button class=\"colab-df-convert\" onclick=\"convertToInteractive('df-840df290-3c4a-4de7-98dc-cf943184780f')\"\n",
              "            title=\"Convert this dataframe to an interactive table.\"\n",
              "            style=\"display:none;\">\n",
              "\n",
              "  <svg xmlns=\"http://www.w3.org/2000/svg\" height=\"24px\" viewBox=\"0 -960 960 960\">\n",
              "    <path d=\"M120-120v-720h720v720H120Zm60-500h600v-160H180v160Zm220 220h160v-160H400v160Zm0 220h160v-160H400v160ZM180-400h160v-160H180v160Zm440 0h160v-160H620v160ZM180-180h160v-160H180v160Zm440 0h160v-160H620v160Z\"/>\n",
              "  </svg>\n",
              "    </button>\n",
              "\n",
              "  <style>\n",
              "    .colab-df-container {\n",
              "      display:flex;\n",
              "      gap: 12px;\n",
              "    }\n",
              "\n",
              "    .colab-df-convert {\n",
              "      background-color: #E8F0FE;\n",
              "      border: none;\n",
              "      border-radius: 50%;\n",
              "      cursor: pointer;\n",
              "      display: none;\n",
              "      fill: #1967D2;\n",
              "      height: 32px;\n",
              "      padding: 0 0 0 0;\n",
              "      width: 32px;\n",
              "    }\n",
              "\n",
              "    .colab-df-convert:hover {\n",
              "      background-color: #E2EBFA;\n",
              "      box-shadow: 0px 1px 2px rgba(60, 64, 67, 0.3), 0px 1px 3px 1px rgba(60, 64, 67, 0.15);\n",
              "      fill: #174EA6;\n",
              "    }\n",
              "\n",
              "    .colab-df-buttons div {\n",
              "      margin-bottom: 4px;\n",
              "    }\n",
              "\n",
              "    [theme=dark] .colab-df-convert {\n",
              "      background-color: #3B4455;\n",
              "      fill: #D2E3FC;\n",
              "    }\n",
              "\n",
              "    [theme=dark] .colab-df-convert:hover {\n",
              "      background-color: #434B5C;\n",
              "      box-shadow: 0px 1px 3px 1px rgba(0, 0, 0, 0.15);\n",
              "      filter: drop-shadow(0px 1px 2px rgba(0, 0, 0, 0.3));\n",
              "      fill: #FFFFFF;\n",
              "    }\n",
              "  </style>\n",
              "\n",
              "    <script>\n",
              "      const buttonEl =\n",
              "        document.querySelector('#df-840df290-3c4a-4de7-98dc-cf943184780f button.colab-df-convert');\n",
              "      buttonEl.style.display =\n",
              "        google.colab.kernel.accessAllowed ? 'block' : 'none';\n",
              "\n",
              "      async function convertToInteractive(key) {\n",
              "        const element = document.querySelector('#df-840df290-3c4a-4de7-98dc-cf943184780f');\n",
              "        const dataTable =\n",
              "          await google.colab.kernel.invokeFunction('convertToInteractive',\n",
              "                                                    [key], {});\n",
              "        if (!dataTable) return;\n",
              "\n",
              "        const docLinkHtml = 'Like what you see? Visit the ' +\n",
              "          '<a target=\"_blank\" href=https://colab.research.google.com/notebooks/data_table.ipynb>data table notebook</a>'\n",
              "          + ' to learn more about interactive tables.';\n",
              "        element.innerHTML = '';\n",
              "        dataTable['output_type'] = 'display_data';\n",
              "        await google.colab.output.renderOutput(dataTable, element);\n",
              "        const docLink = document.createElement('div');\n",
              "        docLink.innerHTML = docLinkHtml;\n",
              "        element.appendChild(docLink);\n",
              "      }\n",
              "    </script>\n",
              "  </div>\n",
              "\n",
              "\n",
              "<div id=\"df-f573216c-6247-47f2-ba9d-dcdabb057d9a\">\n",
              "  <button class=\"colab-df-quickchart\" onclick=\"quickchart('df-f573216c-6247-47f2-ba9d-dcdabb057d9a')\"\n",
              "            title=\"Suggest charts\"\n",
              "            style=\"display:none;\">\n",
              "\n",
              "<svg xmlns=\"http://www.w3.org/2000/svg\" height=\"24px\"viewBox=\"0 0 24 24\"\n",
              "     width=\"24px\">\n",
              "    <g>\n",
              "        <path d=\"M19 3H5c-1.1 0-2 .9-2 2v14c0 1.1.9 2 2 2h14c1.1 0 2-.9 2-2V5c0-1.1-.9-2-2-2zM9 17H7v-7h2v7zm4 0h-2V7h2v10zm4 0h-2v-4h2v4z\"/>\n",
              "    </g>\n",
              "</svg>\n",
              "  </button>\n",
              "\n",
              "<style>\n",
              "  .colab-df-quickchart {\n",
              "      --bg-color: #E8F0FE;\n",
              "      --fill-color: #1967D2;\n",
              "      --hover-bg-color: #E2EBFA;\n",
              "      --hover-fill-color: #174EA6;\n",
              "      --disabled-fill-color: #AAA;\n",
              "      --disabled-bg-color: #DDD;\n",
              "  }\n",
              "\n",
              "  [theme=dark] .colab-df-quickchart {\n",
              "      --bg-color: #3B4455;\n",
              "      --fill-color: #D2E3FC;\n",
              "      --hover-bg-color: #434B5C;\n",
              "      --hover-fill-color: #FFFFFF;\n",
              "      --disabled-bg-color: #3B4455;\n",
              "      --disabled-fill-color: #666;\n",
              "  }\n",
              "\n",
              "  .colab-df-quickchart {\n",
              "    background-color: var(--bg-color);\n",
              "    border: none;\n",
              "    border-radius: 50%;\n",
              "    cursor: pointer;\n",
              "    display: none;\n",
              "    fill: var(--fill-color);\n",
              "    height: 32px;\n",
              "    padding: 0;\n",
              "    width: 32px;\n",
              "  }\n",
              "\n",
              "  .colab-df-quickchart:hover {\n",
              "    background-color: var(--hover-bg-color);\n",
              "    box-shadow: 0 1px 2px rgba(60, 64, 67, 0.3), 0 1px 3px 1px rgba(60, 64, 67, 0.15);\n",
              "    fill: var(--button-hover-fill-color);\n",
              "  }\n",
              "\n",
              "  .colab-df-quickchart-complete:disabled,\n",
              "  .colab-df-quickchart-complete:disabled:hover {\n",
              "    background-color: var(--disabled-bg-color);\n",
              "    fill: var(--disabled-fill-color);\n",
              "    box-shadow: none;\n",
              "  }\n",
              "\n",
              "  .colab-df-spinner {\n",
              "    border: 2px solid var(--fill-color);\n",
              "    border-color: transparent;\n",
              "    border-bottom-color: var(--fill-color);\n",
              "    animation:\n",
              "      spin 1s steps(1) infinite;\n",
              "  }\n",
              "\n",
              "  @keyframes spin {\n",
              "    0% {\n",
              "      border-color: transparent;\n",
              "      border-bottom-color: var(--fill-color);\n",
              "      border-left-color: var(--fill-color);\n",
              "    }\n",
              "    20% {\n",
              "      border-color: transparent;\n",
              "      border-left-color: var(--fill-color);\n",
              "      border-top-color: var(--fill-color);\n",
              "    }\n",
              "    30% {\n",
              "      border-color: transparent;\n",
              "      border-left-color: var(--fill-color);\n",
              "      border-top-color: var(--fill-color);\n",
              "      border-right-color: var(--fill-color);\n",
              "    }\n",
              "    40% {\n",
              "      border-color: transparent;\n",
              "      border-right-color: var(--fill-color);\n",
              "      border-top-color: var(--fill-color);\n",
              "    }\n",
              "    60% {\n",
              "      border-color: transparent;\n",
              "      border-right-color: var(--fill-color);\n",
              "    }\n",
              "    80% {\n",
              "      border-color: transparent;\n",
              "      border-right-color: var(--fill-color);\n",
              "      border-bottom-color: var(--fill-color);\n",
              "    }\n",
              "    90% {\n",
              "      border-color: transparent;\n",
              "      border-bottom-color: var(--fill-color);\n",
              "    }\n",
              "  }\n",
              "</style>\n",
              "\n",
              "  <script>\n",
              "    async function quickchart(key) {\n",
              "      const quickchartButtonEl =\n",
              "        document.querySelector('#' + key + ' button');\n",
              "      quickchartButtonEl.disabled = true;  // To prevent multiple clicks.\n",
              "      quickchartButtonEl.classList.add('colab-df-spinner');\n",
              "      try {\n",
              "        const charts = await google.colab.kernel.invokeFunction(\n",
              "            'suggestCharts', [key], {});\n",
              "      } catch (error) {\n",
              "        console.error('Error during call to suggestCharts:', error);\n",
              "      }\n",
              "      quickchartButtonEl.classList.remove('colab-df-spinner');\n",
              "      quickchartButtonEl.classList.add('colab-df-quickchart-complete');\n",
              "    }\n",
              "    (() => {\n",
              "      let quickchartButtonEl =\n",
              "        document.querySelector('#df-f573216c-6247-47f2-ba9d-dcdabb057d9a button');\n",
              "      quickchartButtonEl.style.display =\n",
              "        google.colab.kernel.accessAllowed ? 'block' : 'none';\n",
              "    })();\n",
              "  </script>\n",
              "</div>\n",
              "\n",
              "    </div>\n",
              "  </div>\n"
            ]
          },
          "metadata": {},
          "execution_count": 220
        }
      ]
    },
    {
      "cell_type": "code",
      "source": [
        "data.sort_values(by=\"Id\" , ascending=False)"
      ],
      "metadata": {
        "colab": {
          "base_uri": "https://localhost:8080/",
          "height": 424
        },
        "id": "D9T0C75ZxVMp",
        "outputId": "f323f0b0-2fa9-4c5e-f2ff-6ac8385726de"
      },
      "execution_count": null,
      "outputs": [
        {
          "output_type": "execute_result",
          "data": {
            "text/plain": [
              "      Id  SepalLengthCm  SepalWidthCm  PetalLengthCm  PetalWidthCm  \\\n",
              "149  150            5.9           3.0            5.1           1.8   \n",
              "148  149            6.2           3.4            5.4           2.3   \n",
              "147  148            6.5           3.0            5.2           2.0   \n",
              "146  147            6.3           2.5            5.0           1.9   \n",
              "145  146            6.7           3.0            5.2           2.3   \n",
              "..   ...            ...           ...            ...           ...   \n",
              "4      5            5.0           3.6            1.4           0.2   \n",
              "3      4            4.6           3.1            1.5           0.2   \n",
              "2      3            4.7           3.2            1.3           0.2   \n",
              "1      2            4.9           3.0            1.4           0.2   \n",
              "0      1            5.1           3.5            1.4           0.2   \n",
              "\n",
              "            Species  \n",
              "149  Iris-virginica  \n",
              "148  Iris-virginica  \n",
              "147  Iris-virginica  \n",
              "146  Iris-virginica  \n",
              "145  Iris-virginica  \n",
              "..              ...  \n",
              "4       Iris-setosa  \n",
              "3       Iris-setosa  \n",
              "2       Iris-setosa  \n",
              "1       Iris-setosa  \n",
              "0       Iris-setosa  \n",
              "\n",
              "[150 rows x 6 columns]"
            ],
            "text/html": [
              "\n",
              "  <div id=\"df-37d73b1e-dda8-4f19-9371-f5079af9cb42\" class=\"colab-df-container\">\n",
              "    <div>\n",
              "<style scoped>\n",
              "    .dataframe tbody tr th:only-of-type {\n",
              "        vertical-align: middle;\n",
              "    }\n",
              "\n",
              "    .dataframe tbody tr th {\n",
              "        vertical-align: top;\n",
              "    }\n",
              "\n",
              "    .dataframe thead th {\n",
              "        text-align: right;\n",
              "    }\n",
              "</style>\n",
              "<table border=\"1\" class=\"dataframe\">\n",
              "  <thead>\n",
              "    <tr style=\"text-align: right;\">\n",
              "      <th></th>\n",
              "      <th>Id</th>\n",
              "      <th>SepalLengthCm</th>\n",
              "      <th>SepalWidthCm</th>\n",
              "      <th>PetalLengthCm</th>\n",
              "      <th>PetalWidthCm</th>\n",
              "      <th>Species</th>\n",
              "    </tr>\n",
              "  </thead>\n",
              "  <tbody>\n",
              "    <tr>\n",
              "      <th>149</th>\n",
              "      <td>150</td>\n",
              "      <td>5.9</td>\n",
              "      <td>3.0</td>\n",
              "      <td>5.1</td>\n",
              "      <td>1.8</td>\n",
              "      <td>Iris-virginica</td>\n",
              "    </tr>\n",
              "    <tr>\n",
              "      <th>148</th>\n",
              "      <td>149</td>\n",
              "      <td>6.2</td>\n",
              "      <td>3.4</td>\n",
              "      <td>5.4</td>\n",
              "      <td>2.3</td>\n",
              "      <td>Iris-virginica</td>\n",
              "    </tr>\n",
              "    <tr>\n",
              "      <th>147</th>\n",
              "      <td>148</td>\n",
              "      <td>6.5</td>\n",
              "      <td>3.0</td>\n",
              "      <td>5.2</td>\n",
              "      <td>2.0</td>\n",
              "      <td>Iris-virginica</td>\n",
              "    </tr>\n",
              "    <tr>\n",
              "      <th>146</th>\n",
              "      <td>147</td>\n",
              "      <td>6.3</td>\n",
              "      <td>2.5</td>\n",
              "      <td>5.0</td>\n",
              "      <td>1.9</td>\n",
              "      <td>Iris-virginica</td>\n",
              "    </tr>\n",
              "    <tr>\n",
              "      <th>145</th>\n",
              "      <td>146</td>\n",
              "      <td>6.7</td>\n",
              "      <td>3.0</td>\n",
              "      <td>5.2</td>\n",
              "      <td>2.3</td>\n",
              "      <td>Iris-virginica</td>\n",
              "    </tr>\n",
              "    <tr>\n",
              "      <th>...</th>\n",
              "      <td>...</td>\n",
              "      <td>...</td>\n",
              "      <td>...</td>\n",
              "      <td>...</td>\n",
              "      <td>...</td>\n",
              "      <td>...</td>\n",
              "    </tr>\n",
              "    <tr>\n",
              "      <th>4</th>\n",
              "      <td>5</td>\n",
              "      <td>5.0</td>\n",
              "      <td>3.6</td>\n",
              "      <td>1.4</td>\n",
              "      <td>0.2</td>\n",
              "      <td>Iris-setosa</td>\n",
              "    </tr>\n",
              "    <tr>\n",
              "      <th>3</th>\n",
              "      <td>4</td>\n",
              "      <td>4.6</td>\n",
              "      <td>3.1</td>\n",
              "      <td>1.5</td>\n",
              "      <td>0.2</td>\n",
              "      <td>Iris-setosa</td>\n",
              "    </tr>\n",
              "    <tr>\n",
              "      <th>2</th>\n",
              "      <td>3</td>\n",
              "      <td>4.7</td>\n",
              "      <td>3.2</td>\n",
              "      <td>1.3</td>\n",
              "      <td>0.2</td>\n",
              "      <td>Iris-setosa</td>\n",
              "    </tr>\n",
              "    <tr>\n",
              "      <th>1</th>\n",
              "      <td>2</td>\n",
              "      <td>4.9</td>\n",
              "      <td>3.0</td>\n",
              "      <td>1.4</td>\n",
              "      <td>0.2</td>\n",
              "      <td>Iris-setosa</td>\n",
              "    </tr>\n",
              "    <tr>\n",
              "      <th>0</th>\n",
              "      <td>1</td>\n",
              "      <td>5.1</td>\n",
              "      <td>3.5</td>\n",
              "      <td>1.4</td>\n",
              "      <td>0.2</td>\n",
              "      <td>Iris-setosa</td>\n",
              "    </tr>\n",
              "  </tbody>\n",
              "</table>\n",
              "<p>150 rows × 6 columns</p>\n",
              "</div>\n",
              "    <div class=\"colab-df-buttons\">\n",
              "\n",
              "  <div class=\"colab-df-container\">\n",
              "    <button class=\"colab-df-convert\" onclick=\"convertToInteractive('df-37d73b1e-dda8-4f19-9371-f5079af9cb42')\"\n",
              "            title=\"Convert this dataframe to an interactive table.\"\n",
              "            style=\"display:none;\">\n",
              "\n",
              "  <svg xmlns=\"http://www.w3.org/2000/svg\" height=\"24px\" viewBox=\"0 -960 960 960\">\n",
              "    <path d=\"M120-120v-720h720v720H120Zm60-500h600v-160H180v160Zm220 220h160v-160H400v160Zm0 220h160v-160H400v160ZM180-400h160v-160H180v160Zm440 0h160v-160H620v160ZM180-180h160v-160H180v160Zm440 0h160v-160H620v160Z\"/>\n",
              "  </svg>\n",
              "    </button>\n",
              "\n",
              "  <style>\n",
              "    .colab-df-container {\n",
              "      display:flex;\n",
              "      gap: 12px;\n",
              "    }\n",
              "\n",
              "    .colab-df-convert {\n",
              "      background-color: #E8F0FE;\n",
              "      border: none;\n",
              "      border-radius: 50%;\n",
              "      cursor: pointer;\n",
              "      display: none;\n",
              "      fill: #1967D2;\n",
              "      height: 32px;\n",
              "      padding: 0 0 0 0;\n",
              "      width: 32px;\n",
              "    }\n",
              "\n",
              "    .colab-df-convert:hover {\n",
              "      background-color: #E2EBFA;\n",
              "      box-shadow: 0px 1px 2px rgba(60, 64, 67, 0.3), 0px 1px 3px 1px rgba(60, 64, 67, 0.15);\n",
              "      fill: #174EA6;\n",
              "    }\n",
              "\n",
              "    .colab-df-buttons div {\n",
              "      margin-bottom: 4px;\n",
              "    }\n",
              "\n",
              "    [theme=dark] .colab-df-convert {\n",
              "      background-color: #3B4455;\n",
              "      fill: #D2E3FC;\n",
              "    }\n",
              "\n",
              "    [theme=dark] .colab-df-convert:hover {\n",
              "      background-color: #434B5C;\n",
              "      box-shadow: 0px 1px 3px 1px rgba(0, 0, 0, 0.15);\n",
              "      filter: drop-shadow(0px 1px 2px rgba(0, 0, 0, 0.3));\n",
              "      fill: #FFFFFF;\n",
              "    }\n",
              "  </style>\n",
              "\n",
              "    <script>\n",
              "      const buttonEl =\n",
              "        document.querySelector('#df-37d73b1e-dda8-4f19-9371-f5079af9cb42 button.colab-df-convert');\n",
              "      buttonEl.style.display =\n",
              "        google.colab.kernel.accessAllowed ? 'block' : 'none';\n",
              "\n",
              "      async function convertToInteractive(key) {\n",
              "        const element = document.querySelector('#df-37d73b1e-dda8-4f19-9371-f5079af9cb42');\n",
              "        const dataTable =\n",
              "          await google.colab.kernel.invokeFunction('convertToInteractive',\n",
              "                                                    [key], {});\n",
              "        if (!dataTable) return;\n",
              "\n",
              "        const docLinkHtml = 'Like what you see? Visit the ' +\n",
              "          '<a target=\"_blank\" href=https://colab.research.google.com/notebooks/data_table.ipynb>data table notebook</a>'\n",
              "          + ' to learn more about interactive tables.';\n",
              "        element.innerHTML = '';\n",
              "        dataTable['output_type'] = 'display_data';\n",
              "        await google.colab.output.renderOutput(dataTable, element);\n",
              "        const docLink = document.createElement('div');\n",
              "        docLink.innerHTML = docLinkHtml;\n",
              "        element.appendChild(docLink);\n",
              "      }\n",
              "    </script>\n",
              "  </div>\n",
              "\n",
              "\n",
              "<div id=\"df-ac084a81-8112-47b4-9ddd-ae7d8d0fe032\">\n",
              "  <button class=\"colab-df-quickchart\" onclick=\"quickchart('df-ac084a81-8112-47b4-9ddd-ae7d8d0fe032')\"\n",
              "            title=\"Suggest charts\"\n",
              "            style=\"display:none;\">\n",
              "\n",
              "<svg xmlns=\"http://www.w3.org/2000/svg\" height=\"24px\"viewBox=\"0 0 24 24\"\n",
              "     width=\"24px\">\n",
              "    <g>\n",
              "        <path d=\"M19 3H5c-1.1 0-2 .9-2 2v14c0 1.1.9 2 2 2h14c1.1 0 2-.9 2-2V5c0-1.1-.9-2-2-2zM9 17H7v-7h2v7zm4 0h-2V7h2v10zm4 0h-2v-4h2v4z\"/>\n",
              "    </g>\n",
              "</svg>\n",
              "  </button>\n",
              "\n",
              "<style>\n",
              "  .colab-df-quickchart {\n",
              "      --bg-color: #E8F0FE;\n",
              "      --fill-color: #1967D2;\n",
              "      --hover-bg-color: #E2EBFA;\n",
              "      --hover-fill-color: #174EA6;\n",
              "      --disabled-fill-color: #AAA;\n",
              "      --disabled-bg-color: #DDD;\n",
              "  }\n",
              "\n",
              "  [theme=dark] .colab-df-quickchart {\n",
              "      --bg-color: #3B4455;\n",
              "      --fill-color: #D2E3FC;\n",
              "      --hover-bg-color: #434B5C;\n",
              "      --hover-fill-color: #FFFFFF;\n",
              "      --disabled-bg-color: #3B4455;\n",
              "      --disabled-fill-color: #666;\n",
              "  }\n",
              "\n",
              "  .colab-df-quickchart {\n",
              "    background-color: var(--bg-color);\n",
              "    border: none;\n",
              "    border-radius: 50%;\n",
              "    cursor: pointer;\n",
              "    display: none;\n",
              "    fill: var(--fill-color);\n",
              "    height: 32px;\n",
              "    padding: 0;\n",
              "    width: 32px;\n",
              "  }\n",
              "\n",
              "  .colab-df-quickchart:hover {\n",
              "    background-color: var(--hover-bg-color);\n",
              "    box-shadow: 0 1px 2px rgba(60, 64, 67, 0.3), 0 1px 3px 1px rgba(60, 64, 67, 0.15);\n",
              "    fill: var(--button-hover-fill-color);\n",
              "  }\n",
              "\n",
              "  .colab-df-quickchart-complete:disabled,\n",
              "  .colab-df-quickchart-complete:disabled:hover {\n",
              "    background-color: var(--disabled-bg-color);\n",
              "    fill: var(--disabled-fill-color);\n",
              "    box-shadow: none;\n",
              "  }\n",
              "\n",
              "  .colab-df-spinner {\n",
              "    border: 2px solid var(--fill-color);\n",
              "    border-color: transparent;\n",
              "    border-bottom-color: var(--fill-color);\n",
              "    animation:\n",
              "      spin 1s steps(1) infinite;\n",
              "  }\n",
              "\n",
              "  @keyframes spin {\n",
              "    0% {\n",
              "      border-color: transparent;\n",
              "      border-bottom-color: var(--fill-color);\n",
              "      border-left-color: var(--fill-color);\n",
              "    }\n",
              "    20% {\n",
              "      border-color: transparent;\n",
              "      border-left-color: var(--fill-color);\n",
              "      border-top-color: var(--fill-color);\n",
              "    }\n",
              "    30% {\n",
              "      border-color: transparent;\n",
              "      border-left-color: var(--fill-color);\n",
              "      border-top-color: var(--fill-color);\n",
              "      border-right-color: var(--fill-color);\n",
              "    }\n",
              "    40% {\n",
              "      border-color: transparent;\n",
              "      border-right-color: var(--fill-color);\n",
              "      border-top-color: var(--fill-color);\n",
              "    }\n",
              "    60% {\n",
              "      border-color: transparent;\n",
              "      border-right-color: var(--fill-color);\n",
              "    }\n",
              "    80% {\n",
              "      border-color: transparent;\n",
              "      border-right-color: var(--fill-color);\n",
              "      border-bottom-color: var(--fill-color);\n",
              "    }\n",
              "    90% {\n",
              "      border-color: transparent;\n",
              "      border-bottom-color: var(--fill-color);\n",
              "    }\n",
              "  }\n",
              "</style>\n",
              "\n",
              "  <script>\n",
              "    async function quickchart(key) {\n",
              "      const quickchartButtonEl =\n",
              "        document.querySelector('#' + key + ' button');\n",
              "      quickchartButtonEl.disabled = true;  // To prevent multiple clicks.\n",
              "      quickchartButtonEl.classList.add('colab-df-spinner');\n",
              "      try {\n",
              "        const charts = await google.colab.kernel.invokeFunction(\n",
              "            'suggestCharts', [key], {});\n",
              "      } catch (error) {\n",
              "        console.error('Error during call to suggestCharts:', error);\n",
              "      }\n",
              "      quickchartButtonEl.classList.remove('colab-df-spinner');\n",
              "      quickchartButtonEl.classList.add('colab-df-quickchart-complete');\n",
              "    }\n",
              "    (() => {\n",
              "      let quickchartButtonEl =\n",
              "        document.querySelector('#df-ac084a81-8112-47b4-9ddd-ae7d8d0fe032 button');\n",
              "      quickchartButtonEl.style.display =\n",
              "        google.colab.kernel.accessAllowed ? 'block' : 'none';\n",
              "    })();\n",
              "  </script>\n",
              "</div>\n",
              "\n",
              "    </div>\n",
              "  </div>\n"
            ]
          },
          "metadata": {},
          "execution_count": 170
        }
      ]
    },
    {
      "cell_type": "code",
      "source": [
        "data.to_excel('iris.xlsx',index='False')"
      ],
      "metadata": {
        "id": "TudMsqVhxwUv"
      },
      "execution_count": null,
      "outputs": []
    },
    {
      "cell_type": "markdown",
      "source": [
        "# Matplotlib in Python\n",
        "\n",
        "* Matplotlib is a comprehensive library for creating static, animated, and interactive visualizations in Python. It offers:\n",
        "\n",
        "1. Versatile plotting capabilities: Generates various plot types (line, scatter, bar, histogram, pie, 3D, etc.).\n",
        "2. Customizable elements: Fine-tunes plots with labels, titles, legends, colors, markers, grids, and more.\n",
        "3. Integration with NumPy: Seamlessly works with NumPy arrays for data visualization.\n",
        "4. Multiple output formats: Saves plots as PNG, JPG, PDF, SVG, and interactive formats for web applications.\n",
        "\n",
        "Top Methods of Matplotlib Library:\n",
        "\n",
        "* `plt.plot()`: Creates line plots.\n",
        "* `plt.scatter()`: Creates scatter plots.\n",
        "* `plt.bar()`: Creates bar charts.\n",
        "* `plt.hist()`: Creates histograms.\n",
        "* `plt.pie()`: Creates pie charts.\n",
        "* `plt.subplots()`: Arranges multiple plots in a grid.\n",
        "* `plt.xlabel()`: Adds a label to the x-axis.\n",
        "* `plt.ylabel()`: Adds a label to the y-axis.\n"
      ],
      "metadata": {
        "id": "2nu8Fijsy3J7"
      }
    },
    {
      "cell_type": "code",
      "source": [
        "import matplotlib.pyplot as plt\n",
        "import seaborn as sns"
      ],
      "metadata": {
        "id": "6NNBolF6zS4j"
      },
      "execution_count": null,
      "outputs": []
    },
    {
      "cell_type": "code",
      "source": [
        "plt.figure(figsize=(8, 6))\n",
        "plt.scatter(x=data['SepalLengthCm'], y=data['PetalLengthCm'])\n",
        "plt.xlabel('Sepal Length (cm)')\n",
        "plt.ylabel('Petal Length (cm)')\n",
        "plt.title('Sepal Length vs Petal Length by Species')\n",
        "plt.show()\n"
      ],
      "metadata": {
        "colab": {
          "base_uri": "https://localhost:8080/",
          "height": 564
        },
        "id": "NGkOHNDoz4uy",
        "outputId": "d688c161-3db6-4401-e7f1-bcc0640f789f"
      },
      "execution_count": null,
      "outputs": [
        {
          "output_type": "display_data",
          "data": {
            "text/plain": [
              "<Figure size 800x600 with 1 Axes>"
            ],
            "image/png": "[encoded data removed]"
          },
          "metadata": {}
        }
      ]
    },
    {
      "cell_type": "code",
      "source": [
        "plt.figure(figsize=(8, 6))\n",
        "plt.scatter(data['SepalWidthCm'], data['PetalWidthCm'])\n",
        "plt.xlabel('Sepal Width (cm)')\n",
        "plt.ylabel('Petal Width (cm)')\n",
        "plt.title('Sepal Width vs Petal Width by Species')\n",
        "plt.show()"
      ],
      "metadata": {
        "colab": {
          "base_uri": "https://localhost:8080/",
          "height": 564
        },
        "id": "r2X1-ChPz9Yw",
        "outputId": "3db26929-e9a7-4679-9795-1414f62b89f4"
      },
      "execution_count": null,
      "outputs": [
        {
          "output_type": "display_data",
          "data": {
            "text/plain": [
              "<Figure size 800x600 with 1 Axes>"
            ],
            "image/png": "[encoded data removed]"
          },
          "metadata": {}
        }
      ]
    },
    {
      "cell_type": "code",
      "source": [
        "sns.FacetGrid(data, hue =\"Species\", #hue is number of types of values in column\n",
        "              height = 6).map(plt.scatter,\n",
        "                              'SepalLengthCm',\n",
        "                              'PetalLengthCm').add_legend()"
      ],
      "metadata": {
        "colab": {
          "base_uri": "https://localhost:8080/",
          "height": 624
        },
        "id": "RAPMB-G51v_C",
        "outputId": "5b95f030-0047-485a-9b4c-467437dcf845"
      },
      "execution_count": null,
      "outputs": [
        {
          "output_type": "execute_result",
          "data": {
            "text/plain": [
              "<seaborn.axisgrid.FacetGrid at 0x7b89e835a980>"
            ]
          },
          "metadata": {},
          "execution_count": 175
        },
        {
          "output_type": "display_data",
          "data": {
            "text/plain": [
              "<Figure size 743x600 with 1 Axes>"
            ],
            "image/png": "[encoded data removed]"
          },
          "metadata": {}
        }
      ]
    },
    {
      "cell_type": "code",
      "source": [
        "sns.jointplot(x=\"SepalLengthCm\", y=\"SepalWidthCm\", hue = \"Species\" ,data=data, size=5)\n",
        "plt.show()"
      ],
      "metadata": {
        "colab": {
          "base_uri": "https://localhost:8080/",
          "height": 607
        },
        "id": "_BvMTgKr2Rlp",
        "outputId": "963a87ab-2aba-4184-9aff-0626302715c2"
      },
      "execution_count": null,
      "outputs": [
        {
          "output_type": "display_data",
          "data": {
            "text/plain": [
              "<Figure size 600x600 with 3 Axes>"
            ],
            "image/png": "[encoded data removed]"
          },
          "metadata": {}
        }
      ]
    },
    {
      "cell_type": "code",
      "source": [
        "sns.jointplot(x=\"PetalLengthCm\", y=\"PetalWidthCm\", data=data, size=5)\n",
        "plt.show()"
      ],
      "metadata": {
        "colab": {
          "base_uri": "https://localhost:8080/",
          "height": 607
        },
        "id": "Zt41z55B2mVp",
        "outputId": "b158a9a1-69be-4723-a2d1-88fbfa4f9691"
      },
      "execution_count": null,
      "outputs": [
        {
          "output_type": "display_data",
          "data": {
            "text/plain": [
              "<Figure size 600x600 with 3 Axes>"
            ],
            "image/png": "[encoded data removed]"
          },
          "metadata": {}
        }
      ]
    },
    {
      "cell_type": "code",
      "source": [
        "sns.boxplot(x=\"Species\", y=\"PetalLengthCm\", data=data )\n",
        "plt.show()"
      ],
      "metadata": {
        "colab": {
          "base_uri": "https://localhost:8080/",
          "height": 449
        },
        "id": "tkLtP6Th3B7z",
        "outputId": "114b0341-2ba2-4734-c613-3d46b26bfd41"
      },
      "execution_count": null,
      "outputs": [
        {
          "output_type": "display_data",
          "data": {
            "text/plain": [
              "<Figure size 640x480 with 1 Axes>"
            ],
            "image/png": "[encoded data removed]"
          },
          "metadata": {}
        }
      ]
    },
    {
      "cell_type": "code",
      "source": [
        "sns.violinplot(x=\"Species\", y=\"PetalLengthCm\", data=data)\n",
        "plt.show()"
      ],
      "metadata": {
        "colab": {
          "base_uri": "https://localhost:8080/",
          "height": 449
        },
        "id": "yKpW1iAk3Ggu",
        "outputId": "d8e3bab5-5dda-4cfd-f333-19124c4216f5"
      },
      "execution_count": null,
      "outputs": [
        {
          "output_type": "display_data",
          "data": {
            "text/plain": [
              "<Figure size 640x480 with 1 Axes>"
            ],
            "image/png": "[encoded data removed]"
          },
          "metadata": {}
        }
      ]
    },
    {
      "cell_type": "code",
      "source": [
        "sns.FacetGrid(data, hue=\"Species\") \\\n",
        "   .map(sns.kdeplot, \"PetalLengthCm\") \\\n",
        "   .add_legend()\n",
        "plt.show()"
      ],
      "metadata": {
        "colab": {
          "base_uri": "https://localhost:8080/",
          "height": 307
        },
        "id": "ygkA3Q8s3OX_",
        "outputId": "2ea8169b-818e-4d24-9160-096f0db71ce0"
      },
      "execution_count": null,
      "outputs": [
        {
          "output_type": "display_data",
          "data": {
            "text/plain": [
              "<Figure size 443x300 with 1 Axes>"
            ],
            "image/png": "[encoded data removed]"
          },
          "metadata": {}
        }
      ]
    },
    {
      "cell_type": "code",
      "source": [
        "sns.pairplot(data.drop(\"Id\", axis=1), hue=\"Species\")\n",
        "plt.show()"
      ],
      "metadata": {
        "colab": {
          "base_uri": "https://localhost:8080/",
          "height": 1000
        },
        "id": "XhZGbuYT3Z3u",
        "outputId": "eed14731-3abe-4c66-e39d-843c7fa78c49"
      },
      "execution_count": null,
      "outputs": [
        {
          "output_type": "display_data",
          "data": {
            "text/plain": [
              "<Figure size 1143x1000 with 20 Axes>"
            ],
            "image/png": "[encoded data removed]"
          },
          "metadata": {}
        }
      ]
    },
    {
      "cell_type": "markdown",
      "source": [
        "# Thank You\n",
        "\n",
        "For futher doubts, you can reach out to me on:\n",
        "\n",
        "Linkedin: [Linkedin ID](https://www.linkedin.com/in/burhanuddin-hariyanawala-218446227/) <br>\n",
        "Email: burhanuddin.412019.cs@mhssce.ac.in"
      ],
      "metadata": {
        "id": "dmcyIm3q3n_N"
      }
    },
    {
      "cell_type": "code",
      "source": [],
      "metadata": {
        "id": "80k-HZ_23gnm"
      },
      "execution_count": null,
      "outputs": []
    }
  ]
}